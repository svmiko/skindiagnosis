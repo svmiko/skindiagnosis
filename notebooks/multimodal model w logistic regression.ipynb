{
 "cells": [
  {
   "cell_type": "markdown",
   "metadata": {},
   "source": [
    "# Text Model"
   ]
  },
  {
   "cell_type": "code",
   "execution_count": 2,
   "metadata": {},
   "outputs": [],
   "source": [
    "import pandas as pd\n",
    "from sklearn.model_selection import train_test_split\n",
    "from sklearn.feature_extraction.text import TfidfVectorizer\n",
    "from sklearn.preprocessing import LabelEncoder\n",
    "\n"
   ]
  },
  {
   "cell_type": "code",
   "execution_count": 3,
   "metadata": {},
   "outputs": [
    {
     "data": {
      "text/html": [
       "<div>\n",
       "<style scoped>\n",
       "    .dataframe tbody tr th:only-of-type {\n",
       "        vertical-align: middle;\n",
       "    }\n",
       "\n",
       "    .dataframe tbody tr th {\n",
       "        vertical-align: top;\n",
       "    }\n",
       "\n",
       "    .dataframe thead th {\n",
       "        text-align: right;\n",
       "    }\n",
       "</style>\n",
       "<table border=\"1\" class=\"dataframe\">\n",
       "  <thead>\n",
       "    <tr style=\"text-align: right;\">\n",
       "      <th></th>\n",
       "      <th>Unnamed: 0</th>\n",
       "      <th>Disease</th>\n",
       "      <th>Symptoms</th>\n",
       "    </tr>\n",
       "  </thead>\n",
       "  <tbody>\n",
       "    <tr>\n",
       "      <th>0</th>\n",
       "      <td>148</td>\n",
       "      <td>Atopic Dermatitis</td>\n",
       "      <td>Breast eczema  may affect the nipples, areolae...</td>\n",
       "    </tr>\n",
       "    <tr>\n",
       "      <th>1</th>\n",
       "      <td>150</td>\n",
       "      <td>Atopic Dermatitis</td>\n",
       "      <td>\\nSymptoms refer to the sensations that people...</td>\n",
       "    </tr>\n",
       "    <tr>\n",
       "      <th>2</th>\n",
       "      <td>201</td>\n",
       "      <td>Atopic Dermatitis</td>\n",
       "      <td>Dry, itchy skin\\nThick, rough skin that looks ...</td>\n",
       "    </tr>\n",
       "    <tr>\n",
       "      <th>3</th>\n",
       "      <td>151</td>\n",
       "      <td>Atopic Dermatitis</td>\n",
       "      <td>The major symptoms of XLI include scaling of t...</td>\n",
       "    </tr>\n",
       "    <tr>\n",
       "      <th>4</th>\n",
       "      <td>153</td>\n",
       "      <td>Atopic Dermatitis</td>\n",
       "      <td>The dry scaling appearance is most noticeable ...</td>\n",
       "    </tr>\n",
       "  </tbody>\n",
       "</table>\n",
       "</div>"
      ],
      "text/plain": [
       "   Unnamed: 0            Disease  \\\n",
       "0         148  Atopic Dermatitis   \n",
       "1         150  Atopic Dermatitis   \n",
       "2         201  Atopic Dermatitis   \n",
       "3         151  Atopic Dermatitis   \n",
       "4         153  Atopic Dermatitis   \n",
       "\n",
       "                                            Symptoms  \n",
       "0  Breast eczema  may affect the nipples, areolae...  \n",
       "1  \\nSymptoms refer to the sensations that people...  \n",
       "2  Dry, itchy skin\\nThick, rough skin that looks ...  \n",
       "3  The major symptoms of XLI include scaling of t...  \n",
       "4  The dry scaling appearance is most noticeable ...  "
      ]
     },
     "execution_count": 3,
     "metadata": {},
     "output_type": "execute_result"
    }
   ],
   "source": [
    "# Load your dataset\n",
    "train_t = pd.read_csv(\"../data/train_symp.csv\",encoding = 'unicode_escape')\n",
    "test_t = pd.read_csv(\"../data/test_symp.csv\",encoding = 'unicode_escape')\n",
    "train_t.head()\n",
    "test_t.head()"
   ]
  },
  {
   "cell_type": "code",
   "execution_count": 4,
   "metadata": {},
   "outputs": [
    {
     "data": {
      "text/html": [
       "<div>\n",
       "<style scoped>\n",
       "    .dataframe tbody tr th:only-of-type {\n",
       "        vertical-align: middle;\n",
       "    }\n",
       "\n",
       "    .dataframe tbody tr th {\n",
       "        vertical-align: top;\n",
       "    }\n",
       "\n",
       "    .dataframe thead th {\n",
       "        text-align: right;\n",
       "    }\n",
       "</style>\n",
       "<table border=\"1\" class=\"dataframe\">\n",
       "  <thead>\n",
       "    <tr style=\"text-align: right;\">\n",
       "      <th></th>\n",
       "      <th>Disease</th>\n",
       "      <th>Symptoms</th>\n",
       "    </tr>\n",
       "  </thead>\n",
       "  <tbody>\n",
       "    <tr>\n",
       "      <th>0</th>\n",
       "      <td>Atopic Dermatitis</td>\n",
       "      <td>Breast eczema  may affect the nipples, areolae...</td>\n",
       "    </tr>\n",
       "    <tr>\n",
       "      <th>1</th>\n",
       "      <td>Atopic Dermatitis</td>\n",
       "      <td>\\nSymptoms refer to the sensations that people...</td>\n",
       "    </tr>\n",
       "    <tr>\n",
       "      <th>2</th>\n",
       "      <td>Atopic Dermatitis</td>\n",
       "      <td>Dry, itchy skin\\nThick, rough skin that looks ...</td>\n",
       "    </tr>\n",
       "    <tr>\n",
       "      <th>3</th>\n",
       "      <td>Atopic Dermatitis</td>\n",
       "      <td>The major symptoms of XLI include scaling of t...</td>\n",
       "    </tr>\n",
       "    <tr>\n",
       "      <th>4</th>\n",
       "      <td>Atopic Dermatitis</td>\n",
       "      <td>The dry scaling appearance is most noticeable ...</td>\n",
       "    </tr>\n",
       "    <tr>\n",
       "      <th>...</th>\n",
       "      <td>...</td>\n",
       "      <td>...</td>\n",
       "    </tr>\n",
       "    <tr>\n",
       "      <th>77</th>\n",
       "      <td>Seborrheic Keratoses and other Benign Tumors</td>\n",
       "      <td>Symptoms of seborrheic keratosis are skin grow...</td>\n",
       "    </tr>\n",
       "    <tr>\n",
       "      <th>78</th>\n",
       "      <td>Seborrheic Keratoses and other Benign Tumors</td>\n",
       "      <td>Seborrheic keratoses can occur anywhere on the...</td>\n",
       "    </tr>\n",
       "    <tr>\n",
       "      <th>79</th>\n",
       "      <td>Seborrheic Keratoses and other Benign Tumors</td>\n",
       "      <td>Dermatofibromas are most often found on the ar...</td>\n",
       "    </tr>\n",
       "    <tr>\n",
       "      <th>80</th>\n",
       "      <td>Seborrheic Keratoses and other Benign Tumors</td>\n",
       "      <td>Rosacea is limited to the face and scalp and...</td>\n",
       "    </tr>\n",
       "    <tr>\n",
       "      <th>81</th>\n",
       "      <td>Seborrheic Keratoses and other Benign Tumors</td>\n",
       "      <td>A round or oval-shaped waxy or rough bump, typ...</td>\n",
       "    </tr>\n",
       "  </tbody>\n",
       "</table>\n",
       "<p>82 rows × 2 columns</p>\n",
       "</div>"
      ],
      "text/plain": [
       "                                         Disease  \\\n",
       "0                              Atopic Dermatitis   \n",
       "1                              Atopic Dermatitis   \n",
       "2                              Atopic Dermatitis   \n",
       "3                              Atopic Dermatitis   \n",
       "4                              Atopic Dermatitis   \n",
       "..                                           ...   \n",
       "77  Seborrheic Keratoses and other Benign Tumors   \n",
       "78  Seborrheic Keratoses and other Benign Tumors   \n",
       "79  Seborrheic Keratoses and other Benign Tumors   \n",
       "80  Seborrheic Keratoses and other Benign Tumors   \n",
       "81  Seborrheic Keratoses and other Benign Tumors   \n",
       "\n",
       "                                             Symptoms  \n",
       "0   Breast eczema  may affect the nipples, areolae...  \n",
       "1   \\nSymptoms refer to the sensations that people...  \n",
       "2   Dry, itchy skin\\nThick, rough skin that looks ...  \n",
       "3   The major symptoms of XLI include scaling of t...  \n",
       "4   The dry scaling appearance is most noticeable ...  \n",
       "..                                                ...  \n",
       "77  Symptoms of seborrheic keratosis are skin grow...  \n",
       "78  Seborrheic keratoses can occur anywhere on the...  \n",
       "79  Dermatofibromas are most often found on the ar...  \n",
       "80    Rosacea is limited to the face and scalp and...  \n",
       "81  A round or oval-shaped waxy or rough bump, typ...  \n",
       "\n",
       "[82 rows x 2 columns]"
      ]
     },
     "execution_count": 4,
     "metadata": {},
     "output_type": "execute_result"
    }
   ],
   "source": [
    "train_t = train_t[['Disease','Symptoms']]\n",
    "test_t = test_t[['Disease','Symptoms']]\n",
    "\n",
    "train_t.dropna()\n",
    "test_t.dropna()\n"
   ]
  },
  {
   "cell_type": "code",
   "execution_count": 5,
   "metadata": {},
   "outputs": [
    {
     "data": {
      "text/html": [
       "<div>\n",
       "<style scoped>\n",
       "    .dataframe tbody tr th:only-of-type {\n",
       "        vertical-align: middle;\n",
       "    }\n",
       "\n",
       "    .dataframe tbody tr th {\n",
       "        vertical-align: top;\n",
       "    }\n",
       "\n",
       "    .dataframe thead th {\n",
       "        text-align: right;\n",
       "    }\n",
       "</style>\n",
       "<table border=\"1\" class=\"dataframe\">\n",
       "  <thead>\n",
       "    <tr style=\"text-align: right;\">\n",
       "      <th></th>\n",
       "      <th>Disease</th>\n",
       "      <th>Symptoms</th>\n",
       "    </tr>\n",
       "  </thead>\n",
       "  <tbody>\n",
       "    <tr>\n",
       "      <th>0</th>\n",
       "      <td>Atopic Dermatitis</td>\n",
       "      <td>Symptoms of keratosis pilaris may include:You ...</td>\n",
       "    </tr>\n",
       "    <tr>\n",
       "      <th>1</th>\n",
       "      <td>Atopic Dermatitis</td>\n",
       "      <td>Keratosis pilaris can occur at any age, but it...</td>\n",
       "    </tr>\n",
       "    <tr>\n",
       "      <th>2</th>\n",
       "      <td>Atopic Dermatitis</td>\n",
       "      <td>Actinic keratoses vary in appearance. Symptoms...</td>\n",
       "    </tr>\n",
       "    <tr>\n",
       "      <th>3</th>\n",
       "      <td>Atopic Dermatitis</td>\n",
       "      <td>Symptoms of seborrheic keratosis are skin grow...</td>\n",
       "    </tr>\n",
       "    <tr>\n",
       "      <th>4</th>\n",
       "      <td>Atopic Dermatitis</td>\n",
       "      <td>Symptoms may include:Small bumps that look lik...</td>\n",
       "    </tr>\n",
       "    <tr>\n",
       "      <th>...</th>\n",
       "      <td>...</td>\n",
       "      <td>...</td>\n",
       "    </tr>\n",
       "    <tr>\n",
       "      <th>326</th>\n",
       "      <td>Seborrheic Keratoses and other Benign Tumors</td>\n",
       "      <td>On an earlobe, youÂll likely see a round, sol...</td>\n",
       "    </tr>\n",
       "    <tr>\n",
       "      <th>327</th>\n",
       "      <td>Seborrheic Keratoses and other Benign Tumors</td>\n",
       "      <td>A keratoacanthoma appears and grows rapidly ov...</td>\n",
       "    </tr>\n",
       "    <tr>\n",
       "      <th>328</th>\n",
       "      <td>Seborrheic Keratoses and other Benign Tumors</td>\n",
       "      <td>Feeling a lump just beneath the skin\\nIt may b...</td>\n",
       "    </tr>\n",
       "    <tr>\n",
       "      <th>329</th>\n",
       "      <td>Seborrheic Keratoses and other Benign Tumors</td>\n",
       "      <td>The growths can:\\n\\nBe slightly raised from th...</td>\n",
       "    </tr>\n",
       "    <tr>\n",
       "      <th>330</th>\n",
       "      <td>Seborrheic Keratoses and other Benign Tumors</td>\n",
       "      <td>Sebaceous hyperplasia causes yellowish or fles...</td>\n",
       "    </tr>\n",
       "  </tbody>\n",
       "</table>\n",
       "<p>331 rows × 2 columns</p>\n",
       "</div>"
      ],
      "text/plain": [
       "                                          Disease  \\\n",
       "0                               Atopic Dermatitis   \n",
       "1                               Atopic Dermatitis   \n",
       "2                               Atopic Dermatitis   \n",
       "3                               Atopic Dermatitis   \n",
       "4                               Atopic Dermatitis   \n",
       "..                                            ...   \n",
       "326  Seborrheic Keratoses and other Benign Tumors   \n",
       "327  Seborrheic Keratoses and other Benign Tumors   \n",
       "328  Seborrheic Keratoses and other Benign Tumors   \n",
       "329  Seborrheic Keratoses and other Benign Tumors   \n",
       "330  Seborrheic Keratoses and other Benign Tumors   \n",
       "\n",
       "                                              Symptoms  \n",
       "0    Symptoms of keratosis pilaris may include:You ...  \n",
       "1    Keratosis pilaris can occur at any age, but it...  \n",
       "2    Actinic keratoses vary in appearance. Symptoms...  \n",
       "3    Symptoms of seborrheic keratosis are skin grow...  \n",
       "4    Symptoms may include:Small bumps that look lik...  \n",
       "..                                                 ...  \n",
       "326  On an earlobe, youÂll likely see a round, sol...  \n",
       "327  A keratoacanthoma appears and grows rapidly ov...  \n",
       "328  Feeling a lump just beneath the skin\\nIt may b...  \n",
       "329  The growths can:\\n\\nBe slightly raised from th...  \n",
       "330  Sebaceous hyperplasia causes yellowish or fles...  \n",
       "\n",
       "[331 rows x 2 columns]"
      ]
     },
     "execution_count": 5,
     "metadata": {},
     "output_type": "execute_result"
    }
   ],
   "source": [
    "train_t"
   ]
  },
  {
   "cell_type": "code",
   "execution_count": 6,
   "metadata": {},
   "outputs": [
    {
     "data": {
      "text/html": [
       "<div>\n",
       "<style scoped>\n",
       "    .dataframe tbody tr th:only-of-type {\n",
       "        vertical-align: middle;\n",
       "    }\n",
       "\n",
       "    .dataframe tbody tr th {\n",
       "        vertical-align: top;\n",
       "    }\n",
       "\n",
       "    .dataframe thead th {\n",
       "        text-align: right;\n",
       "    }\n",
       "</style>\n",
       "<table border=\"1\" class=\"dataframe\">\n",
       "  <thead>\n",
       "    <tr style=\"text-align: right;\">\n",
       "      <th></th>\n",
       "      <th>Symptoms</th>\n",
       "    </tr>\n",
       "    <tr>\n",
       "      <th>Disease</th>\n",
       "      <th></th>\n",
       "    </tr>\n",
       "  </thead>\n",
       "  <tbody>\n",
       "    <tr>\n",
       "      <th>Atopic Dermatitis</th>\n",
       "      <td>32</td>\n",
       "    </tr>\n",
       "    <tr>\n",
       "      <th>Lupus and other Connective Tissue diseases</th>\n",
       "      <td>17</td>\n",
       "    </tr>\n",
       "    <tr>\n",
       "      <th>Scabies Lyme Diease and other Infestations and Bites</th>\n",
       "      <td>25</td>\n",
       "    </tr>\n",
       "    <tr>\n",
       "      <th>Seborrheic Keratoses and other Benign Tumors</th>\n",
       "      <td>8</td>\n",
       "    </tr>\n",
       "  </tbody>\n",
       "</table>\n",
       "</div>"
      ],
      "text/plain": [
       "                                                    Symptoms\n",
       "Disease                                                     \n",
       "Atopic Dermatitis                                         32\n",
       "Lupus and other Connective Tissue diseases                17\n",
       "Scabies Lyme Diease and other Infestations and ...        25\n",
       "Seborrheic Keratoses and other Benign Tumors               8"
      ]
     },
     "execution_count": 6,
     "metadata": {},
     "output_type": "execute_result"
    }
   ],
   "source": [
    "test_t.groupby(test_t['Disease']).count()"
   ]
  },
  {
   "cell_type": "code",
   "execution_count": 7,
   "metadata": {},
   "outputs": [
    {
     "data": {
      "text/html": [
       "<div>\n",
       "<style scoped>\n",
       "    .dataframe tbody tr th:only-of-type {\n",
       "        vertical-align: middle;\n",
       "    }\n",
       "\n",
       "    .dataframe tbody tr th {\n",
       "        vertical-align: top;\n",
       "    }\n",
       "\n",
       "    .dataframe thead th {\n",
       "        text-align: right;\n",
       "    }\n",
       "</style>\n",
       "<table border=\"1\" class=\"dataframe\">\n",
       "  <thead>\n",
       "    <tr style=\"text-align: right;\">\n",
       "      <th></th>\n",
       "      <th>Symptoms</th>\n",
       "    </tr>\n",
       "    <tr>\n",
       "      <th>Disease</th>\n",
       "      <th></th>\n",
       "    </tr>\n",
       "  </thead>\n",
       "  <tbody>\n",
       "    <tr>\n",
       "      <th>Atopic Dermatitis</th>\n",
       "      <td>128</td>\n",
       "    </tr>\n",
       "    <tr>\n",
       "      <th>Lupus and other Connective Tissue diseases</th>\n",
       "      <td>68</td>\n",
       "    </tr>\n",
       "    <tr>\n",
       "      <th>Scabies Lyme Diease and other Infestations and Bites</th>\n",
       "      <td>102</td>\n",
       "    </tr>\n",
       "    <tr>\n",
       "      <th>Seborrheic Keratoses and other Benign Tumors</th>\n",
       "      <td>33</td>\n",
       "    </tr>\n",
       "  </tbody>\n",
       "</table>\n",
       "</div>"
      ],
      "text/plain": [
       "                                                    Symptoms\n",
       "Disease                                                     \n",
       "Atopic Dermatitis                                        128\n",
       "Lupus and other Connective Tissue diseases                68\n",
       "Scabies Lyme Diease and other Infestations and ...       102\n",
       "Seborrheic Keratoses and other Benign Tumors              33"
      ]
     },
     "execution_count": 7,
     "metadata": {},
     "output_type": "execute_result"
    }
   ],
   "source": [
    "train_t.groupby(train_t['Disease']).count()"
   ]
  },
  {
   "cell_type": "code",
   "execution_count": 8,
   "metadata": {},
   "outputs": [],
   "source": [
    "def process(df):\n",
    "    df['Symptoms'] = df['Symptoms'].str.lower()  # Convert to lower case\n",
    "    df['Symptoms'] = df['Symptoms'].str.replace('[^\\w\\s]', '')  # Remove punctuation\n",
    "    df['Symptoms'] = df['Symptoms'].str.replace('\\n', ' ')  # Remove punctuation\n",
    "    return df"
   ]
  },
  {
   "cell_type": "code",
   "execution_count": 9,
   "metadata": {},
   "outputs": [],
   "source": [
    "train_t = process(train_t)\n",
    "test_t = process(test_t)"
   ]
  },
  {
   "cell_type": "code",
   "execution_count": 10,
   "metadata": {},
   "outputs": [],
   "source": [
    "Xtrain = train_t['Symptoms']  # Features (text data)\n",
    "ytrain = train_t['Disease']     # Labels (class for each text entry)\n",
    "label_encoder = LabelEncoder()\n",
    "ytrain_e = label_encoder.fit_transform(ytrain)"
   ]
  },
  {
   "cell_type": "code",
   "execution_count": 11,
   "metadata": {},
   "outputs": [],
   "source": [
    "Xtest = test_t['Symptoms']  # Features (text data)\n",
    "ytest = test_t['Disease']     # Labels (class for each text entry)\n",
    "label_encoder = LabelEncoder()\n",
    "ytest_e = label_encoder.fit_transform(ytest)"
   ]
  },
  {
   "cell_type": "code",
   "execution_count": 65,
   "metadata": {},
   "outputs": [
    {
     "data": {
      "text/plain": [
       "0     breast eczema  may affect the nipples, areolae...\n",
       "1      symptoms refer to the sensations that people ...\n",
       "2     dry, itchy skin thick, rough skin that looks d...\n",
       "3     the major symptoms of xli include scaling of t...\n",
       "4     the dry scaling appearance is most noticeable ...\n",
       "                            ...                        \n",
       "77    symptoms of seborrheic keratosis are skin grow...\n",
       "78    seborrheic keratoses can occur anywhere on the...\n",
       "79    dermatofibromas are most often found on the ar...\n",
       "80      rosacea is limited to the face and scalp and...\n",
       "81    a round or oval-shaped waxy or rough bump, typ...\n",
       "Name: Symptoms, Length: 82, dtype: object"
      ]
     },
     "execution_count": 65,
     "metadata": {},
     "output_type": "execute_result"
    }
   ],
   "source": [
    "Xtest"
   ]
  },
  {
   "cell_type": "code",
   "execution_count": 66,
   "metadata": {},
   "outputs": [
    {
     "ename": "NameError",
     "evalue": "name 'Ytest' is not defined",
     "output_type": "error",
     "traceback": [
      "\u001b[0;31m---------------------------------------------------------------------------\u001b[0m",
      "\u001b[0;31mNameError\u001b[0m                                 Traceback (most recent call last)",
      "\u001b[1;32m/Users/sumiko/Desktop/git/skindiagnosis/notebooks/multimodal model draft copy.ipynb Cell 13\u001b[0m line \u001b[0;36m1\n\u001b[0;32m----> <a href='vscode-notebook-cell:/Users/sumiko/Desktop/git/skindiagnosis/notebooks/multimodal%20model%20draft%20copy.ipynb#Y106sZmlsZQ%3D%3D?line=0'>1</a>\u001b[0m Ytest\n",
      "\u001b[0;31mNameError\u001b[0m: name 'Ytest' is not defined"
     ]
    }
   ],
   "source": [
    "t"
   ]
  },
  {
   "cell_type": "code",
   "execution_count": 16,
   "metadata": {},
   "outputs": [
    {
     "data": {
      "text/plain": [
       "(82,)"
      ]
     },
     "execution_count": 16,
     "metadata": {},
     "output_type": "execute_result"
    }
   ],
   "source": [
    "Xtest.shape"
   ]
  },
  {
   "cell_type": "code",
   "execution_count": 17,
   "metadata": {},
   "outputs": [
    {
     "data": {
      "text/plain": [
       "(331,)"
      ]
     },
     "execution_count": 17,
     "metadata": {},
     "output_type": "execute_result"
    }
   ],
   "source": [
    "Xtrain.shape"
   ]
  },
  {
   "cell_type": "code",
   "execution_count": 12,
   "metadata": {},
   "outputs": [],
   "source": [
    "vectorizer = TfidfVectorizer(max_features=810)\n",
    "X_train_vectors = vectorizer.fit_transform(Xtrain.values.astype('U'))\n",
    "X_test_vectors = vectorizer.transform(Xtest.values.astype('U'))"
   ]
  },
  {
   "cell_type": "code",
   "execution_count": 13,
   "metadata": {},
   "outputs": [
    {
     "data": {
      "text/plain": [
       "<82x810 sparse matrix of type '<class 'numpy.float64'>'\n",
       "\twith 4533 stored elements in Compressed Sparse Row format>"
      ]
     },
     "execution_count": 13,
     "metadata": {},
     "output_type": "execute_result"
    }
   ],
   "source": [
    "X_test_vectors"
   ]
  },
  {
   "cell_type": "code",
   "execution_count": 14,
   "metadata": {},
   "outputs": [],
   "source": [
    "from sklearn.naive_bayes import MultinomialNB\n",
    "from sklearn.linear_model import LogisticRegression\n",
    "from sklearn import svm"
   ]
  },
  {
   "cell_type": "code",
   "execution_count": 15,
   "metadata": {},
   "outputs": [],
   "source": [
    "svmmodel = svm.SVC(kernel='linear', probability=True)  # SVC is often a good starting point"
   ]
  },
  {
   "cell_type": "code",
   "execution_count": 16,
   "metadata": {},
   "outputs": [
    {
     "data": {
      "text/html": [
       "<style>#sk-container-id-1 {color: black;}#sk-container-id-1 pre{padding: 0;}#sk-container-id-1 div.sk-toggleable {background-color: white;}#sk-container-id-1 label.sk-toggleable__label {cursor: pointer;display: block;width: 100%;margin-bottom: 0;padding: 0.3em;box-sizing: border-box;text-align: center;}#sk-container-id-1 label.sk-toggleable__label-arrow:before {content: \"▸\";float: left;margin-right: 0.25em;color: #696969;}#sk-container-id-1 label.sk-toggleable__label-arrow:hover:before {color: black;}#sk-container-id-1 div.sk-estimator:hover label.sk-toggleable__label-arrow:before {color: black;}#sk-container-id-1 div.sk-toggleable__content {max-height: 0;max-width: 0;overflow: hidden;text-align: left;background-color: #f0f8ff;}#sk-container-id-1 div.sk-toggleable__content pre {margin: 0.2em;color: black;border-radius: 0.25em;background-color: #f0f8ff;}#sk-container-id-1 input.sk-toggleable__control:checked~div.sk-toggleable__content {max-height: 200px;max-width: 100%;overflow: auto;}#sk-container-id-1 input.sk-toggleable__control:checked~label.sk-toggleable__label-arrow:before {content: \"▾\";}#sk-container-id-1 div.sk-estimator input.sk-toggleable__control:checked~label.sk-toggleable__label {background-color: #d4ebff;}#sk-container-id-1 div.sk-label input.sk-toggleable__control:checked~label.sk-toggleable__label {background-color: #d4ebff;}#sk-container-id-1 input.sk-hidden--visually {border: 0;clip: rect(1px 1px 1px 1px);clip: rect(1px, 1px, 1px, 1px);height: 1px;margin: -1px;overflow: hidden;padding: 0;position: absolute;width: 1px;}#sk-container-id-1 div.sk-estimator {font-family: monospace;background-color: #f0f8ff;border: 1px dotted black;border-radius: 0.25em;box-sizing: border-box;margin-bottom: 0.5em;}#sk-container-id-1 div.sk-estimator:hover {background-color: #d4ebff;}#sk-container-id-1 div.sk-parallel-item::after {content: \"\";width: 100%;border-bottom: 1px solid gray;flex-grow: 1;}#sk-container-id-1 div.sk-label:hover label.sk-toggleable__label {background-color: #d4ebff;}#sk-container-id-1 div.sk-serial::before {content: \"\";position: absolute;border-left: 1px solid gray;box-sizing: border-box;top: 0;bottom: 0;left: 50%;z-index: 0;}#sk-container-id-1 div.sk-serial {display: flex;flex-direction: column;align-items: center;background-color: white;padding-right: 0.2em;padding-left: 0.2em;position: relative;}#sk-container-id-1 div.sk-item {position: relative;z-index: 1;}#sk-container-id-1 div.sk-parallel {display: flex;align-items: stretch;justify-content: center;background-color: white;position: relative;}#sk-container-id-1 div.sk-item::before, #sk-container-id-1 div.sk-parallel-item::before {content: \"\";position: absolute;border-left: 1px solid gray;box-sizing: border-box;top: 0;bottom: 0;left: 50%;z-index: -1;}#sk-container-id-1 div.sk-parallel-item {display: flex;flex-direction: column;z-index: 1;position: relative;background-color: white;}#sk-container-id-1 div.sk-parallel-item:first-child::after {align-self: flex-end;width: 50%;}#sk-container-id-1 div.sk-parallel-item:last-child::after {align-self: flex-start;width: 50%;}#sk-container-id-1 div.sk-parallel-item:only-child::after {width: 0;}#sk-container-id-1 div.sk-dashed-wrapped {border: 1px dashed gray;margin: 0 0.4em 0.5em 0.4em;box-sizing: border-box;padding-bottom: 0.4em;background-color: white;}#sk-container-id-1 div.sk-label label {font-family: monospace;font-weight: bold;display: inline-block;line-height: 1.2em;}#sk-container-id-1 div.sk-label-container {text-align: center;}#sk-container-id-1 div.sk-container {/* jupyter's `normalize.less` sets `[hidden] { display: none; }` but bootstrap.min.css set `[hidden] { display: none !important; }` so we also need the `!important` here to be able to override the default hidden behavior on the sphinx rendered scikit-learn.org. See: https://github.com/scikit-learn/scikit-learn/issues/21755 */display: inline-block !important;position: relative;}#sk-container-id-1 div.sk-text-repr-fallback {display: none;}</style><div id=\"sk-container-id-1\" class=\"sk-top-container\"><div class=\"sk-text-repr-fallback\"><pre>SVC(kernel=&#x27;linear&#x27;, probability=True)</pre><b>In a Jupyter environment, please rerun this cell to show the HTML representation or trust the notebook. <br />On GitHub, the HTML representation is unable to render, please try loading this page with nbviewer.org.</b></div><div class=\"sk-container\" hidden><div class=\"sk-item\"><div class=\"sk-estimator sk-toggleable\"><input class=\"sk-toggleable__control sk-hidden--visually\" id=\"sk-estimator-id-1\" type=\"checkbox\" checked><label for=\"sk-estimator-id-1\" class=\"sk-toggleable__label sk-toggleable__label-arrow\">SVC</label><div class=\"sk-toggleable__content\"><pre>SVC(kernel=&#x27;linear&#x27;, probability=True)</pre></div></div></div></div></div>"
      ],
      "text/plain": [
       "SVC(kernel='linear', probability=True)"
      ]
     },
     "execution_count": 16,
     "metadata": {},
     "output_type": "execute_result"
    }
   ],
   "source": [
    "svmmodel.fit(X_train_vectors, ytrain)\n"
   ]
  },
  {
   "cell_type": "code",
   "execution_count": 17,
   "metadata": {},
   "outputs": [
    {
     "name": "stdout",
     "output_type": "stream",
     "text": [
      "Accuracy: 0.8780487804878049\n",
      "                                                      precision    recall  f1-score   support\n",
      "\n",
      "                                   Atopic Dermatitis       0.84      1.00      0.91        32\n",
      "          Lupus and other Connective Tissue diseases       1.00      0.88      0.94        17\n",
      "Scabies Lyme Diease and other Infestations and Bites       0.86      0.76      0.81        25\n",
      "        Seborrheic Keratoses and other Benign Tumors       0.86      0.75      0.80         8\n",
      "\n",
      "                                            accuracy                           0.88        82\n",
      "                                           macro avg       0.89      0.85      0.87        82\n",
      "                                        weighted avg       0.88      0.88      0.88        82\n",
      "\n"
     ]
    }
   ],
   "source": [
    "from sklearn.metrics import classification_report, accuracy_score\n",
    "\n",
    "# Predict the labels for the test set\n",
    "y_pred = svmmodel.predict(X_test_vectors)\n",
    "\n",
    "# Evaluate the model\n",
    "print(f'Accuracy: {accuracy_score(ytest, y_pred)}')\n",
    "print(classification_report(ytest, y_pred, target_names=label_encoder.classes_))\n"
   ]
  },
  {
   "cell_type": "code",
   "execution_count": 18,
   "metadata": {},
   "outputs": [
    {
     "name": "stdout",
     "output_type": "stream",
     "text": [
      "Accuracy: 0.9879154078549849\n",
      "                                                      precision    recall  f1-score   support\n",
      "\n",
      "                                   Atopic Dermatitis       0.98      0.99      0.99       128\n",
      "          Lupus and other Connective Tissue diseases       0.99      0.99      0.99        68\n",
      "Scabies Lyme Diease and other Infestations and Bites       0.99      0.98      0.99       102\n",
      "        Seborrheic Keratoses and other Benign Tumors       1.00      1.00      1.00        33\n",
      "\n",
      "                                            accuracy                           0.99       331\n",
      "                                           macro avg       0.99      0.99      0.99       331\n",
      "                                        weighted avg       0.99      0.99      0.99       331\n",
      "\n"
     ]
    }
   ],
   "source": [
    "# Predict the labels for the test set\n",
    "y_pred = svmmodel.predict(X_train_vectors)\n",
    "\n",
    "# Evaluate the model\n",
    "print(f'Accuracy: {accuracy_score(ytrain, y_pred)}')\n",
    "print(classification_report(ytrain, y_pred, target_names=label_encoder.classes_))"
   ]
  },
  {
   "cell_type": "code",
   "execution_count": 19,
   "metadata": {},
   "outputs": [
    {
     "data": {
      "text/plain": [
       "array([[7.89768558e-01, 1.05959867e-01, 6.34288353e-02, 4.08427401e-02],\n",
       "       [6.09160603e-01, 3.97346107e-02, 3.45450748e-01, 5.65403866e-03],\n",
       "       [9.65676989e-01, 8.61786901e-03, 2.02498771e-02, 5.45526521e-03],\n",
       "       [5.80781693e-01, 8.23347204e-02, 2.91142892e-01, 4.57406951e-02],\n",
       "       [9.75094957e-01, 1.53221077e-02, 6.75406309e-03, 2.82887179e-03],\n",
       "       [5.80781693e-01, 8.23347204e-02, 2.91142892e-01, 4.57406951e-02],\n",
       "       [8.17980382e-01, 2.83172198e-02, 1.49344024e-01, 4.35837422e-03],\n",
       "       [9.59067418e-01, 1.27298365e-02, 2.46999993e-02, 3.50274619e-03],\n",
       "       [7.37818945e-01, 4.37009423e-03, 2.00261489e-01, 5.75494724e-02],\n",
       "       [9.66116027e-01, 1.51200793e-02, 1.43739508e-02, 4.38994256e-03],\n",
       "       [9.79581561e-01, 3.16949368e-03, 1.44033604e-02, 2.84558533e-03],\n",
       "       [7.37818945e-01, 4.37009423e-03, 2.00261489e-01, 5.75494724e-02],\n",
       "       [9.78916525e-01, 5.79538562e-03, 1.26528715e-02, 2.63521815e-03],\n",
       "       [8.35051873e-01, 6.28509520e-02, 4.88799704e-02, 5.32172049e-02],\n",
       "       [9.19747750e-01, 9.53250743e-03, 6.30315254e-02, 7.68821742e-03],\n",
       "       [9.67145329e-01, 3.10118416e-03, 2.87976280e-02, 9.55858465e-04],\n",
       "       [8.44015386e-01, 7.23359558e-02, 6.62835954e-02, 1.73650632e-02],\n",
       "       [9.70078022e-01, 1.10087048e-02, 1.52773875e-02, 3.63588588e-03],\n",
       "       [9.70078022e-01, 1.10087048e-02, 1.52773875e-02, 3.63588588e-03],\n",
       "       [9.83849036e-01, 2.02311721e-03, 1.18948335e-02, 2.23301342e-03],\n",
       "       [9.70078022e-01, 1.10087048e-02, 1.52773875e-02, 3.63588588e-03],\n",
       "       [9.70078022e-01, 1.10087048e-02, 1.52773875e-02, 3.63588588e-03],\n",
       "       [9.70078022e-01, 1.10087048e-02, 1.52773875e-02, 3.63588588e-03],\n",
       "       [9.70078022e-01, 1.10087048e-02, 1.52773875e-02, 3.63588588e-03],\n",
       "       [9.83849036e-01, 2.02311721e-03, 1.18948335e-02, 2.23301342e-03],\n",
       "       [7.18997785e-01, 1.42480898e-01, 9.85521180e-02, 3.99691984e-02],\n",
       "       [9.69230640e-01, 9.30636690e-03, 9.44438229e-03, 1.20186105e-02],\n",
       "       [9.63344036e-01, 1.10292216e-02, 1.36934024e-02, 1.19333398e-02],\n",
       "       [5.80781693e-01, 8.23347204e-02, 2.91142892e-01, 4.57406951e-02],\n",
       "       [9.65915032e-01, 8.60004865e-03, 1.28554620e-02, 1.26294571e-02],\n",
       "       [9.82737474e-01, 1.04550954e-02, 5.70001637e-03, 1.10741424e-03],\n",
       "       [9.58039395e-01, 1.03237542e-02, 2.24573823e-02, 9.17946822e-03],\n",
       "       [1.34578908e-02, 9.67283161e-01, 1.87345172e-02, 5.24431487e-04],\n",
       "       [1.65690039e-02, 9.68190969e-01, 1.02297412e-02, 5.01028542e-03],\n",
       "       [1.41864723e-01, 4.66269953e-01, 3.86156838e-01, 5.70848596e-03],\n",
       "       [1.73180841e-02, 9.71775925e-01, 7.35229511e-03, 3.55369588e-03],\n",
       "       [6.88391661e-02, 8.59835085e-01, 6.13274302e-02, 9.99831819e-03],\n",
       "       [1.36373959e-01, 8.21313352e-01, 4.06277385e-02, 1.68495110e-03],\n",
       "       [1.65690039e-02, 9.68190969e-01, 1.02297412e-02, 5.01028542e-03],\n",
       "       [6.17283645e-03, 9.34866762e-01, 5.83668973e-02, 5.93504168e-04],\n",
       "       [1.78987241e-02, 9.70873143e-01, 8.30637380e-03, 2.92175938e-03],\n",
       "       [1.83635553e-02, 9.71553664e-01, 7.61634709e-03, 2.46643348e-03],\n",
       "       [1.81376489e-02, 9.70907052e-01, 8.04543135e-03, 2.90986746e-03],\n",
       "       [1.41216420e-01, 9.63655062e-02, 7.57617952e-01, 4.80012222e-03],\n",
       "       [4.06992319e-02, 9.27114926e-01, 2.87693486e-02, 3.41649315e-03],\n",
       "       [1.16152075e-02, 9.48222063e-01, 2.97211638e-02, 1.04415656e-02],\n",
       "       [1.78987241e-02, 9.70873143e-01, 8.30637380e-03, 2.92175938e-03],\n",
       "       [4.82480982e-02, 8.19848105e-01, 1.10568747e-01, 2.13350493e-02],\n",
       "       [1.68795881e-02, 9.71172408e-01, 8.16408619e-03, 3.78391783e-03],\n",
       "       [4.34509001e-01, 6.28819462e-02, 1.60979808e-01, 3.41629245e-01],\n",
       "       [9.73856365e-01, 1.49515921e-02, 9.78290981e-03, 1.40913347e-03],\n",
       "       [2.06176654e-02, 5.93730042e-03, 9.48612578e-01, 2.48324565e-02],\n",
       "       [4.87794478e-02, 2.15234752e-01, 7.27185517e-01, 8.80028280e-03],\n",
       "       [2.18685088e-01, 4.72855835e-02, 1.25749097e-01, 6.08280231e-01],\n",
       "       [9.17344943e-03, 3.31770117e-03, 9.87077881e-01, 4.30967979e-04],\n",
       "       [8.16651341e-03, 2.86591458e-03, 9.88351439e-01, 6.16132780e-04],\n",
       "       [8.42048608e-02, 1.10354044e-02, 9.00103194e-01, 4.65654030e-03],\n",
       "       [2.59788323e-02, 6.13413583e-02, 9.09869942e-01, 2.80986767e-03],\n",
       "       [3.37906051e-02, 3.84135722e-03, 7.03425097e-01, 2.58942941e-01],\n",
       "       [1.08287542e-01, 7.13278089e-02, 5.49678533e-01, 2.70706115e-01],\n",
       "       [2.49795425e-02, 4.52167304e-02, 9.17868227e-01, 1.19354999e-02],\n",
       "       [9.18557411e-03, 5.54708393e-03, 9.82363607e-01, 2.90373497e-03],\n",
       "       [1.51846957e-02, 2.75055457e-02, 9.54261494e-01, 3.04826492e-03],\n",
       "       [2.12137008e-01, 4.37714468e-02, 6.99957782e-01, 4.41337632e-02],\n",
       "       [2.84567290e-02, 4.28123166e-02, 9.11683468e-01, 1.70474863e-02],\n",
       "       [7.96572197e-02, 4.60087507e-02, 8.62707848e-01, 1.16261812e-02],\n",
       "       [4.06189342e-01, 1.52006413e-02, 5.59781109e-01, 1.88289076e-02],\n",
       "       [1.54294792e-01, 4.81536546e-01, 3.62811295e-01, 1.35736594e-03],\n",
       "       [1.56841095e-02, 1.43360649e-02, 9.59641735e-01, 1.03380902e-02],\n",
       "       [9.02723172e-01, 4.35313308e-03, 8.98985985e-02, 3.02509660e-03],\n",
       "       [4.11904504e-01, 1.64969166e-01, 2.20143057e-01, 2.02983273e-01],\n",
       "       [1.15806075e-02, 1.07020512e-02, 9.66707333e-01, 1.10100079e-02],\n",
       "       [3.62037062e-02, 3.25503339e-02, 9.25576318e-01, 5.66964184e-03],\n",
       "       [9.12256473e-01, 2.31135350e-02, 3.57090315e-02, 2.89209602e-02],\n",
       "       [6.21248968e-03, 7.49106861e-04, 1.44915369e-03, 9.91589250e-01],\n",
       "       [3.49879719e-02, 3.48018118e-03, 3.61240464e-02, 9.25407801e-01],\n",
       "       [6.48968855e-02, 2.75805476e-02, 1.08138250e-01, 7.99384317e-01],\n",
       "       [8.98652623e-01, 6.14786990e-03, 7.37294665e-03, 8.78265608e-02],\n",
       "       [1.18857283e-01, 8.65980601e-03, 1.41647794e-02, 8.58318132e-01],\n",
       "       [2.70546405e-02, 7.51895930e-03, 1.24383677e-02, 9.52988033e-01],\n",
       "       [2.51388394e-01, 3.69781515e-01, 3.20240902e-01, 5.85891893e-02],\n",
       "       [4.03050881e-03, 4.94720803e-04, 7.81312399e-04, 9.94693458e-01]])"
      ]
     },
     "execution_count": 19,
     "metadata": {},
     "output_type": "execute_result"
    }
   ],
   "source": [
    "text_probabilities = svmmodel.predict_proba(X_test_vectors)\n",
    "text_probabilities"
   ]
  },
  {
   "cell_type": "markdown",
   "metadata": {},
   "source": [
    "# CNN Model"
   ]
  },
  {
   "cell_type": "code",
   "execution_count": 20,
   "metadata": {},
   "outputs": [],
   "source": [
    "import os\n",
    "import cv2\n",
    "import numpy as np\n",
    "import matplotlib.pyplot as plt\n",
    "import pandas as pd\n",
    "# CNN libraries\n",
    "import tensorflow as tf\n",
    "from tensorflow.keras import layers, models\n",
    "from tensorflow.keras.preprocessing.image import ImageDataGenerator"
   ]
  },
  {
   "cell_type": "code",
   "execution_count": 21,
   "metadata": {},
   "outputs": [],
   "source": [
    "train_data = \"../data/images/dermnet/train1\"\n",
    "test_data = \"../data/images/dermnet/test1/\""
   ]
  },
  {
   "cell_type": "code",
   "execution_count": 22,
   "metadata": {},
   "outputs": [
    {
     "name": "stdout",
     "output_type": "stream",
     "text": [
      "Found 2711 images belonging to 4 classes.\n",
      "Found 679 images belonging to 4 classes.\n"
     ]
    }
   ],
   "source": [
    "# Preprocess\n",
    "input_shape = (224, 224, 3) \n",
    "num_classes = 4\n",
    "\n",
    "train_datagen = ImageDataGenerator(rescale=1./255)\n",
    "validation_datagen = ImageDataGenerator(rescale=1./255)\n",
    "\n",
    "train_generator = train_datagen.flow_from_directory(\n",
    "        train_data,\n",
    "        target_size=input_shape[:2],\n",
    "        batch_size=32,\n",
    "        class_mode='categorical')\n",
    "\n",
    "validation_generator = validation_datagen.flow_from_directory(\n",
    "        test_data,\n",
    "        target_size=input_shape[:2],\n",
    "        batch_size=32,\n",
    "        class_mode='categorical')"
   ]
  },
  {
   "cell_type": "code",
   "execution_count": 23,
   "metadata": {},
   "outputs": [],
   "source": [
    "def build_model(input_shape, num_classes):\n",
    "    model = models.Sequential()\n",
    "    model.add(layers.Conv2D(32, (3, 3), activation='relu', input_shape=input_shape))\n",
    "    model.add(layers.MaxPooling2D((2, 2)))\n",
    "    model.add(layers.Conv2D(64, (3, 3), activation='relu'))\n",
    "    model.add(layers.MaxPooling2D((2, 2)))\n",
    "    model.add(layers.Conv2D(64, (3, 3), activation='relu'))\n",
    "    model.add(layers.Flatten())\n",
    "    model.add(layers.Dense(64, activation='relu'))\n",
    "    model.add(layers.Dense(num_classes, activation='softmax'))\n",
    "    return model"
   ]
  },
  {
   "cell_type": "code",
   "execution_count": 24,
   "metadata": {},
   "outputs": [],
   "source": [
    "model = build_model(input_shape, num_classes)\n",
    "model.compile(optimizer='adam', loss='categorical_crossentropy', metrics=['accuracy'])"
   ]
  },
  {
   "cell_type": "code",
   "execution_count": 25,
   "metadata": {},
   "outputs": [
    {
     "name": "stdout",
     "output_type": "stream",
     "text": [
      "Epoch 1/10\n"
     ]
    },
    {
     "name": "stderr",
     "output_type": "stream",
     "text": [
      "2023-11-10 23:44:24.977084: I tensorflow/core/common_runtime/executor.cc:1197] [/device:CPU:0] (DEBUG INFO) Executor start aborting (this does not indicate an error and you can ignore this message): INVALID_ARGUMENT: You must feed a value for placeholder tensor 'Placeholder/_0' with dtype int32\n",
      "\t [[{{node Placeholder/_0}}]]\n"
     ]
    },
    {
     "name": "stdout",
     "output_type": "stream",
     "text": [
      "50/50 [==============================] - ETA: 0s - loss: 1.4473 - accuracy: 0.4712"
     ]
    },
    {
     "name": "stderr",
     "output_type": "stream",
     "text": [
      "2023-11-10 23:45:19.391347: I tensorflow/core/common_runtime/executor.cc:1197] [/device:CPU:0] (DEBUG INFO) Executor start aborting (this does not indicate an error and you can ignore this message): INVALID_ARGUMENT: You must feed a value for placeholder tensor 'Placeholder/_0' with dtype int32\n",
      "\t [[{{node Placeholder/_0}}]]\n"
     ]
    },
    {
     "name": "stdout",
     "output_type": "stream",
     "text": [
      "WARNING:tensorflow:Your input ran out of data; interrupting training. Make sure that your dataset or generator can generate at least `steps_per_epoch * epochs` batches (in this case, 25 batches). You may need to use the repeat() function when building your dataset.\n",
      "50/50 [==============================] - 62s 1s/step - loss: 1.4473 - accuracy: 0.4712 - val_loss: 1.1763 - val_accuracy: 0.4963\n",
      "Epoch 2/10\n",
      "50/50 [==============================] - 57s 1s/step - loss: 1.1541 - accuracy: 0.5294\n",
      "Epoch 3/10\n",
      "50/50 [==============================] - 64s 1s/step - loss: 1.1099 - accuracy: 0.5487\n",
      "Epoch 4/10\n",
      "50/50 [==============================] - 56s 1s/step - loss: 1.0979 - accuracy: 0.5707\n",
      "Epoch 5/10\n",
      "50/50 [==============================] - 62s 1s/step - loss: 1.0652 - accuracy: 0.5726\n",
      "Epoch 6/10\n",
      "50/50 [==============================] - 57s 1s/step - loss: 1.0380 - accuracy: 0.5871\n",
      "Epoch 7/10\n",
      "50/50 [==============================] - 60s 1s/step - loss: 1.0346 - accuracy: 0.5839\n",
      "Epoch 8/10\n",
      "50/50 [==============================] - 61s 1s/step - loss: 0.9916 - accuracy: 0.5971\n",
      "Epoch 9/10\n",
      "50/50 [==============================] - 72s 1s/step - loss: 0.9488 - accuracy: 0.6125\n",
      "Epoch 10/10\n",
      "50/50 [==============================] - 60s 1s/step - loss: 0.8761 - accuracy: 0.6530\n"
     ]
    }
   ],
   "source": [
    "history = model.fit(\n",
    "      train_generator,\n",
    "      steps_per_epoch=50, \n",
    "      epochs=10,\n",
    "      validation_data=validation_generator,\n",
    "      validation_steps=25)"
   ]
  },
  {
   "cell_type": "code",
   "execution_count": 31,
   "metadata": {},
   "outputs": [
    {
     "name": "stderr",
     "output_type": "stream",
     "text": [
      "2023-11-10 15:49:00.563270: I tensorflow/core/common_runtime/executor.cc:1197] [/device:CPU:0] (DEBUG INFO) Executor start aborting (this does not indicate an error and you can ignore this message): INVALID_ARGUMENT: You must feed a value for placeholder tensor 'Placeholder/_0' with dtype int32\n",
      "\t [[{{node Placeholder/_0}}]]\n"
     ]
    },
    {
     "name": "stdout",
     "output_type": "stream",
     "text": [
      "22/25 [=========================>....] - ETA: 1s - loss: 1.4940 - accuracy: 0.5376WARNING:tensorflow:Your input ran out of data; interrupting training. Make sure that your dataset or generator can generate at least `steps_per_epoch * epochs` batches (in this case, 25 batches). You may need to use the repeat() function when building your dataset.\n",
      "25/25 [==============================] - 10s 369ms/step - loss: 1.4940 - accuracy: 0.5376\n",
      "\n",
      "Test accuracy: 0.5375552177429199\n"
     ]
    }
   ],
   "source": [
    "test_loss, test_acc = model.evaluate(validation_generator, steps=25)\n",
    "print('\\nTest accuracy:', test_acc)"
   ]
  },
  {
   "cell_type": "code",
   "execution_count": null,
   "metadata": {},
   "outputs": [],
   "source": []
  },
  {
   "cell_type": "code",
   "execution_count": 10,
   "metadata": {},
   "outputs": [
    {
     "name": "stderr",
     "output_type": "stream",
     "text": [
      "2023-11-04 23:44:10.495731: I tensorflow/core/common_runtime/executor.cc:1197] [/device:CPU:0] (DEBUG INFO) Executor start aborting (this does not indicate an error and you can ignore this message): INVALID_ARGUMENT: You must feed a value for placeholder tensor 'Placeholder/_0' with dtype int32\n",
      "\t [[{{node Placeholder/_0}}]]\n"
     ]
    },
    {
     "name": "stdout",
     "output_type": "stream",
     "text": [
      "22/22 [==============================] - 9s 410ms/step\n"
     ]
    }
   ],
   "source": [
    "image_probabilities = model.predict(validation_generator)\n"
   ]
  },
  {
   "cell_type": "code",
   "execution_count": 11,
   "metadata": {},
   "outputs": [
    {
     "data": {
      "text/plain": [
       "array([[0.17795499, 0.14731216, 0.29345915, 0.38127375],\n",
       "       [0.0707379 , 0.0477184 , 0.29970348, 0.5818402 ],\n",
       "       [0.03478829, 0.13660417, 0.45125857, 0.37734893],\n",
       "       ...,\n",
       "       [0.02061159, 0.00706999, 0.11229225, 0.8600261 ],\n",
       "       [0.65240234, 0.05708424, 0.21682031, 0.07369312],\n",
       "       [0.725041  , 0.13644284, 0.11727757, 0.02123863]], dtype=float32)"
      ]
     },
     "execution_count": 11,
     "metadata": {},
     "output_type": "execute_result"
    }
   ],
   "source": [
    "image_probabilities"
   ]
  },
  {
   "cell_type": "markdown",
   "metadata": {},
   "source": [
    "# Combining models"
   ]
  },
  {
   "cell_type": "code",
   "execution_count": 26,
   "metadata": {},
   "outputs": [],
   "source": [
    "train_b = pd.read_csv(\"../data/train_symp_path.csv\")\n",
    "test_b = pd.read_csv(\"../data/test_symp_path.csv\")"
   ]
  },
  {
   "cell_type": "code",
   "execution_count": 27,
   "metadata": {},
   "outputs": [],
   "source": [
    "train_text = process(train_b)['Symptoms']\n",
    "test_text = process(test_b)['Symptoms']"
   ]
  },
  {
   "cell_type": "code",
   "execution_count": 28,
   "metadata": {},
   "outputs": [],
   "source": [
    "train_label = process(train_b)['Disease']\n",
    "test_label = process(test_b)['Disease']"
   ]
  },
  {
   "cell_type": "code",
   "execution_count": 29,
   "metadata": {},
   "outputs": [],
   "source": [
    "train_c = \"../data/images/dermnet/train_combined/\"\n",
    "test_c = \"../data/images/dermnet/test_combined/\""
   ]
  },
  {
   "cell_type": "code",
   "execution_count": 30,
   "metadata": {},
   "outputs": [
    {
     "name": "stdout",
     "output_type": "stream",
     "text": [
      "Found 331 images belonging to 4 classes.\n",
      "Found 82 images belonging to 4 classes.\n"
     ]
    }
   ],
   "source": [
    "# Preprocess\n",
    "input_shape = (224, 224, 3) \n",
    "num_classes = 4\n",
    "\n",
    "train_datagen = ImageDataGenerator(rescale=1./255)\n",
    "validation_datagen = ImageDataGenerator(rescale=1./255)\n",
    "\n",
    "c_train_generator = train_datagen.flow_from_directory(\n",
    "        train_c,\n",
    "        target_size=input_shape[:2],\n",
    "        batch_size=32,\n",
    "        class_mode='categorical')\n",
    "\n",
    "c_validation_generator = validation_datagen.flow_from_directory(\n",
    "        test_c,\n",
    "        target_size=input_shape[:2],\n",
    "        batch_size=32,\n",
    "        class_mode='categorical')"
   ]
  },
  {
   "cell_type": "code",
   "execution_count": 31,
   "metadata": {},
   "outputs": [
    {
     "name": "stderr",
     "output_type": "stream",
     "text": [
      "2023-11-11 02:21:13.317124: I tensorflow/core/common_runtime/executor.cc:1197] [/device:CPU:0] (DEBUG INFO) Executor start aborting (this does not indicate an error and you can ignore this message): INVALID_ARGUMENT: You must feed a value for placeholder tensor 'Placeholder/_0' with dtype int32\n",
      "\t [[{{node Placeholder/_0}}]]\n"
     ]
    },
    {
     "name": "stdout",
     "output_type": "stream",
     "text": [
      " 3/25 [==>...........................] - ETA: 6s - loss: 1.7410 - accuracy: 0.2683WARNING:tensorflow:Your input ran out of data; interrupting training. Make sure that your dataset or generator can generate at least `steps_per_epoch * epochs` batches (in this case, 25 batches). You may need to use the repeat() function when building your dataset.\n",
      "25/25 [==============================] - 2s 36ms/step - loss: 1.7410 - accuracy: 0.2683\n",
      "\n",
      "Test accuracy: 0.26829269528388977\n"
     ]
    }
   ],
   "source": [
    "test_loss, test_acc = model.evaluate(c_validation_generator, steps=25)\n",
    "print('\\nTest accuracy:', test_acc)"
   ]
  },
  {
   "cell_type": "code",
   "execution_count": 32,
   "metadata": {},
   "outputs": [
    {
     "name": "stderr",
     "output_type": "stream",
     "text": [
      "2023-11-11 02:21:20.012529: I tensorflow/core/common_runtime/executor.cc:1197] [/device:CPU:0] (DEBUG INFO) Executor start aborting (this does not indicate an error and you can ignore this message): INVALID_ARGUMENT: You must feed a value for placeholder tensor 'Placeholder/_0' with dtype int32\n",
      "\t [[{{node Placeholder/_0}}]]\n"
     ]
    },
    {
     "name": "stdout",
     "output_type": "stream",
     "text": [
      "3/3 [==============================] - 1s 277ms/step\n"
     ]
    },
    {
     "name": "stderr",
     "output_type": "stream",
     "text": [
      "2023-11-11 02:21:21.829456: I tensorflow/core/common_runtime/executor.cc:1197] [/device:CPU:0] (DEBUG INFO) Executor start aborting (this does not indicate an error and you can ignore this message): INVALID_ARGUMENT: You must feed a value for placeholder tensor 'Placeholder/_0' with dtype int32\n",
      "\t [[{{node Placeholder/_0}}]]\n"
     ]
    },
    {
     "name": "stdout",
     "output_type": "stream",
     "text": [
      "11/11 [==============================] - 4s 332ms/step\n"
     ]
    }
   ],
   "source": [
    "image_probabilities_test= model.predict(c_validation_generator)\n",
    "image_probabilities_train = model.predict(c_train_generator)\n",
    "\n"
   ]
  },
  {
   "cell_type": "code",
   "execution_count": 33,
   "metadata": {},
   "outputs": [],
   "source": [
    "label_encoder = LabelEncoder()\n",
    "y_encoded_train = label_encoder.fit_transform(train_label)\n",
    "y_encoded_test = label_encoder.fit_transform(test_label)"
   ]
  },
  {
   "cell_type": "code",
   "execution_count": 34,
   "metadata": {},
   "outputs": [],
   "source": [
    "c_train_vector = vectorizer.fit_transform(train_text.values.astype('U'))\n"
   ]
  },
  {
   "cell_type": "code",
   "execution_count": 35,
   "metadata": {},
   "outputs": [],
   "source": [
    "c_test_vector = vectorizer.fit_transform(test_text.values.astype('U'))\n"
   ]
  },
  {
   "cell_type": "code",
   "execution_count": 36,
   "metadata": {},
   "outputs": [
    {
     "name": "stdout",
     "output_type": "stream",
     "text": [
      "Accuracy: 0.9879154078549849\n",
      "                                                      precision    recall  f1-score   support\n",
      "\n",
      "                                   Atopic Dermatitis       0.98      0.99      0.99       128\n",
      "          Lupus and other Connective Tissue diseases       0.99      0.99      0.99        68\n",
      "Scabies Lyme Diease and other Infestations and Bites       0.99      0.98      0.99       102\n",
      "        Seborrheic Keratoses and other Benign Tumors       1.00      1.00      1.00        33\n",
      "\n",
      "                                            accuracy                           0.99       331\n",
      "                                           macro avg       0.99      0.99      0.99       331\n",
      "                                        weighted avg       0.99      0.99      0.99       331\n",
      "\n"
     ]
    }
   ],
   "source": [
    "y_pred_train_c = svmmodel.predict(X_train_vectors)\n",
    "\n",
    "# Evaluate the model\n",
    "print(f'Accuracy: {accuracy_score(train_label, y_pred_train_c)}')\n",
    "print(classification_report(train_label, y_pred_train_c, target_names=label_encoder.classes_))\n"
   ]
  },
  {
   "cell_type": "code",
   "execution_count": 37,
   "metadata": {},
   "outputs": [
    {
     "data": {
      "text/plain": [
       "<82x810 sparse matrix of type '<class 'numpy.float64'>'\n",
       "\twith 5573 stored elements in Compressed Sparse Row format>"
      ]
     },
     "execution_count": 37,
     "metadata": {},
     "output_type": "execute_result"
    }
   ],
   "source": [
    "c_test_vector"
   ]
  },
  {
   "cell_type": "code",
   "execution_count": 38,
   "metadata": {},
   "outputs": [
    {
     "name": "stdout",
     "output_type": "stream",
     "text": [
      "Accuracy: 0.8780487804878049\n",
      "                                                      precision    recall  f1-score   support\n",
      "\n",
      "                                   Atopic Dermatitis       0.84      1.00      0.91        32\n",
      "          Lupus and other Connective Tissue diseases       1.00      0.88      0.94        17\n",
      "Scabies Lyme Diease and other Infestations and Bites       0.86      0.76      0.81        25\n",
      "        Seborrheic Keratoses and other Benign Tumors       0.86      0.75      0.80         8\n",
      "\n",
      "                                            accuracy                           0.88        82\n",
      "                                           macro avg       0.89      0.85      0.87        82\n",
      "                                        weighted avg       0.88      0.88      0.88        82\n",
      "\n"
     ]
    }
   ],
   "source": [
    "y_pred_test_c = svmmodel.predict(X_test_vectors)\n",
    "\n",
    "# Evaluate the model\n",
    "print(f'Accuracy: {accuracy_score(test_label, y_pred_test_c)}')\n",
    "print(classification_report(test_label, y_pred_test_c, target_names=label_encoder.classes_))\n"
   ]
  },
  {
   "cell_type": "code",
   "execution_count": 39,
   "metadata": {},
   "outputs": [],
   "source": [
    "train_text_probabilities = svmmodel.predict_proba(X_train_vectors)\n",
    "test_text_probabilities = svmmodel.predict_proba(X_test_vectors)\n"
   ]
  },
  {
   "cell_type": "code",
   "execution_count": 40,
   "metadata": {},
   "outputs": [],
   "source": [
    "stacked_probabilities_train = np.hstack((image_probabilities_train, train_text_probabilities))\n",
    "stacked_probabilities_test = np.hstack((image_probabilities_test, test_text_probabilities))"
   ]
  },
  {
   "cell_type": "code",
   "execution_count": 41,
   "metadata": {},
   "outputs": [],
   "source": [
    "from sklearn.linear_model import LogisticRegression\n",
    "\n",
    "fusion_model = LogisticRegression().fit(stacked_probabilities_train, y_encoded_train)"
   ]
  },
  {
   "cell_type": "code",
   "execution_count": 42,
   "metadata": {},
   "outputs": [
    {
     "name": "stdout",
     "output_type": "stream",
     "text": [
      "Accuracy of the fusion model: 86.59%\n"
     ]
    }
   ],
   "source": [
    "y_pred_log = fusion_model.predict(stacked_probabilities_test)\n",
    "\n",
    "\n",
    "accuracy = accuracy_score(y_encoded_test, y_pred_log)\n",
    "print(f'Accuracy of the fusion model: {accuracy * 100:.2f}%')\n"
   ]
  },
  {
   "cell_type": "code",
   "execution_count": 70,
   "metadata": {},
   "outputs": [],
   "source": [
    "from tensorflow.keras.models import Sequential\n",
    "from tensorflow.keras.layers import Dense, Dropout\n",
    "\n",
    "# Number of classes\n",
    "num_classes = 4  # Assuming y_train is one-hot encoded\n",
    "\n",
    "fusion_model = Sequential([\n",
    "    Dense(64, input_shape=(stacked_probabilities_train.shape[1],), activation='relu'),\n",
    "    Dropout(0.5),\n",
    "    Dense(num_classes, activation='softmax')\n",
    "])\n",
    "\n",
    "fusion_model.compile(optimizer='adam', loss='categorical_crossentropy', metrics=['accuracy'])\n"
   ]
  },
  {
   "cell_type": "code",
   "execution_count": 71,
   "metadata": {},
   "outputs": [],
   "source": [
    "from tensorflow.keras.utils import to_categorical\n",
    "\n",
    "y_train_encoded = to_categorical(y_encoded_train, num_classes=4)\n",
    "y_val_encoded = to_categorical(y_encoded_test, num_classes=4)"
   ]
  },
  {
   "cell_type": "code",
   "execution_count": 72,
   "metadata": {},
   "outputs": [
    {
     "name": "stdout",
     "output_type": "stream",
     "text": [
      "Epoch 1/10\n",
      "11/11 [==============================] - 1s 29ms/step - loss: 1.4631 - accuracy: 0.1752 - val_loss: 1.3859 - val_accuracy: 0.1585\n",
      "Epoch 2/10\n",
      "11/11 [==============================] - 0s 5ms/step - loss: 1.3661 - accuracy: 0.3142 - val_loss: 1.2929 - val_accuracy: 0.6463\n",
      "Epoch 3/10\n",
      "11/11 [==============================] - 0s 5ms/step - loss: 1.2580 - accuracy: 0.5076 - val_loss: 1.2100 - val_accuracy: 0.7317\n",
      "Epoch 4/10\n",
      "11/11 [==============================] - 0s 6ms/step - loss: 1.1407 - accuracy: 0.6526 - val_loss: 1.1343 - val_accuracy: 0.7073\n",
      "Epoch 5/10\n",
      "11/11 [==============================] - 0s 5ms/step - loss: 1.0772 - accuracy: 0.7281 - val_loss: 1.0627 - val_accuracy: 0.7561\n",
      "Epoch 6/10\n",
      "11/11 [==============================] - 0s 4ms/step - loss: 0.9676 - accuracy: 0.8036 - val_loss: 0.9949 - val_accuracy: 0.7805\n",
      "Epoch 7/10\n",
      "11/11 [==============================] - 0s 4ms/step - loss: 0.8927 - accuracy: 0.8338 - val_loss: 0.9296 - val_accuracy: 0.8049\n",
      "Epoch 8/10\n",
      "11/11 [==============================] - 0s 4ms/step - loss: 0.8078 - accuracy: 0.8822 - val_loss: 0.8688 - val_accuracy: 0.8171\n",
      "Epoch 9/10\n",
      "11/11 [==============================] - 0s 4ms/step - loss: 0.7339 - accuracy: 0.9154 - val_loss: 0.8111 - val_accuracy: 0.8415\n",
      "Epoch 10/10\n",
      "11/11 [==============================] - 0s 4ms/step - loss: 0.6614 - accuracy: 0.9275 - val_loss: 0.7576 - val_accuracy: 0.8537\n"
     ]
    },
    {
     "data": {
      "text/plain": [
       "<keras.callbacks.History at 0x165c03d50>"
      ]
     },
     "execution_count": 72,
     "metadata": {},
     "output_type": "execute_result"
    }
   ],
   "source": [
    "fusion_model.fit(stacked_probabilities_train, y_train_encoded, validation_data=(stacked_probabilities_test, y_val_encoded), epochs=10, batch_size=32)\n"
   ]
  },
  {
   "cell_type": "code",
   "execution_count": 74,
   "metadata": {},
   "outputs": [
    {
     "name": "stdout",
     "output_type": "stream",
     "text": [
      "3/3 [==============================] - 0s 3ms/step - loss: 0.7576 - accuracy: 0.8537\n",
      "Validation Accuracy: 0.8537\n"
     ]
    }
   ],
   "source": [
    "val_loss, val_accuracy = fusion_model.evaluate(stacked_probabilities_test, y_val_encoded)\n",
    "print(f\"Validation Accuracy: {val_accuracy:.4f}\")\n"
   ]
  },
  {
   "cell_type": "code",
   "execution_count": 63,
   "metadata": {},
   "outputs": [
    {
     "data": {
      "text/plain": [
       "(8,)"
      ]
     },
     "execution_count": 63,
     "metadata": {},
     "output_type": "execute_result"
    }
   ],
   "source": [
    "(stacked_probabilities_train.shape[1],)"
   ]
  },
  {
   "cell_type": "code",
   "execution_count": 66,
   "metadata": {},
   "outputs": [
    {
     "name": "stdout",
     "output_type": "stream",
     "text": [
      "(8, 331) (331, 4)\n",
      "(82, 8) (82, 4)\n"
     ]
    }
   ],
   "source": [
    "print(stacked_probabilities_train.T.shape, y_train_encoded.shape)\n",
    "print(stacked_probabilities_test.shape, y_val_encoded.shape)\n"
   ]
  },
  {
   "cell_type": "code",
   "execution_count": 69,
   "metadata": {},
   "outputs": [
    {
     "data": {
      "text/plain": [
       "4"
      ]
     },
     "execution_count": 69,
     "metadata": {},
     "output_type": "execute_result"
    }
   ],
   "source": [
    "y_val_encoded.shape[1]"
   ]
  }
 ],
 "metadata": {
  "kernelspec": {
   "display_name": "dsa3101",
   "language": "python",
   "name": "python3"
  },
  "language_info": {
   "codemirror_mode": {
    "name": "ipython",
    "version": 3
   },
   "file_extension": ".py",
   "mimetype": "text/x-python",
   "name": "python",
   "nbconvert_exporter": "python",
   "pygments_lexer": "ipython3",
   "version": "3.11.3"
  }
 },
 "nbformat": 4,
 "nbformat_minor": 2
}
