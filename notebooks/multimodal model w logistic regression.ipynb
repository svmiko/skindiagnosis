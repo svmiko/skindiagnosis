{
 "cells": [
  {
   "cell_type": "markdown",
   "metadata": {},
   "source": [
    "# Text Model"
   ]
  },
  {
   "cell_type": "code",
   "execution_count": 1,
   "metadata": {},
   "outputs": [],
   "source": [
    "import pandas as pd\n",
    "from sklearn.model_selection import train_test_split\n",
    "from sklearn.feature_extraction.text import TfidfVectorizer\n",
    "from sklearn.preprocessing import LabelEncoder\n",
    "\n"
   ]
  },
  {
   "cell_type": "code",
   "execution_count": 3,
   "metadata": {},
   "outputs": [
    {
     "data": {
      "text/html": [
       "<div>\n",
       "<style scoped>\n",
       "    .dataframe tbody tr th:only-of-type {\n",
       "        vertical-align: middle;\n",
       "    }\n",
       "\n",
       "    .dataframe tbody tr th {\n",
       "        vertical-align: top;\n",
       "    }\n",
       "\n",
       "    .dataframe thead th {\n",
       "        text-align: right;\n",
       "    }\n",
       "</style>\n",
       "<table border=\"1\" class=\"dataframe\">\n",
       "  <thead>\n",
       "    <tr style=\"text-align: right;\">\n",
       "      <th></th>\n",
       "      <th>Unnamed: 0</th>\n",
       "      <th>Disease</th>\n",
       "      <th>Symptoms</th>\n",
       "    </tr>\n",
       "  </thead>\n",
       "  <tbody>\n",
       "    <tr>\n",
       "      <th>0</th>\n",
       "      <td>148</td>\n",
       "      <td>Atopic Dermatitis</td>\n",
       "      <td>Breast eczema  may affect the nipples, areolae...</td>\n",
       "    </tr>\n",
       "    <tr>\n",
       "      <th>1</th>\n",
       "      <td>150</td>\n",
       "      <td>Atopic Dermatitis</td>\n",
       "      <td>\\nSymptoms refer to the sensations that people...</td>\n",
       "    </tr>\n",
       "    <tr>\n",
       "      <th>2</th>\n",
       "      <td>201</td>\n",
       "      <td>Atopic Dermatitis</td>\n",
       "      <td>Dry, itchy skin\\nThick, rough skin that looks ...</td>\n",
       "    </tr>\n",
       "    <tr>\n",
       "      <th>3</th>\n",
       "      <td>151</td>\n",
       "      <td>Atopic Dermatitis</td>\n",
       "      <td>The major symptoms of XLI include scaling of t...</td>\n",
       "    </tr>\n",
       "    <tr>\n",
       "      <th>4</th>\n",
       "      <td>153</td>\n",
       "      <td>Atopic Dermatitis</td>\n",
       "      <td>The dry scaling appearance is most noticeable ...</td>\n",
       "    </tr>\n",
       "  </tbody>\n",
       "</table>\n",
       "</div>"
      ],
      "text/plain": [
       "   Unnamed: 0            Disease  \\\n",
       "0         148  Atopic Dermatitis   \n",
       "1         150  Atopic Dermatitis   \n",
       "2         201  Atopic Dermatitis   \n",
       "3         151  Atopic Dermatitis   \n",
       "4         153  Atopic Dermatitis   \n",
       "\n",
       "                                            Symptoms  \n",
       "0  Breast eczema  may affect the nipples, areolae...  \n",
       "1  \\nSymptoms refer to the sensations that people...  \n",
       "2  Dry, itchy skin\\nThick, rough skin that looks ...  \n",
       "3  The major symptoms of XLI include scaling of t...  \n",
       "4  The dry scaling appearance is most noticeable ...  "
      ]
     },
     "execution_count": 3,
     "metadata": {},
     "output_type": "execute_result"
    }
   ],
   "source": [
    "# Load your dataset\n",
    "train_t = pd.read_csv(\"../data/train_symp.csv\",encoding = 'unicode_escape')\n",
    "test_t = pd.read_csv(\"../data/test_symp.csv\",encoding = 'unicode_escape')\n",
    "train_t.head()\n",
    "test_t.head()"
   ]
  },
  {
   "cell_type": "code",
   "execution_count": 4,
   "metadata": {},
   "outputs": [
    {
     "data": {
      "text/html": [
       "<div>\n",
       "<style scoped>\n",
       "    .dataframe tbody tr th:only-of-type {\n",
       "        vertical-align: middle;\n",
       "    }\n",
       "\n",
       "    .dataframe tbody tr th {\n",
       "        vertical-align: top;\n",
       "    }\n",
       "\n",
       "    .dataframe thead th {\n",
       "        text-align: right;\n",
       "    }\n",
       "</style>\n",
       "<table border=\"1\" class=\"dataframe\">\n",
       "  <thead>\n",
       "    <tr style=\"text-align: right;\">\n",
       "      <th></th>\n",
       "      <th>Disease</th>\n",
       "      <th>Symptoms</th>\n",
       "    </tr>\n",
       "  </thead>\n",
       "  <tbody>\n",
       "    <tr>\n",
       "      <th>0</th>\n",
       "      <td>Atopic Dermatitis</td>\n",
       "      <td>Breast eczema  may affect the nipples, areolae...</td>\n",
       "    </tr>\n",
       "    <tr>\n",
       "      <th>1</th>\n",
       "      <td>Atopic Dermatitis</td>\n",
       "      <td>\\nSymptoms refer to the sensations that people...</td>\n",
       "    </tr>\n",
       "    <tr>\n",
       "      <th>2</th>\n",
       "      <td>Atopic Dermatitis</td>\n",
       "      <td>Dry, itchy skin\\nThick, rough skin that looks ...</td>\n",
       "    </tr>\n",
       "    <tr>\n",
       "      <th>3</th>\n",
       "      <td>Atopic Dermatitis</td>\n",
       "      <td>The major symptoms of XLI include scaling of t...</td>\n",
       "    </tr>\n",
       "    <tr>\n",
       "      <th>4</th>\n",
       "      <td>Atopic Dermatitis</td>\n",
       "      <td>The dry scaling appearance is most noticeable ...</td>\n",
       "    </tr>\n",
       "    <tr>\n",
       "      <th>...</th>\n",
       "      <td>...</td>\n",
       "      <td>...</td>\n",
       "    </tr>\n",
       "    <tr>\n",
       "      <th>77</th>\n",
       "      <td>Seborrheic Keratoses and other Benign Tumors</td>\n",
       "      <td>Symptoms of seborrheic keratosis are skin grow...</td>\n",
       "    </tr>\n",
       "    <tr>\n",
       "      <th>78</th>\n",
       "      <td>Seborrheic Keratoses and other Benign Tumors</td>\n",
       "      <td>Seborrheic keratoses can occur anywhere on the...</td>\n",
       "    </tr>\n",
       "    <tr>\n",
       "      <th>79</th>\n",
       "      <td>Seborrheic Keratoses and other Benign Tumors</td>\n",
       "      <td>Dermatofibromas are most often found on the ar...</td>\n",
       "    </tr>\n",
       "    <tr>\n",
       "      <th>80</th>\n",
       "      <td>Seborrheic Keratoses and other Benign Tumors</td>\n",
       "      <td>Rosacea is limited to the face and scalp and...</td>\n",
       "    </tr>\n",
       "    <tr>\n",
       "      <th>81</th>\n",
       "      <td>Seborrheic Keratoses and other Benign Tumors</td>\n",
       "      <td>A round or oval-shaped waxy or rough bump, typ...</td>\n",
       "    </tr>\n",
       "  </tbody>\n",
       "</table>\n",
       "<p>82 rows × 2 columns</p>\n",
       "</div>"
      ],
      "text/plain": [
       "                                         Disease  \\\n",
       "0                              Atopic Dermatitis   \n",
       "1                              Atopic Dermatitis   \n",
       "2                              Atopic Dermatitis   \n",
       "3                              Atopic Dermatitis   \n",
       "4                              Atopic Dermatitis   \n",
       "..                                           ...   \n",
       "77  Seborrheic Keratoses and other Benign Tumors   \n",
       "78  Seborrheic Keratoses and other Benign Tumors   \n",
       "79  Seborrheic Keratoses and other Benign Tumors   \n",
       "80  Seborrheic Keratoses and other Benign Tumors   \n",
       "81  Seborrheic Keratoses and other Benign Tumors   \n",
       "\n",
       "                                             Symptoms  \n",
       "0   Breast eczema  may affect the nipples, areolae...  \n",
       "1   \\nSymptoms refer to the sensations that people...  \n",
       "2   Dry, itchy skin\\nThick, rough skin that looks ...  \n",
       "3   The major symptoms of XLI include scaling of t...  \n",
       "4   The dry scaling appearance is most noticeable ...  \n",
       "..                                                ...  \n",
       "77  Symptoms of seborrheic keratosis are skin grow...  \n",
       "78  Seborrheic keratoses can occur anywhere on the...  \n",
       "79  Dermatofibromas are most often found on the ar...  \n",
       "80    Rosacea is limited to the face and scalp and...  \n",
       "81  A round or oval-shaped waxy or rough bump, typ...  \n",
       "\n",
       "[82 rows x 2 columns]"
      ]
     },
     "execution_count": 4,
     "metadata": {},
     "output_type": "execute_result"
    }
   ],
   "source": [
    "train_t = train_t[['Disease','Symptoms']]\n",
    "test_t = test_t[['Disease','Symptoms']]\n",
    "\n",
    "train_t.dropna()\n",
    "test_t.dropna()\n"
   ]
  },
  {
   "cell_type": "code",
   "execution_count": 34,
   "metadata": {},
   "outputs": [
    {
     "data": {
      "text/html": [
       "<div>\n",
       "<style scoped>\n",
       "    .dataframe tbody tr th:only-of-type {\n",
       "        vertical-align: middle;\n",
       "    }\n",
       "\n",
       "    .dataframe tbody tr th {\n",
       "        vertical-align: top;\n",
       "    }\n",
       "\n",
       "    .dataframe thead th {\n",
       "        text-align: right;\n",
       "    }\n",
       "</style>\n",
       "<table border=\"1\" class=\"dataframe\">\n",
       "  <thead>\n",
       "    <tr style=\"text-align: right;\">\n",
       "      <th></th>\n",
       "      <th>Disease</th>\n",
       "      <th>Symptoms</th>\n",
       "    </tr>\n",
       "  </thead>\n",
       "  <tbody>\n",
       "    <tr>\n",
       "      <th>0</th>\n",
       "      <td>Atopic Dermatitis</td>\n",
       "      <td>symptoms of keratosis pilaris may include:you ...</td>\n",
       "    </tr>\n",
       "    <tr>\n",
       "      <th>1</th>\n",
       "      <td>Atopic Dermatitis</td>\n",
       "      <td>keratosis pilaris can occur at any age, but it...</td>\n",
       "    </tr>\n",
       "    <tr>\n",
       "      <th>2</th>\n",
       "      <td>Atopic Dermatitis</td>\n",
       "      <td>actinic keratoses vary in appearance. symptoms...</td>\n",
       "    </tr>\n",
       "    <tr>\n",
       "      <th>3</th>\n",
       "      <td>Atopic Dermatitis</td>\n",
       "      <td>symptoms of seborrheic keratosis are skin grow...</td>\n",
       "    </tr>\n",
       "    <tr>\n",
       "      <th>4</th>\n",
       "      <td>Atopic Dermatitis</td>\n",
       "      <td>symptoms may include:small bumps that look lik...</td>\n",
       "    </tr>\n",
       "    <tr>\n",
       "      <th>...</th>\n",
       "      <td>...</td>\n",
       "      <td>...</td>\n",
       "    </tr>\n",
       "    <tr>\n",
       "      <th>326</th>\n",
       "      <td>Seborrheic Keratoses and other Benign Tumors</td>\n",
       "      <td>on an earlobe, youâll likely see a round, sol...</td>\n",
       "    </tr>\n",
       "    <tr>\n",
       "      <th>327</th>\n",
       "      <td>Seborrheic Keratoses and other Benign Tumors</td>\n",
       "      <td>a keratoacanthoma appears and grows rapidly ov...</td>\n",
       "    </tr>\n",
       "    <tr>\n",
       "      <th>328</th>\n",
       "      <td>Seborrheic Keratoses and other Benign Tumors</td>\n",
       "      <td>feeling a lump just beneath the skin it may be...</td>\n",
       "    </tr>\n",
       "    <tr>\n",
       "      <th>329</th>\n",
       "      <td>Seborrheic Keratoses and other Benign Tumors</td>\n",
       "      <td>the growths can:  be slightly raised from the ...</td>\n",
       "    </tr>\n",
       "    <tr>\n",
       "      <th>330</th>\n",
       "      <td>Seborrheic Keratoses and other Benign Tumors</td>\n",
       "      <td>sebaceous hyperplasia causes yellowish or fles...</td>\n",
       "    </tr>\n",
       "  </tbody>\n",
       "</table>\n",
       "<p>331 rows × 2 columns</p>\n",
       "</div>"
      ],
      "text/plain": [
       "                                          Disease  \\\n",
       "0                               Atopic Dermatitis   \n",
       "1                               Atopic Dermatitis   \n",
       "2                               Atopic Dermatitis   \n",
       "3                               Atopic Dermatitis   \n",
       "4                               Atopic Dermatitis   \n",
       "..                                            ...   \n",
       "326  Seborrheic Keratoses and other Benign Tumors   \n",
       "327  Seborrheic Keratoses and other Benign Tumors   \n",
       "328  Seborrheic Keratoses and other Benign Tumors   \n",
       "329  Seborrheic Keratoses and other Benign Tumors   \n",
       "330  Seborrheic Keratoses and other Benign Tumors   \n",
       "\n",
       "                                              Symptoms  \n",
       "0    symptoms of keratosis pilaris may include:you ...  \n",
       "1    keratosis pilaris can occur at any age, but it...  \n",
       "2    actinic keratoses vary in appearance. symptoms...  \n",
       "3    symptoms of seborrheic keratosis are skin grow...  \n",
       "4    symptoms may include:small bumps that look lik...  \n",
       "..                                                 ...  \n",
       "326  on an earlobe, youâll likely see a round, sol...  \n",
       "327  a keratoacanthoma appears and grows rapidly ov...  \n",
       "328  feeling a lump just beneath the skin it may be...  \n",
       "329  the growths can:  be slightly raised from the ...  \n",
       "330  sebaceous hyperplasia causes yellowish or fles...  \n",
       "\n",
       "[331 rows x 2 columns]"
      ]
     },
     "execution_count": 34,
     "metadata": {},
     "output_type": "execute_result"
    }
   ],
   "source": [
    "train_t"
   ]
  },
  {
   "cell_type": "code",
   "execution_count": 7,
   "metadata": {},
   "outputs": [
    {
     "data": {
      "text/html": [
       "<div>\n",
       "<style scoped>\n",
       "    .dataframe tbody tr th:only-of-type {\n",
       "        vertical-align: middle;\n",
       "    }\n",
       "\n",
       "    .dataframe tbody tr th {\n",
       "        vertical-align: top;\n",
       "    }\n",
       "\n",
       "    .dataframe thead th {\n",
       "        text-align: right;\n",
       "    }\n",
       "</style>\n",
       "<table border=\"1\" class=\"dataframe\">\n",
       "  <thead>\n",
       "    <tr style=\"text-align: right;\">\n",
       "      <th></th>\n",
       "      <th>Symptoms</th>\n",
       "    </tr>\n",
       "    <tr>\n",
       "      <th>Disease</th>\n",
       "      <th></th>\n",
       "    </tr>\n",
       "  </thead>\n",
       "  <tbody>\n",
       "    <tr>\n",
       "      <th>Atopic Dermatitis</th>\n",
       "      <td>32</td>\n",
       "    </tr>\n",
       "    <tr>\n",
       "      <th>Lupus and other Connective Tissue diseases</th>\n",
       "      <td>17</td>\n",
       "    </tr>\n",
       "    <tr>\n",
       "      <th>Scabies Lyme Diease and other Infestations and Bites</th>\n",
       "      <td>25</td>\n",
       "    </tr>\n",
       "    <tr>\n",
       "      <th>Seborrheic Keratoses and other Benign Tumors</th>\n",
       "      <td>8</td>\n",
       "    </tr>\n",
       "  </tbody>\n",
       "</table>\n",
       "</div>"
      ],
      "text/plain": [
       "                                                    Symptoms\n",
       "Disease                                                     \n",
       "Atopic Dermatitis                                         32\n",
       "Lupus and other Connective Tissue diseases                17\n",
       "Scabies Lyme Diease and other Infestations and ...        25\n",
       "Seborrheic Keratoses and other Benign Tumors               8"
      ]
     },
     "execution_count": 7,
     "metadata": {},
     "output_type": "execute_result"
    }
   ],
   "source": [
    "test_t.groupby(test_t['Disease']).count()"
   ]
  },
  {
   "cell_type": "code",
   "execution_count": 8,
   "metadata": {},
   "outputs": [
    {
     "data": {
      "text/html": [
       "<div>\n",
       "<style scoped>\n",
       "    .dataframe tbody tr th:only-of-type {\n",
       "        vertical-align: middle;\n",
       "    }\n",
       "\n",
       "    .dataframe tbody tr th {\n",
       "        vertical-align: top;\n",
       "    }\n",
       "\n",
       "    .dataframe thead th {\n",
       "        text-align: right;\n",
       "    }\n",
       "</style>\n",
       "<table border=\"1\" class=\"dataframe\">\n",
       "  <thead>\n",
       "    <tr style=\"text-align: right;\">\n",
       "      <th></th>\n",
       "      <th>Symptoms</th>\n",
       "    </tr>\n",
       "    <tr>\n",
       "      <th>Disease</th>\n",
       "      <th></th>\n",
       "    </tr>\n",
       "  </thead>\n",
       "  <tbody>\n",
       "    <tr>\n",
       "      <th>Atopic Dermatitis</th>\n",
       "      <td>128</td>\n",
       "    </tr>\n",
       "    <tr>\n",
       "      <th>Lupus and other Connective Tissue diseases</th>\n",
       "      <td>68</td>\n",
       "    </tr>\n",
       "    <tr>\n",
       "      <th>Scabies Lyme Diease and other Infestations and Bites</th>\n",
       "      <td>102</td>\n",
       "    </tr>\n",
       "    <tr>\n",
       "      <th>Seborrheic Keratoses and other Benign Tumors</th>\n",
       "      <td>33</td>\n",
       "    </tr>\n",
       "  </tbody>\n",
       "</table>\n",
       "</div>"
      ],
      "text/plain": [
       "                                                    Symptoms\n",
       "Disease                                                     \n",
       "Atopic Dermatitis                                        128\n",
       "Lupus and other Connective Tissue diseases                68\n",
       "Scabies Lyme Diease and other Infestations and ...       102\n",
       "Seborrheic Keratoses and other Benign Tumors              33"
      ]
     },
     "execution_count": 8,
     "metadata": {},
     "output_type": "execute_result"
    }
   ],
   "source": [
    "train_t.groupby(train_t['Disease']).count()"
   ]
  },
  {
   "cell_type": "code",
   "execution_count": 9,
   "metadata": {},
   "outputs": [],
   "source": [
    "def process(df):\n",
    "    df['Symptoms'] = df['Symptoms'].str.lower()  # Convert to lower case\n",
    "    df['Symptoms'] = df['Symptoms'].str.replace('[^\\w\\s]', '')  # Remove punctuation\n",
    "    df['Symptoms'] = df['Symptoms'].str.replace('\\n', ' ')  # Remove punctuation\n",
    "    return df"
   ]
  },
  {
   "cell_type": "code",
   "execution_count": 10,
   "metadata": {},
   "outputs": [],
   "source": [
    "train_t = process(train_t)\n",
    "test_t = process(test_t)"
   ]
  },
  {
   "cell_type": "code",
   "execution_count": 12,
   "metadata": {},
   "outputs": [],
   "source": [
    "Xtrain = train_t['Symptoms']  # Features (text data)\n",
    "ytrain = train_t['Disease']     # Labels (class for each text entry)\n",
    "label_encoder = LabelEncoder()\n",
    "ytrain_e = label_encoder.fit_transform(ytrain)"
   ]
  },
  {
   "cell_type": "code",
   "execution_count": 13,
   "metadata": {},
   "outputs": [],
   "source": [
    "Xtest = test_t['Symptoms']  # Features (text data)\n",
    "ytest = test_t['Disease']     # Labels (class for each text entry)\n",
    "label_encoder = LabelEncoder()\n",
    "ytest_e = label_encoder.fit_transform(ytest)"
   ]
  },
  {
   "cell_type": "code",
   "execution_count": 65,
   "metadata": {},
   "outputs": [
    {
     "data": {
      "text/plain": [
       "0     breast eczema  may affect the nipples, areolae...\n",
       "1      symptoms refer to the sensations that people ...\n",
       "2     dry, itchy skin thick, rough skin that looks d...\n",
       "3     the major symptoms of xli include scaling of t...\n",
       "4     the dry scaling appearance is most noticeable ...\n",
       "                            ...                        \n",
       "77    symptoms of seborrheic keratosis are skin grow...\n",
       "78    seborrheic keratoses can occur anywhere on the...\n",
       "79    dermatofibromas are most often found on the ar...\n",
       "80      rosacea is limited to the face and scalp and...\n",
       "81    a round or oval-shaped waxy or rough bump, typ...\n",
       "Name: Symptoms, Length: 82, dtype: object"
      ]
     },
     "execution_count": 65,
     "metadata": {},
     "output_type": "execute_result"
    }
   ],
   "source": [
    "Xtest"
   ]
  },
  {
   "cell_type": "code",
   "execution_count": 66,
   "metadata": {},
   "outputs": [
    {
     "ename": "NameError",
     "evalue": "name 'Ytest' is not defined",
     "output_type": "error",
     "traceback": [
      "\u001b[0;31m---------------------------------------------------------------------------\u001b[0m",
      "\u001b[0;31mNameError\u001b[0m                                 Traceback (most recent call last)",
      "\u001b[1;32m/Users/sumiko/Desktop/git/skindiagnosis/notebooks/multimodal model draft copy.ipynb Cell 13\u001b[0m line \u001b[0;36m1\n\u001b[0;32m----> <a href='vscode-notebook-cell:/Users/sumiko/Desktop/git/skindiagnosis/notebooks/multimodal%20model%20draft%20copy.ipynb#Y106sZmlsZQ%3D%3D?line=0'>1</a>\u001b[0m Ytest\n",
      "\u001b[0;31mNameError\u001b[0m: name 'Ytest' is not defined"
     ]
    }
   ],
   "source": [
    "t"
   ]
  },
  {
   "cell_type": "code",
   "execution_count": 16,
   "metadata": {},
   "outputs": [
    {
     "data": {
      "text/plain": [
       "(82,)"
      ]
     },
     "execution_count": 16,
     "metadata": {},
     "output_type": "execute_result"
    }
   ],
   "source": [
    "Xtest.shape"
   ]
  },
  {
   "cell_type": "code",
   "execution_count": 17,
   "metadata": {},
   "outputs": [
    {
     "data": {
      "text/plain": [
       "(331,)"
      ]
     },
     "execution_count": 17,
     "metadata": {},
     "output_type": "execute_result"
    }
   ],
   "source": [
    "Xtrain.shape"
   ]
  },
  {
   "cell_type": "code",
   "execution_count": 18,
   "metadata": {},
   "outputs": [],
   "source": [
    "vectorizer = TfidfVectorizer(max_features=810)\n",
    "X_train_vectors = vectorizer.fit_transform(Xtrain.values.astype('U'))\n",
    "X_test_vectors = vectorizer.transform(Xtest.values.astype('U'))"
   ]
  },
  {
   "cell_type": "code",
   "execution_count": 19,
   "metadata": {},
   "outputs": [
    {
     "data": {
      "text/plain": [
       "<82x810 sparse matrix of type '<class 'numpy.float64'>'\n",
       "\twith 4533 stored elements in Compressed Sparse Row format>"
      ]
     },
     "execution_count": 19,
     "metadata": {},
     "output_type": "execute_result"
    }
   ],
   "source": [
    "X_test_vectors"
   ]
  },
  {
   "cell_type": "code",
   "execution_count": 20,
   "metadata": {},
   "outputs": [],
   "source": [
    "from sklearn.naive_bayes import MultinomialNB\n",
    "from sklearn.linear_model import LogisticRegression\n",
    "from sklearn import svm"
   ]
  },
  {
   "cell_type": "code",
   "execution_count": 21,
   "metadata": {},
   "outputs": [],
   "source": [
    "svmmodel = svm.SVC(kernel='linear', probability=True)  # SVC is often a good starting point"
   ]
  },
  {
   "cell_type": "code",
   "execution_count": 22,
   "metadata": {},
   "outputs": [
    {
     "data": {
      "text/html": [
       "<style>#sk-container-id-1 {color: black;}#sk-container-id-1 pre{padding: 0;}#sk-container-id-1 div.sk-toggleable {background-color: white;}#sk-container-id-1 label.sk-toggleable__label {cursor: pointer;display: block;width: 100%;margin-bottom: 0;padding: 0.3em;box-sizing: border-box;text-align: center;}#sk-container-id-1 label.sk-toggleable__label-arrow:before {content: \"▸\";float: left;margin-right: 0.25em;color: #696969;}#sk-container-id-1 label.sk-toggleable__label-arrow:hover:before {color: black;}#sk-container-id-1 div.sk-estimator:hover label.sk-toggleable__label-arrow:before {color: black;}#sk-container-id-1 div.sk-toggleable__content {max-height: 0;max-width: 0;overflow: hidden;text-align: left;background-color: #f0f8ff;}#sk-container-id-1 div.sk-toggleable__content pre {margin: 0.2em;color: black;border-radius: 0.25em;background-color: #f0f8ff;}#sk-container-id-1 input.sk-toggleable__control:checked~div.sk-toggleable__content {max-height: 200px;max-width: 100%;overflow: auto;}#sk-container-id-1 input.sk-toggleable__control:checked~label.sk-toggleable__label-arrow:before {content: \"▾\";}#sk-container-id-1 div.sk-estimator input.sk-toggleable__control:checked~label.sk-toggleable__label {background-color: #d4ebff;}#sk-container-id-1 div.sk-label input.sk-toggleable__control:checked~label.sk-toggleable__label {background-color: #d4ebff;}#sk-container-id-1 input.sk-hidden--visually {border: 0;clip: rect(1px 1px 1px 1px);clip: rect(1px, 1px, 1px, 1px);height: 1px;margin: -1px;overflow: hidden;padding: 0;position: absolute;width: 1px;}#sk-container-id-1 div.sk-estimator {font-family: monospace;background-color: #f0f8ff;border: 1px dotted black;border-radius: 0.25em;box-sizing: border-box;margin-bottom: 0.5em;}#sk-container-id-1 div.sk-estimator:hover {background-color: #d4ebff;}#sk-container-id-1 div.sk-parallel-item::after {content: \"\";width: 100%;border-bottom: 1px solid gray;flex-grow: 1;}#sk-container-id-1 div.sk-label:hover label.sk-toggleable__label {background-color: #d4ebff;}#sk-container-id-1 div.sk-serial::before {content: \"\";position: absolute;border-left: 1px solid gray;box-sizing: border-box;top: 0;bottom: 0;left: 50%;z-index: 0;}#sk-container-id-1 div.sk-serial {display: flex;flex-direction: column;align-items: center;background-color: white;padding-right: 0.2em;padding-left: 0.2em;position: relative;}#sk-container-id-1 div.sk-item {position: relative;z-index: 1;}#sk-container-id-1 div.sk-parallel {display: flex;align-items: stretch;justify-content: center;background-color: white;position: relative;}#sk-container-id-1 div.sk-item::before, #sk-container-id-1 div.sk-parallel-item::before {content: \"\";position: absolute;border-left: 1px solid gray;box-sizing: border-box;top: 0;bottom: 0;left: 50%;z-index: -1;}#sk-container-id-1 div.sk-parallel-item {display: flex;flex-direction: column;z-index: 1;position: relative;background-color: white;}#sk-container-id-1 div.sk-parallel-item:first-child::after {align-self: flex-end;width: 50%;}#sk-container-id-1 div.sk-parallel-item:last-child::after {align-self: flex-start;width: 50%;}#sk-container-id-1 div.sk-parallel-item:only-child::after {width: 0;}#sk-container-id-1 div.sk-dashed-wrapped {border: 1px dashed gray;margin: 0 0.4em 0.5em 0.4em;box-sizing: border-box;padding-bottom: 0.4em;background-color: white;}#sk-container-id-1 div.sk-label label {font-family: monospace;font-weight: bold;display: inline-block;line-height: 1.2em;}#sk-container-id-1 div.sk-label-container {text-align: center;}#sk-container-id-1 div.sk-container {/* jupyter's `normalize.less` sets `[hidden] { display: none; }` but bootstrap.min.css set `[hidden] { display: none !important; }` so we also need the `!important` here to be able to override the default hidden behavior on the sphinx rendered scikit-learn.org. See: https://github.com/scikit-learn/scikit-learn/issues/21755 */display: inline-block !important;position: relative;}#sk-container-id-1 div.sk-text-repr-fallback {display: none;}</style><div id=\"sk-container-id-1\" class=\"sk-top-container\"><div class=\"sk-text-repr-fallback\"><pre>SVC(kernel=&#x27;linear&#x27;, probability=True)</pre><b>In a Jupyter environment, please rerun this cell to show the HTML representation or trust the notebook. <br />On GitHub, the HTML representation is unable to render, please try loading this page with nbviewer.org.</b></div><div class=\"sk-container\" hidden><div class=\"sk-item\"><div class=\"sk-estimator sk-toggleable\"><input class=\"sk-toggleable__control sk-hidden--visually\" id=\"sk-estimator-id-1\" type=\"checkbox\" checked><label for=\"sk-estimator-id-1\" class=\"sk-toggleable__label sk-toggleable__label-arrow\">SVC</label><div class=\"sk-toggleable__content\"><pre>SVC(kernel=&#x27;linear&#x27;, probability=True)</pre></div></div></div></div></div>"
      ],
      "text/plain": [
       "SVC(kernel='linear', probability=True)"
      ]
     },
     "execution_count": 22,
     "metadata": {},
     "output_type": "execute_result"
    }
   ],
   "source": [
    "svmmodel.fit(X_train_vectors, ytrain)\n"
   ]
  },
  {
   "cell_type": "code",
   "execution_count": 23,
   "metadata": {},
   "outputs": [
    {
     "name": "stdout",
     "output_type": "stream",
     "text": [
      "Accuracy: 0.8780487804878049\n",
      "                                                      precision    recall  f1-score   support\n",
      "\n",
      "                                   Atopic Dermatitis       0.84      1.00      0.91        32\n",
      "          Lupus and other Connective Tissue diseases       1.00      0.88      0.94        17\n",
      "Scabies Lyme Diease and other Infestations and Bites       0.86      0.76      0.81        25\n",
      "        Seborrheic Keratoses and other Benign Tumors       0.86      0.75      0.80         8\n",
      "\n",
      "                                            accuracy                           0.88        82\n",
      "                                           macro avg       0.89      0.85      0.87        82\n",
      "                                        weighted avg       0.88      0.88      0.88        82\n",
      "\n"
     ]
    }
   ],
   "source": [
    "from sklearn.metrics import classification_report, accuracy_score\n",
    "\n",
    "# Predict the labels for the test set\n",
    "y_pred = svmmodel.predict(X_test_vectors)\n",
    "\n",
    "# Evaluate the model\n",
    "print(f'Accuracy: {accuracy_score(ytest, y_pred)}')\n",
    "print(classification_report(ytest, y_pred, target_names=label_encoder.classes_))\n"
   ]
  },
  {
   "cell_type": "code",
   "execution_count": 69,
   "metadata": {},
   "outputs": [
    {
     "name": "stdout",
     "output_type": "stream",
     "text": [
      "Accuracy: 0.9879154078549849\n",
      "                                                      precision    recall  f1-score   support\n",
      "\n",
      "                                   Atopic Dermatitis       0.98      0.99      0.99       128\n",
      "          Lupus and other Connective Tissue diseases       0.99      0.99      0.99        68\n",
      "Scabies Lyme Diease and other Infestations and Bites       0.99      0.98      0.99       102\n",
      "        Seborrheic Keratoses and other Benign Tumors       1.00      1.00      1.00        33\n",
      "\n",
      "                                            accuracy                           0.99       331\n",
      "                                           macro avg       0.99      0.99      0.99       331\n",
      "                                        weighted avg       0.99      0.99      0.99       331\n",
      "\n"
     ]
    }
   ],
   "source": [
    "# Predict the labels for the test set\n",
    "y_pred = svmmodel.predict(X_train_vectors)\n",
    "\n",
    "# Evaluate the model\n",
    "print(f'Accuracy: {accuracy_score(ytrain, y_pred)}')\n",
    "print(classification_report(ytrain, y_pred, target_names=label_encoder.classes_))"
   ]
  },
  {
   "cell_type": "code",
   "execution_count": 24,
   "metadata": {},
   "outputs": [
    {
     "data": {
      "text/plain": [
       "array([[7.99654209e-01, 1.02211613e-01, 6.45005116e-02, 3.36336664e-02],\n",
       "       [6.33234288e-01, 3.64051480e-02, 3.26388035e-01, 3.97252852e-03],\n",
       "       [9.67859047e-01, 8.16926914e-03, 2.00282684e-02, 3.94341567e-03],\n",
       "       [6.05490615e-01, 7.75424531e-02, 2.82698129e-01, 3.42688028e-02],\n",
       "       [9.76447282e-01, 1.43292116e-02, 7.14822236e-03, 2.07528432e-03],\n",
       "       [6.05490615e-01, 7.75424531e-02, 2.82698129e-01, 3.42688028e-02],\n",
       "       [8.29068160e-01, 2.58463773e-02, 1.41774292e-01, 3.31117057e-03],\n",
       "       [9.61221298e-01, 1.17878502e-02, 2.42469802e-02, 2.74387191e-03],\n",
       "       [7.56558198e-01, 4.53168219e-03, 1.92224866e-01, 4.66852541e-02],\n",
       "       [9.68161524e-01, 1.40163137e-02, 1.44400652e-02, 3.38209678e-03],\n",
       "       [9.80442354e-01, 2.97520542e-03, 1.43597889e-02, 2.22265163e-03],\n",
       "       [7.56558198e-01, 4.53168219e-03, 1.92224866e-01, 4.66852541e-02],\n",
       "       [9.80166533e-01, 5.30074897e-03, 1.26260231e-02, 1.90669507e-03],\n",
       "       [8.47675797e-01, 5.91083201e-02, 4.91158932e-02, 4.40999901e-02],\n",
       "       [9.24878306e-01, 8.56571268e-03, 6.09521674e-02, 5.60381371e-03],\n",
       "       [9.68213441e-01, 2.87348904e-03, 2.82219212e-02, 6.91148237e-04],\n",
       "       [8.50732533e-01, 6.90674929e-02, 6.65985243e-02, 1.36014499e-02],\n",
       "       [9.71761445e-01, 1.02102295e-02, 1.51141505e-02, 2.91417499e-03],\n",
       "       [9.71761445e-01, 1.02102295e-02, 1.51141505e-02, 2.91417499e-03],\n",
       "       [9.84489841e-01, 1.88897285e-03, 1.19161290e-02, 1.70505670e-03],\n",
       "       [9.71761445e-01, 1.02102295e-02, 1.51141505e-02, 2.91417499e-03],\n",
       "       [9.71761445e-01, 1.02102295e-02, 1.51141505e-02, 2.91417499e-03],\n",
       "       [9.71761445e-01, 1.02102295e-02, 1.51141505e-02, 2.91417499e-03],\n",
       "       [9.71761445e-01, 1.02102295e-02, 1.51141505e-02, 2.91417499e-03],\n",
       "       [9.84489841e-01, 1.88897285e-03, 1.19161290e-02, 1.70505670e-03],\n",
       "       [7.32135358e-01, 1.35146256e-01, 9.65935720e-02, 3.61248138e-02],\n",
       "       [9.69988602e-01, 9.55113714e-03, 9.91666147e-03, 1.05435990e-02],\n",
       "       [9.65442743e-01, 1.09073564e-02, 1.41158735e-02, 9.53402681e-03],\n",
       "       [6.05490615e-01, 7.75424531e-02, 2.82698129e-01, 3.42688028e-02],\n",
       "       [9.67188872e-01, 8.72215865e-03, 1.33684946e-02, 1.07204752e-02],\n",
       "       [9.82578936e-01, 1.06430534e-02, 5.94962156e-03, 8.28388969e-04],\n",
       "       [9.61670288e-01, 9.38788073e-03, 2.19107226e-02, 7.03110902e-03],\n",
       "       [1.43235091e-02, 9.61759042e-01, 2.34403768e-02, 4.77072258e-04],\n",
       "       [1.71678633e-02, 9.66485722e-01, 1.23786198e-02, 3.96779519e-03],\n",
       "       [1.52450212e-01, 4.38066792e-01, 4.04501627e-01, 4.98136947e-03],\n",
       "       [1.78596743e-02, 9.70615949e-01, 8.62473339e-03, 2.89964361e-03],\n",
       "       [7.17922510e-02, 8.49124905e-01, 7.14884132e-02, 7.59443071e-03],\n",
       "       [1.38531063e-01, 8.14706755e-01, 4.54267438e-02, 1.33543761e-03],\n",
       "       [1.71678633e-02, 9.66485722e-01, 1.23786198e-02, 3.96779519e-03],\n",
       "       [7.33281140e-03, 9.19095981e-01, 7.30712221e-02, 4.99985255e-04],\n",
       "       [1.83877521e-02, 9.69175785e-01, 9.98892053e-03, 2.44754286e-03],\n",
       "       [1.87066343e-02, 9.70029168e-01, 9.19394905e-03, 2.07024840e-03],\n",
       "       [1.85608811e-02, 9.69370941e-01, 9.66553949e-03, 2.40263860e-03],\n",
       "       [1.57369869e-01, 9.76745370e-02, 7.40475933e-01, 4.47966115e-03],\n",
       "       [4.24055811e-02, 9.20013471e-01, 3.45594102e-02, 3.02153771e-03],\n",
       "       [1.23722362e-02, 9.40640171e-01, 3.78123207e-02, 9.17527253e-03],\n",
       "       [1.83877521e-02, 9.69175785e-01, 9.98892053e-03, 2.44754286e-03],\n",
       "       [5.03085806e-02, 8.02838190e-01, 1.30804008e-01, 1.60492212e-02],\n",
       "       [1.74541622e-02, 9.69579078e-01, 9.77418904e-03, 3.19257112e-03],\n",
       "       [4.29469798e-01, 7.38841670e-02, 1.73887871e-01, 3.22758164e-01],\n",
       "       [9.73414307e-01, 1.53267808e-02, 1.01972448e-02, 1.06166721e-03],\n",
       "       [2.30995399e-02, 5.94459473e-03, 9.54620649e-01, 1.63352167e-02],\n",
       "       [5.40529268e-02, 2.00418673e-01, 7.38801477e-01, 6.72692301e-03],\n",
       "       [2.07607827e-01, 6.19117369e-02, 1.40255124e-01, 5.90225313e-01],\n",
       "       [1.15410800e-02, 3.70570175e-03, 9.84423609e-01, 3.29608955e-04],\n",
       "       [1.02994412e-02, 3.12081579e-03, 9.86068226e-01, 5.11516652e-04],\n",
       "       [9.84474816e-02, 1.19339629e-02, 8.86215871e-01, 3.40268422e-03],\n",
       "       [3.01898228e-02, 5.96855355e-02, 9.08034515e-01, 2.09012692e-03],\n",
       "       [2.81373090e-02, 4.12187159e-03, 7.70291709e-01, 1.97449110e-01],\n",
       "       [1.09599398e-01, 7.78179288e-02, 5.96273797e-01, 2.16308876e-01],\n",
       "       [2.81511956e-02, 4.48696676e-02, 9.17963939e-01, 9.01519759e-03],\n",
       "       [1.13616222e-02, 6.08430382e-03, 9.80217064e-01, 2.33700994e-03],\n",
       "       [1.81029605e-02, 2.76486941e-02, 9.52338951e-01, 1.90939419e-03],\n",
       "       [2.35862596e-01, 4.59597323e-02, 6.82851515e-01, 3.53261563e-02],\n",
       "       [3.12755683e-02, 4.20484576e-02, 9.14407869e-01, 1.22681052e-02],\n",
       "       [9.19676032e-02, 4.62030673e-02, 8.53554910e-01, 8.27441928e-03],\n",
       "       [4.37355083e-01, 1.44877465e-02, 5.34617560e-01, 1.35396104e-02],\n",
       "       [1.64604997e-01, 4.52806333e-01, 3.81224854e-01, 1.36381575e-03],\n",
       "       [1.82217729e-02, 1.57675627e-02, 9.57744436e-01, 8.26622822e-03],\n",
       "       [9.07967235e-01, 4.05989006e-03, 8.57552018e-02, 2.21767262e-03],\n",
       "       [4.22939063e-01, 1.74976829e-01, 2.27437211e-01, 1.74646897e-01],\n",
       "       [1.40835071e-02, 1.12411333e-02, 9.66350204e-01, 8.32515547e-03],\n",
       "       [4.24244678e-02, 3.31892350e-02, 9.20483835e-01, 3.90246223e-03],\n",
       "       [9.21619182e-01, 2.09795706e-02, 3.44707829e-02, 2.29304643e-02],\n",
       "       [4.32567165e-03, 1.29278308e-03, 1.30770804e-03, 9.93073837e-01],\n",
       "       [3.01843684e-02, 4.43307123e-03, 3.87305655e-02, 9.26651995e-01],\n",
       "       [6.21259249e-02, 3.77273133e-02, 1.25672021e-01, 7.74474741e-01],\n",
       "       [9.04358968e-01, 5.97657741e-03, 7.38622675e-03, 8.22782275e-02],\n",
       "       [1.01137097e-01, 1.05458374e-02, 1.37219230e-02, 8.74595143e-01],\n",
       "       [2.19825610e-02, 8.87015176e-03, 1.22484467e-02, 9.56898841e-01],\n",
       "       [2.62849375e-01, 3.58559042e-01, 3.30913635e-01, 4.76779476e-02],\n",
       "       [2.72514217e-03, 9.00090831e-04, 6.92894605e-04, 9.95681872e-01]])"
      ]
     },
     "execution_count": 24,
     "metadata": {},
     "output_type": "execute_result"
    }
   ],
   "source": [
    "text_probabilities = svmmodel.predict_proba(X_test_vectors)\n",
    "text_probabilities"
   ]
  },
  {
   "cell_type": "markdown",
   "metadata": {},
   "source": [
    "# CNN Model"
   ]
  },
  {
   "cell_type": "code",
   "execution_count": 25,
   "metadata": {},
   "outputs": [
    {
     "name": "stderr",
     "output_type": "stream",
     "text": [
      "2023-11-10 15:35:30.337184: I tensorflow/core/platform/cpu_feature_guard.cc:182] This TensorFlow binary is optimized to use available CPU instructions in performance-critical operations.\n",
      "To enable the following instructions: SSE4.1 SSE4.2 AVX AVX2 FMA, in other operations, rebuild TensorFlow with the appropriate compiler flags.\n"
     ]
    }
   ],
   "source": [
    "import os\n",
    "import cv2\n",
    "import numpy as np\n",
    "import matplotlib.pyplot as plt\n",
    "import pandas as pd\n",
    "# CNN libraries\n",
    "import tensorflow as tf\n",
    "from tensorflow.keras import layers, models\n",
    "from tensorflow.keras.preprocessing.image import ImageDataGenerator"
   ]
  },
  {
   "cell_type": "code",
   "execution_count": 26,
   "metadata": {},
   "outputs": [],
   "source": [
    "train_data = \"../data/images/dermnet/train1\"\n",
    "test_data = \"../data/images/dermnet/test1/\""
   ]
  },
  {
   "cell_type": "code",
   "execution_count": 27,
   "metadata": {},
   "outputs": [
    {
     "name": "stdout",
     "output_type": "stream",
     "text": [
      "Found 2711 images belonging to 4 classes.\n",
      "Found 679 images belonging to 4 classes.\n"
     ]
    }
   ],
   "source": [
    "# Preprocess\n",
    "input_shape = (224, 224, 3) \n",
    "num_classes = 4\n",
    "\n",
    "train_datagen = ImageDataGenerator(rescale=1./255)\n",
    "validation_datagen = ImageDataGenerator(rescale=1./255)\n",
    "\n",
    "train_generator = train_datagen.flow_from_directory(\n",
    "        train_data,\n",
    "        target_size=input_shape[:2],\n",
    "        batch_size=32,\n",
    "        class_mode='categorical')\n",
    "\n",
    "validation_generator = validation_datagen.flow_from_directory(\n",
    "        test_data,\n",
    "        target_size=input_shape[:2],\n",
    "        batch_size=32,\n",
    "        class_mode='categorical')"
   ]
  },
  {
   "cell_type": "code",
   "execution_count": 28,
   "metadata": {},
   "outputs": [],
   "source": [
    "def build_model(input_shape, num_classes):\n",
    "    model = models.Sequential()\n",
    "    model.add(layers.Conv2D(32, (3, 3), activation='relu', input_shape=input_shape))\n",
    "    model.add(layers.MaxPooling2D((2, 2)))\n",
    "    model.add(layers.Conv2D(64, (3, 3), activation='relu'))\n",
    "    model.add(layers.MaxPooling2D((2, 2)))\n",
    "    model.add(layers.Conv2D(64, (3, 3), activation='relu'))\n",
    "    model.add(layers.Flatten())\n",
    "    model.add(layers.Dense(64, activation='relu'))\n",
    "    model.add(layers.Dense(num_classes, activation='softmax'))\n",
    "    return model"
   ]
  },
  {
   "cell_type": "code",
   "execution_count": 29,
   "metadata": {},
   "outputs": [],
   "source": [
    "model = build_model(input_shape, num_classes)\n",
    "model.compile(optimizer='adam', loss='categorical_crossentropy', metrics=['accuracy'])"
   ]
  },
  {
   "cell_type": "code",
   "execution_count": 30,
   "metadata": {},
   "outputs": [
    {
     "name": "stdout",
     "output_type": "stream",
     "text": [
      "Epoch 1/10\n"
     ]
    },
    {
     "name": "stderr",
     "output_type": "stream",
     "text": [
      "2023-11-10 15:36:34.699338: I tensorflow/core/common_runtime/executor.cc:1197] [/device:CPU:0] (DEBUG INFO) Executor start aborting (this does not indicate an error and you can ignore this message): INVALID_ARGUMENT: You must feed a value for placeholder tensor 'Placeholder/_0' with dtype int32\n",
      "\t [[{{node Placeholder/_0}}]]\n"
     ]
    },
    {
     "name": "stdout",
     "output_type": "stream",
     "text": [
      "50/50 [==============================] - ETA: 0s - loss: 1.6191 - accuracy: 0.4915"
     ]
    },
    {
     "name": "stderr",
     "output_type": "stream",
     "text": [
      "2023-11-10 15:37:50.721800: I tensorflow/core/common_runtime/executor.cc:1197] [/device:CPU:0] (DEBUG INFO) Executor start aborting (this does not indicate an error and you can ignore this message): INVALID_ARGUMENT: You must feed a value for placeholder tensor 'Placeholder/_0' with dtype int32\n",
      "\t [[{{node Placeholder/_0}}]]\n"
     ]
    },
    {
     "name": "stdout",
     "output_type": "stream",
     "text": [
      "WARNING:tensorflow:Your input ran out of data; interrupting training. Make sure that your dataset or generator can generate at least `steps_per_epoch * epochs` batches (in this case, 25 batches). You may need to use the repeat() function when building your dataset.\n",
      "50/50 [==============================] - 91s 2s/step - loss: 1.6191 - accuracy: 0.4915 - val_loss: 1.1455 - val_accuracy: 0.5376\n",
      "Epoch 2/10\n",
      "50/50 [==============================] - 66s 1s/step - loss: 1.1269 - accuracy: 0.5563\n",
      "Epoch 3/10\n",
      "50/50 [==============================] - 64s 1s/step - loss: 1.0938 - accuracy: 0.5594\n",
      "Epoch 4/10\n",
      "50/50 [==============================] - 63s 1s/step - loss: 1.0692 - accuracy: 0.5788\n",
      "Epoch 5/10\n",
      "50/50 [==============================] - 75s 2s/step - loss: 1.0004 - accuracy: 0.6056\n",
      "Epoch 6/10\n",
      "50/50 [==============================] - 69s 1s/step - loss: 0.9551 - accuracy: 0.6438\n",
      "Epoch 7/10\n",
      "50/50 [==============================] - 75s 2s/step - loss: 0.8743 - accuracy: 0.6825\n",
      "Epoch 8/10\n",
      "50/50 [==============================] - 77s 2s/step - loss: 0.8186 - accuracy: 0.7019\n",
      "Epoch 9/10\n",
      "50/50 [==============================] - 82s 2s/step - loss: 0.6866 - accuracy: 0.7575\n",
      "Epoch 10/10\n",
      "50/50 [==============================] - 63s 1s/step - loss: 0.6109 - accuracy: 0.7750\n"
     ]
    }
   ],
   "source": [
    "history = model.fit(\n",
    "      train_generator,\n",
    "      steps_per_epoch=50, \n",
    "      epochs=10,\n",
    "      validation_data=validation_generator,\n",
    "      validation_steps=25)"
   ]
  },
  {
   "cell_type": "code",
   "execution_count": 31,
   "metadata": {},
   "outputs": [
    {
     "name": "stderr",
     "output_type": "stream",
     "text": [
      "2023-11-10 15:49:00.563270: I tensorflow/core/common_runtime/executor.cc:1197] [/device:CPU:0] (DEBUG INFO) Executor start aborting (this does not indicate an error and you can ignore this message): INVALID_ARGUMENT: You must feed a value for placeholder tensor 'Placeholder/_0' with dtype int32\n",
      "\t [[{{node Placeholder/_0}}]]\n"
     ]
    },
    {
     "name": "stdout",
     "output_type": "stream",
     "text": [
      "22/25 [=========================>....] - ETA: 1s - loss: 1.4940 - accuracy: 0.5376WARNING:tensorflow:Your input ran out of data; interrupting training. Make sure that your dataset or generator can generate at least `steps_per_epoch * epochs` batches (in this case, 25 batches). You may need to use the repeat() function when building your dataset.\n",
      "25/25 [==============================] - 10s 369ms/step - loss: 1.4940 - accuracy: 0.5376\n",
      "\n",
      "Test accuracy: 0.5375552177429199\n"
     ]
    }
   ],
   "source": [
    "test_loss, test_acc = model.evaluate(validation_generator, steps=25)\n",
    "print('\\nTest accuracy:', test_acc)"
   ]
  },
  {
   "cell_type": "code",
   "execution_count": null,
   "metadata": {},
   "outputs": [],
   "source": []
  },
  {
   "cell_type": "code",
   "execution_count": 10,
   "metadata": {},
   "outputs": [
    {
     "name": "stderr",
     "output_type": "stream",
     "text": [
      "2023-11-04 23:44:10.495731: I tensorflow/core/common_runtime/executor.cc:1197] [/device:CPU:0] (DEBUG INFO) Executor start aborting (this does not indicate an error and you can ignore this message): INVALID_ARGUMENT: You must feed a value for placeholder tensor 'Placeholder/_0' with dtype int32\n",
      "\t [[{{node Placeholder/_0}}]]\n"
     ]
    },
    {
     "name": "stdout",
     "output_type": "stream",
     "text": [
      "22/22 [==============================] - 9s 410ms/step\n"
     ]
    }
   ],
   "source": [
    "image_probabilities = model.predict(validation_generator)\n"
   ]
  },
  {
   "cell_type": "code",
   "execution_count": 11,
   "metadata": {},
   "outputs": [
    {
     "data": {
      "text/plain": [
       "array([[0.17795499, 0.14731216, 0.29345915, 0.38127375],\n",
       "       [0.0707379 , 0.0477184 , 0.29970348, 0.5818402 ],\n",
       "       [0.03478829, 0.13660417, 0.45125857, 0.37734893],\n",
       "       ...,\n",
       "       [0.02061159, 0.00706999, 0.11229225, 0.8600261 ],\n",
       "       [0.65240234, 0.05708424, 0.21682031, 0.07369312],\n",
       "       [0.725041  , 0.13644284, 0.11727757, 0.02123863]], dtype=float32)"
      ]
     },
     "execution_count": 11,
     "metadata": {},
     "output_type": "execute_result"
    }
   ],
   "source": [
    "image_probabilities"
   ]
  },
  {
   "cell_type": "markdown",
   "metadata": {},
   "source": [
    "# Combining models"
   ]
  },
  {
   "cell_type": "code",
   "execution_count": 76,
   "metadata": {},
   "outputs": [],
   "source": [
    "train_b = pd.read_csv(\"../data/train_symp_path.csv\")\n",
    "test_b = pd.read_csv(\"../data/test_symp_path.csv\")"
   ]
  },
  {
   "cell_type": "code",
   "execution_count": 107,
   "metadata": {},
   "outputs": [],
   "source": [
    "train_text = process(train_b)['Symptoms']\n",
    "test_text = process(test_b)['Symptoms']"
   ]
  },
  {
   "cell_type": "code",
   "execution_count": 110,
   "metadata": {},
   "outputs": [],
   "source": [
    "train_label = process(train_b)['Disease']\n",
    "test_label = process(test_b)['Disease']"
   ]
  },
  {
   "cell_type": "code",
   "execution_count": 80,
   "metadata": {},
   "outputs": [],
   "source": [
    "train_c = \"../data/images/dermnet/train_combined/\"\n",
    "test_c = \"../data/images/dermnet/test_combined/\""
   ]
  },
  {
   "cell_type": "code",
   "execution_count": 81,
   "metadata": {},
   "outputs": [
    {
     "name": "stdout",
     "output_type": "stream",
     "text": [
      "Found 331 images belonging to 4 classes.\n",
      "Found 82 images belonging to 4 classes.\n"
     ]
    }
   ],
   "source": [
    "# Preprocess\n",
    "input_shape = (224, 224, 3) \n",
    "num_classes = 4\n",
    "\n",
    "train_datagen = ImageDataGenerator(rescale=1./255)\n",
    "validation_datagen = ImageDataGenerator(rescale=1./255)\n",
    "\n",
    "c_train_generator = train_datagen.flow_from_directory(\n",
    "        train_c,\n",
    "        target_size=input_shape[:2],\n",
    "        batch_size=32,\n",
    "        class_mode='categorical')\n",
    "\n",
    "c_validation_generator = validation_datagen.flow_from_directory(\n",
    "        test_c,\n",
    "        target_size=input_shape[:2],\n",
    "        batch_size=32,\n",
    "        class_mode='categorical')"
   ]
  },
  {
   "cell_type": "code",
   "execution_count": 122,
   "metadata": {},
   "outputs": [
    {
     "name": "stderr",
     "output_type": "stream",
     "text": [
      "2023-11-10 17:36:10.969590: I tensorflow/core/common_runtime/executor.cc:1197] [/device:CPU:0] (DEBUG INFO) Executor start aborting (this does not indicate an error and you can ignore this message): INVALID_ARGUMENT: You must feed a value for placeholder tensor 'Placeholder/_0' with dtype int32\n",
      "\t [[{{node Placeholder/_0}}]]\n"
     ]
    },
    {
     "name": "stdout",
     "output_type": "stream",
     "text": [
      " 3/25 [==>...........................] - ETA: 7s - loss: 2.0382 - accuracy: 0.3293 WARNING:tensorflow:Your input ran out of data; interrupting training. Make sure that your dataset or generator can generate at least `steps_per_epoch * epochs` batches (in this case, 25 batches). You may need to use the repeat() function when building your dataset.\n",
      "25/25 [==============================] - 1s 29ms/step - loss: 2.0382 - accuracy: 0.3293\n",
      "\n",
      "Test accuracy: 0.32926830649375916\n"
     ]
    }
   ],
   "source": [
    "test_loss, test_acc = model.evaluate(c_validation_generator, steps=25)\n",
    "print('\\nTest accuracy:', test_acc)"
   ]
  },
  {
   "cell_type": "code",
   "execution_count": 124,
   "metadata": {},
   "outputs": [
    {
     "name": "stderr",
     "output_type": "stream",
     "text": [
      "2023-11-10 17:49:40.680728: I tensorflow/core/common_runtime/executor.cc:1197] [/device:CPU:0] (DEBUG INFO) Executor start aborting (this does not indicate an error and you can ignore this message): INVALID_ARGUMENT: You must feed a value for placeholder tensor 'Placeholder/_0' with dtype int32\n",
      "\t [[{{node Placeholder/_0}}]]\n"
     ]
    },
    {
     "name": "stdout",
     "output_type": "stream",
     "text": [
      "3/3 [==============================] - 1s 275ms/step\n"
     ]
    },
    {
     "name": "stderr",
     "output_type": "stream",
     "text": [
      "2023-11-10 17:49:42.316750: I tensorflow/core/common_runtime/executor.cc:1197] [/device:CPU:0] (DEBUG INFO) Executor start aborting (this does not indicate an error and you can ignore this message): INVALID_ARGUMENT: You must feed a value for placeholder tensor 'Placeholder/_0' with dtype int32\n",
      "\t [[{{node Placeholder/_0}}]]\n"
     ]
    },
    {
     "name": "stdout",
     "output_type": "stream",
     "text": [
      "11/11 [==============================] - 4s 382ms/step\n"
     ]
    }
   ],
   "source": [
    "image_probabilities_test= model.predict(c_validation_generator)\n",
    "image_probabilities_train = model.predict(c_train_generator)\n",
    "\n"
   ]
  },
  {
   "cell_type": "code",
   "execution_count": 111,
   "metadata": {},
   "outputs": [],
   "source": [
    "label_encoder = LabelEncoder()\n",
    "y_encoded_train = label_encoder.fit_transform(train_label)\n",
    "y_encoded_test = label_encoder.fit_transform(test_label)"
   ]
  },
  {
   "cell_type": "code",
   "execution_count": 112,
   "metadata": {},
   "outputs": [],
   "source": [
    "c_train_vector = vectorizer.fit_transform(train_text.values.astype('U'))\n"
   ]
  },
  {
   "cell_type": "code",
   "execution_count": 113,
   "metadata": {},
   "outputs": [],
   "source": [
    "c_test_vector = vectorizer.fit_transform(test_text.values.astype('U'))\n"
   ]
  },
  {
   "cell_type": "code",
   "execution_count": 114,
   "metadata": {},
   "outputs": [
    {
     "name": "stdout",
     "output_type": "stream",
     "text": [
      "Accuracy: 0.9879154078549849\n",
      "                                                      precision    recall  f1-score   support\n",
      "\n",
      "                                   Atopic Dermatitis       0.98      0.99      0.99       128\n",
      "          Lupus and other Connective Tissue diseases       0.99      0.99      0.99        68\n",
      "Scabies Lyme Diease and other Infestations and Bites       0.99      0.98      0.99       102\n",
      "        Seborrheic Keratoses and other Benign Tumors       1.00      1.00      1.00        33\n",
      "\n",
      "                                            accuracy                           0.99       331\n",
      "                                           macro avg       0.99      0.99      0.99       331\n",
      "                                        weighted avg       0.99      0.99      0.99       331\n",
      "\n"
     ]
    }
   ],
   "source": [
    "y_pred_train_c = svmmodel.predict(X_train_vectors)\n",
    "\n",
    "# Evaluate the model\n",
    "print(f'Accuracy: {accuracy_score(train_label, y_pred_train_c)}')\n",
    "print(classification_report(train_label, y_pred_train_c, target_names=label_encoder.classes_))\n"
   ]
  },
  {
   "cell_type": "code",
   "execution_count": 115,
   "metadata": {},
   "outputs": [
    {
     "data": {
      "text/plain": [
       "<82x810 sparse matrix of type '<class 'numpy.float64'>'\n",
       "\twith 5573 stored elements in Compressed Sparse Row format>"
      ]
     },
     "execution_count": 115,
     "metadata": {},
     "output_type": "execute_result"
    }
   ],
   "source": [
    "c_test_vector"
   ]
  },
  {
   "cell_type": "code",
   "execution_count": 117,
   "metadata": {},
   "outputs": [
    {
     "name": "stdout",
     "output_type": "stream",
     "text": [
      "Accuracy: 0.8780487804878049\n",
      "                                                      precision    recall  f1-score   support\n",
      "\n",
      "                                   Atopic Dermatitis       0.84      1.00      0.91        32\n",
      "          Lupus and other Connective Tissue diseases       1.00      0.88      0.94        17\n",
      "Scabies Lyme Diease and other Infestations and Bites       0.86      0.76      0.81        25\n",
      "        Seborrheic Keratoses and other Benign Tumors       0.86      0.75      0.80         8\n",
      "\n",
      "                                            accuracy                           0.88        82\n",
      "                                           macro avg       0.89      0.85      0.87        82\n",
      "                                        weighted avg       0.88      0.88      0.88        82\n",
      "\n"
     ]
    }
   ],
   "source": [
    "y_pred_test_c = svmmodel.predict(X_test_vectors)\n",
    "\n",
    "# Evaluate the model\n",
    "print(f'Accuracy: {accuracy_score(test_label, y_pred_test_c)}')\n",
    "print(classification_report(test_label, y_pred_test_c, target_names=label_encoder.classes_))\n"
   ]
  },
  {
   "cell_type": "code",
   "execution_count": 126,
   "metadata": {},
   "outputs": [],
   "source": [
    "train_text_probabilities = svmmodel.predict_proba(X_train_vectors)\n",
    "test_text_probabilities = svmmodel.predict_proba(X_test_vectors)\n"
   ]
  },
  {
   "cell_type": "code",
   "execution_count": 127,
   "metadata": {},
   "outputs": [],
   "source": [
    "stacked_probabilities_train = np.hstack((image_probabilities_train, train_text_probabilities))\n",
    "stacked_probabilities_test = np.hstack((image_probabilities_test, test_text_probabilities))"
   ]
  },
  {
   "cell_type": "code",
   "execution_count": 128,
   "metadata": {},
   "outputs": [],
   "source": [
    "from sklearn.linear_model import LogisticRegression\n",
    "\n",
    "fusion_model = LogisticRegression().fit(stacked_probabilities_train, y_encoded_train)"
   ]
  },
  {
   "cell_type": "code",
   "execution_count": 129,
   "metadata": {},
   "outputs": [
    {
     "name": "stdout",
     "output_type": "stream",
     "text": [
      "Accuracy of the fusion model: 86.59%\n"
     ]
    }
   ],
   "source": [
    "y_pred_log = fusion_model.predict(stacked_probabilities_test)\n",
    "\n",
    "\n",
    "accuracy = accuracy_score(y_encoded_test, y_pred_log)\n",
    "print(f'Accuracy of the fusion model: {accuracy * 100:.2f}%')\n"
   ]
  }
 ],
 "metadata": {
  "kernelspec": {
   "display_name": "dsa3101",
   "language": "python",
   "name": "python3"
  },
  "language_info": {
   "codemirror_mode": {
    "name": "ipython",
    "version": 3
   },
   "file_extension": ".py",
   "mimetype": "text/x-python",
   "name": "python",
   "nbconvert_exporter": "python",
   "pygments_lexer": "ipython3",
   "version": "3.11.3"
  }
 },
 "nbformat": 4,
 "nbformat_minor": 2
}
