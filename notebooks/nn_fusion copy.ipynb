{
 "cells": [
  {
   "cell_type": "code",
   "execution_count": 2,
   "metadata": {},
   "outputs": [],
   "source": [
    "import numpy as np\n",
    "import pandas as pd\n"
   ]
  },
  {
   "cell_type": "code",
   "execution_count": 4,
   "metadata": {},
   "outputs": [],
   "source": [
    "train_b = pd.read_csv(\"../data/train_symp_path.csv\")\n",
    "test_b = pd.read_csv(\"../data/test_symp_path.csv\")\n",
    "def process(df):\n",
    "    df['Symptoms'] = df['Symptoms'].str.lower()  # Convert to lower case\n",
    "    df['Symptoms'] = df['Symptoms'].str.replace('[^\\w\\s]', '')  # Remove punctuation\n",
    "    df['Symptoms'] = df['Symptoms'].str.replace('\\n', ' ')  # Remove punctuation\n",
    "    return df\n",
    "train_label = process(train_b)['Disease']\n",
    "test_label = process(test_b)['Disease']"
   ]
  },
  {
   "cell_type": "code",
   "execution_count": 3,
   "metadata": {},
   "outputs": [],
   "source": [
    "text_train = pd.read_csv(\"../data/X_train_probabilities.csv\")\n",
    "text_test = pd.read_csv(\"../data/X_test_probabilities.csv\")\n",
    "\n",
    "bert_train = pd.read_csv(\"../data/train_probabilities.csv\")\n",
    "bert_test = pd.read_csv(\"../data/test_probabilities.csv\")\n",
    "\n",
    "p_train = pd.read_csv(\"../data/train_combined_p.csv\",header=None)\n",
    "p_test = pd.read_csv(\"../data/test_combined_p.csv\",header=None)"
   ]
  },
  {
   "cell_type": "code",
   "execution_count": 35,
   "metadata": {},
   "outputs": [],
   "source": [
    "stacked_probabilities_train = np.hstack((bert_train, text_train))\n",
    "stacked_probabilities_test = np.hstack((bert_test, text_test))"
   ]
  },
  {
   "cell_type": "code",
   "execution_count": 8,
   "metadata": {},
   "outputs": [],
   "source": [
    "from sklearn.preprocessing import LabelEncoder\n",
    "\n",
    "label_encoder = LabelEncoder()\n",
    "y_encoded_train = label_encoder.fit_transform(train_label)\n",
    "y_encoded_test = label_encoder.fit_transform(test_label)"
   ]
  },
  {
   "cell_type": "code",
   "execution_count": 37,
   "metadata": {},
   "outputs": [],
   "source": [
    "from sklearn.linear_model import LogisticRegression\n",
    "\n",
    "fusion_model = LogisticRegression().fit(stacked_probabilities_train, y_encoded_train)"
   ]
  },
  {
   "cell_type": "code",
   "execution_count": 40,
   "metadata": {},
   "outputs": [
    {
     "data": {
      "text/plain": [
       "array([ 1.99787493, -0.41376402, -0.97613639, -0.60803293,  1.6478906 ,\n",
       "       -0.40990194, -0.58609787, -0.65194915])"
      ]
     },
     "execution_count": 40,
     "metadata": {},
     "output_type": "execute_result"
    }
   ],
   "source": [
    "coef = fusion_model.coef_[0]\n",
    "coef"
   ]
  },
  {
   "cell_type": "code",
   "execution_count": 6,
   "metadata": {},
   "outputs": [
    {
     "ename": "NameError",
     "evalue": "name 'fusion_model' is not defined",
     "output_type": "error",
     "traceback": [
      "\u001b[0;31m---------------------------------------------------------------------------\u001b[0m",
      "\u001b[0;31mNameError\u001b[0m                                 Traceback (most recent call last)",
      "\u001b[1;32m/Users/sumiko/Desktop/git/skindiagnosis/notebooks/nn_fusion copy.ipynb Cell 8\u001b[0m line \u001b[0;36m3\n\u001b[1;32m      <a href='vscode-notebook-cell:/Users/sumiko/Desktop/git/skindiagnosis/notebooks/nn_fusion%20copy.ipynb#X10sZmlsZQ%3D%3D?line=0'>1</a>\u001b[0m \u001b[39mfrom\u001b[39;00m \u001b[39msklearn\u001b[39;00m\u001b[39m.\u001b[39;00m\u001b[39mmetrics\u001b[39;00m \u001b[39mimport\u001b[39;00m classification_report, accuracy_score\n\u001b[0;32m----> <a href='vscode-notebook-cell:/Users/sumiko/Desktop/git/skindiagnosis/notebooks/nn_fusion%20copy.ipynb#X10sZmlsZQ%3D%3D?line=2'>3</a>\u001b[0m y_pred_log \u001b[39m=\u001b[39m fusion_model\u001b[39m.\u001b[39mpredict(stacked_probabilities_test)\n\u001b[1;32m      <a href='vscode-notebook-cell:/Users/sumiko/Desktop/git/skindiagnosis/notebooks/nn_fusion%20copy.ipynb#X10sZmlsZQ%3D%3D?line=4'>5</a>\u001b[0m accuracy \u001b[39m=\u001b[39m accuracy_score(y_encoded_test, y_pred_log)\n\u001b[1;32m      <a href='vscode-notebook-cell:/Users/sumiko/Desktop/git/skindiagnosis/notebooks/nn_fusion%20copy.ipynb#X10sZmlsZQ%3D%3D?line=5'>6</a>\u001b[0m \u001b[39mprint\u001b[39m(\u001b[39mf\u001b[39m\u001b[39m'\u001b[39m\u001b[39mAccuracy of the fusion model: \u001b[39m\u001b[39m{\u001b[39;00maccuracy\u001b[39m \u001b[39m\u001b[39m*\u001b[39m\u001b[39m \u001b[39m\u001b[39m100\u001b[39m\u001b[39m:\u001b[39;00m\u001b[39m.2f\u001b[39m\u001b[39m}\u001b[39;00m\u001b[39m%\u001b[39m\u001b[39m'\u001b[39m)\n",
      "\u001b[0;31mNameError\u001b[0m: name 'fusion_model' is not defined"
     ]
    }
   ],
   "source": [
    "from sklearn.metrics import classification_report, accuracy_score\n",
    "\n",
    "y_pred_log = fusion_model.predict(stacked_probabilities_test)\n",
    "\n",
    "accuracy = accuracy_score(y_encoded_test, y_pred_log)\n",
    "print(f'Accuracy of the fusion model: {accuracy * 100:.2f}%')\n"
   ]
  },
  {
   "cell_type": "code",
   "execution_count": 42,
   "metadata": {},
   "outputs": [
    {
     "name": "stdout",
     "output_type": "stream",
     "text": [
      "                                                      precision    recall  f1-score   support\n",
      "\n",
      "                                   Atopic Dermatitis       0.82      0.97      0.89        32\n",
      "          Lupus and other Connective Tissue diseases       0.89      0.94      0.91        17\n",
      "Scabies Lyme Diease and other Infestations and Bites       0.90      0.72      0.80        25\n",
      "        Seborrheic Keratoses and other Benign Tumors       1.00      0.75      0.86         8\n",
      "\n",
      "                                            accuracy                           0.87        82\n",
      "                                           macro avg       0.90      0.84      0.86        82\n",
      "                                        weighted avg       0.87      0.87      0.86        82\n",
      "\n"
     ]
    }
   ],
   "source": [
    "print(classification_report(y_encoded_test, y_pred_log, target_names=label_encoder.classes_))\n"
   ]
  },
  {
   "cell_type": "code",
   "execution_count": 43,
   "metadata": {},
   "outputs": [],
   "source": [
    "from tensorflow.keras.models import Sequential\n",
    "from tensorflow.keras.layers import Dense, Dropout\n",
    "from tensorflow.keras.regularizers import l2\n"
   ]
  },
  {
   "cell_type": "code",
   "execution_count": 44,
   "metadata": {},
   "outputs": [],
   "source": [
    "# Number of classes\n",
    "num_classes = 4  # Assuming y_train is one-hot encoded\n",
    "\n",
    "fusion_model = Sequential([\n",
    "    Dense(64, input_shape=(stacked_probabilities_train.shape[1],), activation='relu'),\n",
    "    Dropout(0.5),\n",
    "    Dense(num_classes, activation='softmax')\n",
    "])\n",
    "\n",
    "fusion_model.compile(optimizer='adam', loss='categorical_crossentropy', metrics=['accuracy'])"
   ]
  },
  {
   "cell_type": "code",
   "execution_count": 45,
   "metadata": {},
   "outputs": [],
   "source": [
    "from tensorflow.keras.utils import to_categorical\n",
    "\n",
    "y_train_encoded = to_categorical(y_encoded_train, num_classes=4)\n",
    "y_val_encoded = to_categorical(y_encoded_test, num_classes=4)"
   ]
  },
  {
   "cell_type": "code",
   "execution_count": 48,
   "metadata": {},
   "outputs": [
    {
     "name": "stdout",
     "output_type": "stream",
     "text": [
      "Epoch 1/10\n",
      "11/11 [==============================] - 0s 12ms/step - loss: 0.4246 - accuracy: 0.9849 - val_loss: 0.5671 - val_accuracy: 0.8780\n",
      "Epoch 2/10\n",
      "11/11 [==============================] - 0s 6ms/step - loss: 0.3818 - accuracy: 0.9819 - val_loss: 0.5329 - val_accuracy: 0.8780\n",
      "Epoch 3/10\n",
      "11/11 [==============================] - 0s 5ms/step - loss: 0.3337 - accuracy: 0.9879 - val_loss: 0.5053 - val_accuracy: 0.8780\n",
      "Epoch 4/10\n",
      "11/11 [==============================] - 0s 4ms/step - loss: 0.3020 - accuracy: 0.9849 - val_loss: 0.4832 - val_accuracy: 0.8780\n",
      "Epoch 5/10\n",
      "11/11 [==============================] - 0s 5ms/step - loss: 0.2637 - accuracy: 0.9909 - val_loss: 0.4665 - val_accuracy: 0.8780\n",
      "Epoch 6/10\n",
      "11/11 [==============================] - 0s 5ms/step - loss: 0.2528 - accuracy: 0.9849 - val_loss: 0.4528 - val_accuracy: 0.8780\n",
      "Epoch 7/10\n",
      "11/11 [==============================] - 0s 5ms/step - loss: 0.2212 - accuracy: 0.9909 - val_loss: 0.4420 - val_accuracy: 0.8780\n",
      "Epoch 8/10\n",
      "11/11 [==============================] - 0s 6ms/step - loss: 0.1962 - accuracy: 0.9909 - val_loss: 0.4345 - val_accuracy: 0.8780\n",
      "Epoch 9/10\n",
      "11/11 [==============================] - 0s 7ms/step - loss: 0.1777 - accuracy: 0.9909 - val_loss: 0.4302 - val_accuracy: 0.8780\n",
      "Epoch 10/10\n",
      "11/11 [==============================] - 0s 5ms/step - loss: 0.1628 - accuracy: 0.9849 - val_loss: 0.4282 - val_accuracy: 0.8780\n"
     ]
    },
    {
     "data": {
      "text/plain": [
       "<keras.callbacks.History at 0x1365eff10>"
      ]
     },
     "execution_count": 48,
     "metadata": {},
     "output_type": "execute_result"
    }
   ],
   "source": [
    "fusion_model.fit(stacked_probabilities_train, y_train_encoded, validation_data=(stacked_probabilities_test, y_val_encoded), epochs=10, batch_size=32)\n"
   ]
  },
  {
   "cell_type": "code",
   "execution_count": 49,
   "metadata": {},
   "outputs": [
    {
     "name": "stdout",
     "output_type": "stream",
     "text": [
      "3/3 [==============================] - 0s 3ms/step - loss: 0.4282 - accuracy: 0.8780\n",
      "Validation Accuracy: 0.8780\n"
     ]
    }
   ],
   "source": [
    "val_loss, val_accuracy = fusion_model.evaluate(stacked_probabilities_test, y_val_encoded)\n",
    "print(f\"Validation Accuracy: {val_accuracy:.4f}\")\n"
   ]
  },
  {
   "cell_type": "code",
   "execution_count": 50,
   "metadata": {},
   "outputs": [],
   "source": [
    "num_classes = 4  # Assuming y_train is one-hot encoded\n",
    "\n",
    "fusion_model = Sequential([\n",
    "    Dense(64, input_shape=(stacked_probabilities_train.shape[1],), activation='relu'),\n",
    "    Dropout(0.5),\n",
    "    Dense(32, activation='relu'),\n",
    "    Dense(num_classes, activation='softmax')\n",
    "])\n",
    "\n",
    "fusion_model.compile(optimizer='adam', loss='categorical_crossentropy', metrics=['accuracy'])"
   ]
  },
  {
   "cell_type": "code",
   "execution_count": 51,
   "metadata": {},
   "outputs": [
    {
     "name": "stdout",
     "output_type": "stream",
     "text": [
      "Epoch 1/10\n",
      "11/11 [==============================] - 1s 19ms/step - loss: 1.3875 - accuracy: 0.3353 - val_loss: 1.2977 - val_accuracy: 0.3415\n",
      "Epoch 2/10\n",
      "11/11 [==============================] - 0s 4ms/step - loss: 1.2207 - accuracy: 0.4532 - val_loss: 1.1921 - val_accuracy: 0.3902\n",
      "Epoch 3/10\n",
      "11/11 [==============================] - 0s 4ms/step - loss: 1.1089 - accuracy: 0.6284 - val_loss: 1.0853 - val_accuracy: 0.8171\n",
      "Epoch 4/10\n",
      "11/11 [==============================] - 0s 4ms/step - loss: 0.9634 - accuracy: 0.8308 - val_loss: 0.9678 - val_accuracy: 0.8780\n",
      "Epoch 5/10\n",
      "11/11 [==============================] - 0s 4ms/step - loss: 0.8135 - accuracy: 0.9335 - val_loss: 0.8387 - val_accuracy: 0.8659\n",
      "Epoch 6/10\n",
      "11/11 [==============================] - 0s 4ms/step - loss: 0.6723 - accuracy: 0.9819 - val_loss: 0.7133 - val_accuracy: 0.8659\n",
      "Epoch 7/10\n",
      "11/11 [==============================] - 0s 4ms/step - loss: 0.5342 - accuracy: 0.9728 - val_loss: 0.5991 - val_accuracy: 0.8659\n",
      "Epoch 8/10\n",
      "11/11 [==============================] - 0s 4ms/step - loss: 0.3907 - accuracy: 0.9849 - val_loss: 0.5130 - val_accuracy: 0.8537\n",
      "Epoch 9/10\n",
      "11/11 [==============================] - 0s 4ms/step - loss: 0.3048 - accuracy: 0.9879 - val_loss: 0.4598 - val_accuracy: 0.8537\n",
      "Epoch 10/10\n",
      "11/11 [==============================] - 0s 4ms/step - loss: 0.2056 - accuracy: 0.9909 - val_loss: 0.4348 - val_accuracy: 0.8537\n"
     ]
    },
    {
     "data": {
      "text/plain": [
       "<keras.callbacks.History at 0x136bb3a50>"
      ]
     },
     "execution_count": 51,
     "metadata": {},
     "output_type": "execute_result"
    }
   ],
   "source": [
    "fusion_model.fit(stacked_probabilities_train, y_train_encoded, validation_data=(stacked_probabilities_test, y_val_encoded), epochs=10, batch_size=32)\n"
   ]
  },
  {
   "cell_type": "code",
   "execution_count": 52,
   "metadata": {},
   "outputs": [
    {
     "name": "stdout",
     "output_type": "stream",
     "text": [
      "3/3 [==============================] - 0s 2ms/step - loss: 0.4348 - accuracy: 0.8537\n",
      "Validation Accuracy: 0.8537\n"
     ]
    }
   ],
   "source": [
    "val_loss, val_accuracy = fusion_model.evaluate(stacked_probabilities_test, y_val_encoded)\n",
    "print(f\"Validation Accuracy: {val_accuracy:.4f}\")"
   ]
  },
  {
   "cell_type": "code",
   "execution_count": 53,
   "metadata": {},
   "outputs": [],
   "source": [
    "num_classes = 4  # Assuming y_train is one-hot encoded\n",
    "\n",
    "fusion_model = Sequential([\n",
    "    Dense(64, input_shape=(stacked_probabilities_train.shape[1],), activation='relu'),\n",
    "    Dropout(0.5),\n",
    "    Dense(32, activation='relu'),\n",
    "    Dropout(0.3),\n",
    "    Dense(num_classes, activation='softmax')\n",
    "])\n",
    "\n",
    "fusion_model.compile(optimizer='adam', loss='categorical_crossentropy', metrics=['accuracy'])"
   ]
  },
  {
   "cell_type": "code",
   "execution_count": null,
   "metadata": {},
   "outputs": [],
   "source": []
  },
  {
   "cell_type": "code",
   "execution_count": 54,
   "metadata": {},
   "outputs": [
    {
     "name": "stdout",
     "output_type": "stream",
     "text": [
      "Epoch 1/10\n",
      "11/11 [==============================] - 1s 18ms/step - loss: 1.4068 - accuracy: 0.2719 - val_loss: 1.2742 - val_accuracy: 0.5610\n",
      "Epoch 2/10\n",
      "11/11 [==============================] - 0s 4ms/step - loss: 1.2151 - accuracy: 0.5257 - val_loss: 1.1420 - val_accuracy: 0.8537\n",
      "Epoch 3/10\n",
      "11/11 [==============================] - 0s 4ms/step - loss: 1.0717 - accuracy: 0.7311 - val_loss: 1.0269 - val_accuracy: 0.8659\n",
      "Epoch 4/10\n",
      "11/11 [==============================] - 0s 4ms/step - loss: 0.9376 - accuracy: 0.8640 - val_loss: 0.9061 - val_accuracy: 0.8659\n",
      "Epoch 5/10\n",
      "11/11 [==============================] - 0s 5ms/step - loss: 0.7805 - accuracy: 0.9245 - val_loss: 0.7840 - val_accuracy: 0.8780\n",
      "Epoch 6/10\n",
      "11/11 [==============================] - 0s 4ms/step - loss: 0.6688 - accuracy: 0.9245 - val_loss: 0.6758 - val_accuracy: 0.8780\n",
      "Epoch 7/10\n",
      "11/11 [==============================] - 0s 4ms/step - loss: 0.5279 - accuracy: 0.9396 - val_loss: 0.5918 - val_accuracy: 0.8659\n",
      "Epoch 8/10\n",
      "11/11 [==============================] - 0s 4ms/step - loss: 0.4107 - accuracy: 0.9637 - val_loss: 0.5349 - val_accuracy: 0.8659\n",
      "Epoch 9/10\n",
      "11/11 [==============================] - 0s 4ms/step - loss: 0.3471 - accuracy: 0.9728 - val_loss: 0.5014 - val_accuracy: 0.8659\n",
      "Epoch 10/10\n",
      "11/11 [==============================] - 0s 4ms/step - loss: 0.2931 - accuracy: 0.9789 - val_loss: 0.4822 - val_accuracy: 0.8659\n"
     ]
    },
    {
     "data": {
      "text/plain": [
       "<keras.callbacks.History at 0x136cca110>"
      ]
     },
     "execution_count": 54,
     "metadata": {},
     "output_type": "execute_result"
    }
   ],
   "source": [
    "fusion_model.fit(stacked_probabilities_train, y_train_encoded, validation_data=(stacked_probabilities_test, y_val_encoded), epochs=10, batch_size=32)"
   ]
  },
  {
   "cell_type": "code",
   "execution_count": 55,
   "metadata": {},
   "outputs": [
    {
     "name": "stdout",
     "output_type": "stream",
     "text": [
      "3/3 [==============================] - 0s 2ms/step - loss: 0.4822 - accuracy: 0.8659\n",
      "Validation Accuracy: 0.8659\n"
     ]
    }
   ],
   "source": [
    "val_loss, val_accuracy = fusion_model.evaluate(stacked_probabilities_test, y_val_encoded)\n",
    "print(f\"Validation Accuracy: {val_accuracy:.4f}\")"
   ]
  },
  {
   "cell_type": "code",
   "execution_count": 23,
   "metadata": {},
   "outputs": [
    {
     "name": "stdout",
     "output_type": "stream",
     "text": [
      "3/3 [==============================] - 0s 1ms/step\n"
     ]
    }
   ],
   "source": [
    "y_pred_test_nn = fusion_model.predict(stacked_probabilities_test)\n",
    "predicted_classes = np.argmax(y_pred_test_nn, axis=1)\n"
   ]
  },
  {
   "cell_type": "code",
   "execution_count": 24,
   "metadata": {},
   "outputs": [
    {
     "data": {
      "text/plain": [
       "array([0, 0, 0, 0, 0, 0, 0, 0, 0, 0, 0, 0, 0, 0, 0, 0, 0, 0, 0, 0, 0, 0,\n",
       "       0, 0, 0, 0, 0, 0, 0, 0, 0, 0, 1, 1, 1, 1, 1, 1, 1, 1, 1, 1, 1, 1,\n",
       "       1, 1, 1, 1, 1, 2, 2, 2, 2, 2, 2, 2, 2, 2, 2, 2, 2, 2, 2, 2, 2, 2,\n",
       "       2, 2, 2, 2, 2, 2, 2, 2, 3, 3, 3, 3, 3, 3, 3, 3])"
      ]
     },
     "execution_count": 24,
     "metadata": {},
     "output_type": "execute_result"
    }
   ],
   "source": [
    "y_encoded_test"
   ]
  },
  {
   "cell_type": "code",
   "execution_count": 25,
   "metadata": {},
   "outputs": [
    {
     "name": "stdout",
     "output_type": "stream",
     "text": [
      "                                                      precision    recall  f1-score   support\n",
      "\n",
      "                                   Atopic Dermatitis       0.79      0.97      0.87        32\n",
      "          Lupus and other Connective Tissue diseases       0.89      0.94      0.91        17\n",
      "Scabies Lyme Diease and other Infestations and Bites       0.90      0.72      0.80        25\n",
      "        Seborrheic Keratoses and other Benign Tumors       1.00      0.62      0.77         8\n",
      "\n",
      "                                            accuracy                           0.85        82\n",
      "                                           macro avg       0.90      0.81      0.84        82\n",
      "                                        weighted avg       0.87      0.85      0.85        82\n",
      "\n"
     ]
    }
   ],
   "source": [
    "print(classification_report(y_encoded_test, predicted_classes, target_names=label_encoder.classes_))\n"
   ]
  },
  {
   "cell_type": "code",
   "execution_count": 26,
   "metadata": {},
   "outputs": [],
   "source": [
    "num_classes = 4  # Assuming y_train is one-hot encoded\n",
    "\n",
    "fusion_model = Sequential([\n",
    "    Dense(64, input_shape=(stacked_probabilities_train.shape[1],), activation='relu',kernel_regularizer=l2(0.01)),\n",
    "    Dropout(0.5),\n",
    "    Dense(32, activation='relu'),\n",
    "    Dropout(0.3),\n",
    "    Dense(num_classes, activation='softmax')\n",
    "])\n",
    "\n",
    "fusion_model.compile(optimizer='adam', loss='categorical_crossentropy', metrics=['accuracy'])"
   ]
  },
  {
   "cell_type": "code",
   "execution_count": 27,
   "metadata": {},
   "outputs": [
    {
     "name": "stdout",
     "output_type": "stream",
     "text": [
      "Epoch 1/10\n",
      "11/11 [==============================] - 1s 18ms/step - loss: 1.5984 - accuracy: 0.2356 - val_loss: 1.4611 - val_accuracy: 0.5732\n",
      "Epoch 2/10\n",
      "11/11 [==============================] - 0s 4ms/step - loss: 1.4009 - accuracy: 0.4441 - val_loss: 1.3201 - val_accuracy: 0.8902\n",
      "Epoch 3/10\n",
      "11/11 [==============================] - 0s 4ms/step - loss: 1.2398 - accuracy: 0.6526 - val_loss: 1.1985 - val_accuracy: 0.8780\n",
      "Epoch 4/10\n",
      "11/11 [==============================] - 0s 4ms/step - loss: 1.1150 - accuracy: 0.7915 - val_loss: 1.0884 - val_accuracy: 0.8659\n",
      "Epoch 5/10\n",
      "11/11 [==============================] - 0s 4ms/step - loss: 0.9567 - accuracy: 0.8792 - val_loss: 0.9739 - val_accuracy: 0.8780\n",
      "Epoch 6/10\n",
      "11/11 [==============================] - 0s 4ms/step - loss: 0.8355 - accuracy: 0.9547 - val_loss: 0.8533 - val_accuracy: 0.8780\n",
      "Epoch 7/10\n",
      "11/11 [==============================] - 0s 4ms/step - loss: 0.6984 - accuracy: 0.9668 - val_loss: 0.7438 - val_accuracy: 0.8780\n",
      "Epoch 8/10\n",
      "11/11 [==============================] - 0s 4ms/step - loss: 0.6086 - accuracy: 0.9547 - val_loss: 0.6562 - val_accuracy: 0.8780\n",
      "Epoch 9/10\n",
      "11/11 [==============================] - 0s 4ms/step - loss: 0.5127 - accuracy: 0.9637 - val_loss: 0.5872 - val_accuracy: 0.8780\n",
      "Epoch 10/10\n",
      "11/11 [==============================] - 0s 4ms/step - loss: 0.4286 - accuracy: 0.9849 - val_loss: 0.5441 - val_accuracy: 0.8780\n"
     ]
    },
    {
     "data": {
      "text/plain": [
       "<keras.callbacks.History at 0x13676a650>"
      ]
     },
     "execution_count": 27,
     "metadata": {},
     "output_type": "execute_result"
    }
   ],
   "source": [
    "fusion_model.fit(stacked_probabilities_train, y_train_encoded, validation_data=(stacked_probabilities_test, y_val_encoded), epochs=10, batch_size=32)"
   ]
  },
  {
   "cell_type": "code",
   "execution_count": 28,
   "metadata": {},
   "outputs": [
    {
     "name": "stdout",
     "output_type": "stream",
     "text": [
      "3/3 [==============================] - 0s 2ms/step - loss: 0.5441 - accuracy: 0.8780\n",
      "Validation Accuracy: 0.8780\n"
     ]
    }
   ],
   "source": [
    "val_loss, val_accuracy = fusion_model.evaluate(stacked_probabilities_test, y_val_encoded)\n",
    "print(f\"Validation Accuracy: {val_accuracy:.4f}\")"
   ]
  },
  {
   "cell_type": "code",
   "execution_count": 30,
   "metadata": {},
   "outputs": [
    {
     "name": "stdout",
     "output_type": "stream",
     "text": [
      "Accuracy: 0.3902439024390244\n",
      "                                                      precision    recall  f1-score   support\n",
      "\n",
      "                                   Atopic Dermatitis       0.39      1.00      0.56        32\n",
      "          Lupus and other Connective Tissue diseases       0.00      0.00      0.00        17\n",
      "Scabies Lyme Diease and other Infestations and Bites       0.00      0.00      0.00        25\n",
      "        Seborrheic Keratoses and other Benign Tumors       0.00      0.00      0.00         8\n",
      "\n",
      "                                            accuracy                           0.39        82\n",
      "                                           macro avg       0.10      0.25      0.14        82\n",
      "                                        weighted avg       0.15      0.39      0.22        82\n",
      "\n"
     ]
    },
    {
     "name": "stderr",
     "output_type": "stream",
     "text": [
      "/Users/sumiko/anaconda3/envs/neuralnetwork/lib/python3.11/site-packages/sklearn/metrics/_classification.py:1469: UndefinedMetricWarning: Precision and F-score are ill-defined and being set to 0.0 in labels with no predicted samples. Use `zero_division` parameter to control this behavior.\n",
      "  _warn_prf(average, modifier, msg_start, len(result))\n",
      "/Users/sumiko/anaconda3/envs/neuralnetwork/lib/python3.11/site-packages/sklearn/metrics/_classification.py:1469: UndefinedMetricWarning: Precision and F-score are ill-defined and being set to 0.0 in labels with no predicted samples. Use `zero_division` parameter to control this behavior.\n",
      "  _warn_prf(average, modifier, msg_start, len(result))\n",
      "/Users/sumiko/anaconda3/envs/neuralnetwork/lib/python3.11/site-packages/sklearn/metrics/_classification.py:1469: UndefinedMetricWarning: Precision and F-score are ill-defined and being set to 0.0 in labels with no predicted samples. Use `zero_division` parameter to control this behavior.\n",
      "  _warn_prf(average, modifier, msg_start, len(result))\n"
     ]
    }
   ],
   "source": [
    "# average\n",
    "combined_probabilities = (bert_test + p_test) / 2\n",
    "y_pred = np.argmax(combined_probabilities, axis=1)\n",
    "print(f'Accuracy: {accuracy_score(y_encoded_test, y_pred)}')\n",
    "print(classification_report(y_encoded_test, y_pred, target_names=label_encoder.classes_))"
   ]
  },
  {
   "cell_type": "code",
   "execution_count": 12,
   "metadata": {},
   "outputs": [
    {
     "name": "stdout",
     "output_type": "stream",
     "text": [
      "                                                      precision    recall  f1-score   support\n",
      "\n",
      "                                   Atopic Dermatitis       0.84      0.97      0.90        32\n",
      "          Lupus and other Connective Tissue diseases       0.84      0.94      0.89        17\n",
      "Scabies Lyme Diease and other Infestations and Bites       0.90      0.76      0.83        25\n",
      "        Seborrheic Keratoses and other Benign Tumors       1.00      0.62      0.77         8\n",
      "\n",
      "                                            accuracy                           0.87        82\n",
      "                                           macro avg       0.90      0.82      0.85        82\n",
      "                                        weighted avg       0.87      0.87      0.86        82\n",
      "\n"
     ]
    }
   ],
   "source": [
    "# vgg\n",
    "y_pred = np.argmax(bert_test, axis=1)\n",
    "print(classification_report(y_encoded_test, y_pred, target_names=label_encoder.classes_))"
   ]
  }
 ],
 "metadata": {
  "kernelspec": {
   "display_name": "neuralnetwork",
   "language": "python",
   "name": "python3"
  },
  "language_info": {
   "codemirror_mode": {
    "name": "ipython",
    "version": 3
   },
   "file_extension": ".py",
   "mimetype": "text/x-python",
   "name": "python",
   "nbconvert_exporter": "python",
   "pygments_lexer": "ipython3",
   "version": "3.11.3"
  }
 },
 "nbformat": 4,
 "nbformat_minor": 2
}
