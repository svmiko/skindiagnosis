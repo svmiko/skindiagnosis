{
 "cells": [
  {
   "cell_type": "code",
   "execution_count": 40,
   "id": "d2c80bcf",
   "metadata": {},
   "outputs": [],
   "source": [
    "import bs4 as bs\n",
    "import re\n",
    "import nltk\n",
    "import pandas as pd\n",
    "import os\n",
    "import numpy as np\n",
    "import matplotlib.pyplot as plt"
   ]
  },
  {
   "cell_type": "code",
   "execution_count": 79,
   "id": "c87ab3ab",
   "metadata": {},
   "outputs": [
    {
     "data": {
      "text/plain": [
       "array(['Batches of welts (wheals) that can arise anywhere on the body\\nWelts that might be red, purple or skin-colored, depending on your skin color\\nWelts that vary in size, change shape, and appear and fade repeatedly\\nItchiness (pruritus), which can be intense\\nPainful swelling (angioedema) around the eyes, cheeks or lips\\nFlares triggered by heat, exercise or stress\\nSymptoms that persist for more than six weeks and recur often and anytime, sometimes for months or years',\n",
       "       'Raised, inflamed lines where you scratched.\\nWelts from friction.\\nSwelling.\\nItching.',\n",
       "       'Welts that form in minutes to hours\\nSwelling, especially around the eyes, cheeks or lips\\nMild pain and warmth in the affected areas',\n",
       "       ..., nan, nan, nan], dtype=object)"
      ]
     },
     "execution_count": 79,
     "metadata": {},
     "output_type": "execute_result"
    }
   ],
   "source": [
    "file = ('C:/NUS/Y4S1/DSA4262/skindiagnosis/data/scraped_data.csv')\n",
    "df = pd.read_csv(file) \n",
    "df\n",
    "data = np.array(df.Symptoms)\n",
    "titles = np.array(df.Disease)\n",
    "data"
   ]
  },
  {
   "cell_type": "code",
   "execution_count": 80,
   "id": "20e9257a",
   "metadata": {},
   "outputs": [],
   "source": [
    "from gensim.models import Word2Vec\n",
    "import gensim\n",
    "from collections import namedtuple\n",
    "import string\n",
    "from langdetect import detect"
   ]
  },
  {
   "cell_type": "code",
   "execution_count": 81,
   "id": "604f511b",
   "metadata": {},
   "outputs": [],
   "source": [
    "SentimentDocument = namedtuple('SentimentDocument', 'words tags title original_number')\n",
    "n=0\n",
    "alldocs = []  # Will hold all docs in original order\n",
    "\n",
    "regex = re.compile('[%s]' % re.escape(string.punctuation)) #to remove punctuation\n",
    "\n",
    "for line_no, line in enumerate(data):\n",
    "    if (type(line)==str):\n",
    "        if (len(line)>150):\n",
    "            if (detect(line) == 'en') :\n",
    "                line = regex.sub('', line)\n",
    "                tokens = gensim.utils.to_unicode(line).lower().split()\n",
    "                words = tokens[0:]\n",
    "                tags = [n]\n",
    "                title = titles[line_no]\n",
    "                alldocs.append(SentimentDocument(words, tags, title, line_no))\n",
    "                n=n+1    "
   ]
  },
  {
   "cell_type": "code",
   "execution_count": 82,
   "id": "3c82e6fb",
   "metadata": {},
   "outputs": [
    {
     "name": "stdout",
     "output_type": "stream",
     "text": [
      "Number of Documents :  1133\n",
      "Mean length of documents :  219.94439541041484\n"
     ]
    },
    {
     "data": {
      "text/plain": [
       "Text(0, 0.5, 'Length of the description')"
      ]
     },
     "execution_count": 82,
     "metadata": {},
     "output_type": "execute_result"
    },
    {
     "data": {
      "image/png": "[encoded data removed]",
      "text/plain": [
       "<Figure size 2000x600 with 1 Axes>"
      ]
     },
     "metadata": {},
     "output_type": "display_data"
    }
   ],
   "source": [
    "l = []\n",
    "for doc in alldocs:\n",
    "    l.append(len(doc.words))\n",
    "\n",
    "print('Number of Documents : ', len(alldocs))\n",
    "print('Mean length of documents : ', np.mean(l))\n",
    "\n",
    "plt.figure (figsize=(20, 6))\n",
    "plt.bar(range(0, len(l)), l)\n",
    "plt.xlabel('Documents')\n",
    "plt.ylabel('Length of the description')"
   ]
  },
  {
   "cell_type": "code",
   "execution_count": 83,
   "id": "1d7b6dd8",
   "metadata": {},
   "outputs": [
    {
     "name": "stdout",
     "output_type": "stream",
     "text": [
      "SentimentDocument(words=['batches', 'of', 'welts', 'wheals', 'that', 'can', 'arise', 'anywhere', 'on', 'the', 'body', 'welts', 'that', 'might', 'be', 'red', 'purple', 'or', 'skincolored', 'depending', 'on', 'your', 'skin', 'color', 'welts', 'that', 'vary', 'in', 'size', 'change', 'shape', 'and', 'appear', 'and', 'fade', 'repeatedly', 'itchiness', 'pruritus', 'which', 'can', 'be', 'intense', 'painful', 'swelling', 'angioedema', 'around', 'the', 'eyes', 'cheeks', 'or', 'lips', 'flares', 'triggered', 'by', 'heat', 'exercise', 'or', 'stress', 'symptoms', 'that', 'persist', 'for', 'more', 'than', 'six', 'weeks', 'and', 'recur', 'often', 'and', 'anytime', 'sometimes', 'for', 'months', 'or', 'years'], tags=[0], title='Urticaria Hives', original_number=0) \n",
      "\n",
      "Batches of welts (wheals) that can arise anywhere on the body\n",
      "Welts that might be red, purple or skin-colored, depending on your skin color\n",
      "Welts that vary in size, change shape, and appear and fade repeatedly\n",
      "Itchiness (pruritus), which can be intense\n",
      "Painful swelling (angioedema) around the eyes, cheeks or lips\n",
      "Flares triggered by heat, exercise or stress\n",
      "Symptoms that persist for more than six weeks and recur often and anytime, sometimes for months or years\n"
     ]
    }
   ],
   "source": [
    "index = 0\n",
    "doc = alldocs[index]\n",
    "print(doc, '\\n')\n",
    "print(data[doc.original_number])"
   ]
  },
  {
   "cell_type": "code",
   "execution_count": 93,
   "id": "53e11844",
   "metadata": {},
   "outputs": [],
   "source": [
    "# Creating and training Doc2Vec Model\n",
    "from gensim.models import Word2Vec, Doc2Vec\n",
    "\n",
    "model = Doc2Vec(dm=1, vector_size=300,window=10,hs=0,min_count=10,dbow_words=1,sample=1e-5)\n",
    "\n",
    "# build the vocabulary \n",
    "model.build_vocab(alldocs)\n",
    "model.train(alldocs, total_examples=model.corpus_count, epochs=100, start_alpha=0.01, end_alpha=0.01)"
   ]
  },
  {
   "cell_type": "code",
   "execution_count": 94,
   "id": "17a26c54",
   "metadata": {},
   "outputs": [],
   "source": [
    "# Save and load models\n",
    "model.save(\"model\")\n",
    "# Doc2Vec.load(\"model\")"
   ]
  },
  {
   "cell_type": "code",
   "execution_count": 95,
   "id": "414c272f",
   "metadata": {},
   "outputs": [
    {
     "data": {
      "text/plain": [
       "[('dark', 0.9490950703620911),\n",
       " ('scaly', 0.9442636370658875),\n",
       " ('purple', 0.9388793110847473),\n",
       " ('scalp', 0.9386978149414062),\n",
       " ('thick', 0.9381864666938782),\n",
       " ('discolored', 0.9368023872375488),\n",
       " ('forehead', 0.9286421537399292),\n",
       " ('cheeks', 0.928307831287384),\n",
       " ('rings', 0.9279539585113525),\n",
       " ('forearms', 0.9241815209388733)]"
      ]
     },
     "execution_count": 95,
     "metadata": {},
     "output_type": "execute_result"
    }
   ],
   "source": [
    "model.wv.most_similar_cosmul(positive = [\"patches\"])"
   ]
  },
  {
   "cell_type": "code",
   "execution_count": 97,
   "id": "10dc5c4f",
   "metadata": {},
   "outputs": [
    {
     "data": {
      "text/plain": [
       "[('directly', 0.9422327876091003),\n",
       " ('fatal', 0.9242735505104065),\n",
       " ('illness', 0.9241237640380859),\n",
       " ('headache', 0.919854998588562),\n",
       " ('fluid', 0.9113345742225647),\n",
       " ('potentially', 0.9063404202461243),\n",
       " ('ill', 0.9062318801879883),\n",
       " ('nodes', 0.9021396636962891),\n",
       " ('hsv', 0.9020251631736755),\n",
       " ('whitlow', 0.8992412090301514)]"
      ]
     },
     "execution_count": 97,
     "metadata": {},
     "output_type": "execute_result"
    }
   ],
   "source": [
    "model.wv.most_similar_cosmul(positive = [\"fever\"])"
   ]
  },
  {
   "cell_type": "code",
   "execution_count": 102,
   "id": "2248653d",
   "metadata": {},
   "outputs": [
    {
     "name": "stdout",
     "output_type": "stream",
     "text": [
      "Disease: Systematic Diseases\n",
      "Distance: 0.8442375063896179\n",
      "Symptoms: Warning signs can appear on your skin and nails, which is why your dermatologist may be the first doctor to notice that you have heart disease. If you know what to look for, you can also find warning signs of heart disease on your skin and nails. The following pictures show you what to look for.Swelling in your feet and lower legs\n",
      "\n",
      "\n",
      "\n",
      "\n",
      "What it may be telling you: Your heart isnâ€™t working properly.\n",
      "\n",
      "Many diseases of the heart cause fluid to build up in your feet and lower legs. As the fluid builds up, you may see swelling, which can extend as far as the upper legs and groin.\n",
      "Medical name: Edema (medical term for swelling)Blue or purple color on your skin\n",
      "What it may be telling you: You have a blockage in a blood vessel.\n",
      "    \n",
      "\n",
      "\n",
      "\n",
      "\n",
      "\n",
      "When youâ€™re extremely cold, your skin can turn blue (or purple). If an area of your skin is blue (or purple) when youâ€™re warm, thatâ€™s can be a sign your blood isnâ€™t getting enough oxygen. The patient in this photo has a condition known as blue toe syndrome, which happens when one or more blood vessels are blocked.\n",
      "\n",
      "Without treatment, the lack of oxygen can cause the skin and underlying tissue to eventually die.\n",
      "Medical name: Cyanosis (refers to the bluish color on the skin)Blue or purple net-like pattern on your skin\n",
      "What it may be telling you: You have a blocked artery.\n",
      "    \n",
      "\n",
      "\n",
      "\n",
      "\n",
      "\n",
      "Some people see this pattern on their skin when they feel chilly. When their skin warms up, this pattern disappears. Itâ€™s also possible to see this pattern when taking certain medications. If one of these is causing the netlike pattern, itâ€™s usually nothing to worry about.\n",
      "\n",
      "This netlike pattern can also be a sign of a disease called cholesterol embolization syndrome, which occurs when small arteries become blocked. The blockage can lead to damaged tissues and organs, so itâ€™s important to see a doctor to find out whether you have an undiagnosed disease.\n",
      "Medical name: Livedo reticularis (medical term for the net-like pattern)Yellowish-orange, waxy growths on your skin\n",
      "What it may be telling you: You have unhealthy cholesterol levels.\n",
      "    \n",
      "\n",
      "\n",
      "\n",
      "\n",
      "\n",
      "If you see yellowish-orange growths on your skin, you may have deposits of cholesterol under your skin. These painless deposits can appear in many areas, including the corners of your eyes, lines on your palms, or the backs of your lower legs.\n",
      "\n",
      "If you notice these growths on any area of your skin, see your doctor. You may need cholesterol testing or another medical test.  Unhealthy cholesterol levels require treatment, which can prevent life-threatening heart disease. Getting your cholesterol levels under control may also help clear the growths on your skin. If the growths donâ€™t clear, a board-certified dermatologist can treat them.\n",
      "Medical name: Xanthelasma (cholesterol deposits on the eyelids), Xanthoma (cholesterol deposit found elsewhere on the skin)Clusters of waxy bumps that suddenly appear on your skin\n",
      "What it may be telling you: You have skyrocketing cholesterol levels or diabetes.\n",
      "    \n",
      "\n",
      "\n",
      "\n",
      "\n",
      "The sudden appearance of these bumps can look like a rash, warts, or a contagious skin condition called molluscum contagiosum. These bumps are actually fatty deposits of cholesterol caused by extremely high levels of triglycerides (type of cholesterol) in the blood.\n",
      "\n",
      "Treatment is essential to lower the triglycerides and treat any serious medical conditions, such as heart disease caused by the high cholesterol levels.\n",
      "Medical name: Eruptive xanthoma (refers to the sudden appearance of many fatty deposits of cholesterol)Nails curve downward and the ends of your fingers are swollen\n",
      "\n",
      "\n",
      "\n",
      "\n",
      "What it may be telling you: You may have a heart infection, heart disease, or lung problem.\n",
      "\n",
      "For many people, these signs are harmless. That said, if your fingers and nails look like this, itâ€™s best to find out if you may have a medical condition, such as lung disease or a heart problem.\n",
      "Medical name: Clubbing (term describes the downward turned nails and swollen fingers)Red or purple lines under your nails\n",
      "\n",
      "\n",
      "\n",
      "\n",
      "What it may be telling you: Most people who see these lines under their nails have injured the nail in some way. If you cannot remember injuring your nail, you may want to see your doctor. These lines can be a sign of heart disease or another condition.\n",
      "\n",
      "When itâ€™s a sign of heart disease, people tend to have symptoms, such as high fever and a weak or irregular heartbeat.\n",
      "Medical name: Splinter hemorrhage (line often looks like a splinter stuck under the nail)Smooth, waxy lumps on your skin\n",
      "\n",
      "\n",
      "\n",
      "\n",
      "What it may be telling you: You have protein deposits in your heart or another organ.\n",
      "\n",
      "These waxy lumps can appear anywhere on the skin. They often indicate that thereâ€™s an abnormal buildup of protein in an organ, such as your heart. If protein builds up in the heart, itâ€™s hard for the heart to work properly.\n",
      "Medical name: Nodules of systemic amyloidosis (â€œnoduleâ€ means lump and amyloidosis refers to the type of protein that has built up)Painful lumps in your fingers, toes, or both\n",
      "\n",
      "\n",
      "\n",
      "\n",
      "\n",
      "What it may be telling you: You have an infection in your heart or blood vessels.\n",
      "\n",
      "If you have a heart infection known as infective endocarditis, these painful lumps can develop in your fingers, toes, or both places. The lumps can last for a few hours to several days.\n",
      "\n",
      "While the lumps go away on their own, patients need treatment for the infection. Because this infection is caused by bacteria, antibiotics can often treat it. Sometimes, surgery is also necessary.\n",
      "Medical name: Osler nodes. A doctor named Osler discovered the connection between a patient having these lumps, which are now called Osler nodes, and a heart infection.Brownish (or reddish) discoloration, usually on your sole(s) or palm(s)\n",
      "\n",
      "\n",
      "\n",
      "\n",
      "What it may be telling you: You have an infection in your heart or blood vessel.\n",
      "\n",
      "The spots that developed on the bottom of this patientâ€™s foot are also a sign of a heart infection called infective endocarditis. Unlike Osler nodules, these spots are painless. These spots will clear without treatment, usually in a few days or weeks. The infection requires treatment.\n",
      "Medical name: Janeway lesions, which are named after an American doctor, Theodore Caldwell Janeway.Non-itchy rash (flat spots with slightly raised edges) and fever\n",
      "\n",
      "\n",
      "\n",
      "\n",
      "\n",
      "What it may be telling you: You have rheumatic fever.\n",
      "\n",
      "If your child develops strep throat, treating it quickly is important. When itâ€™s not treated quickly, other medical problems can develop. One such problem is rheumatic fever. While this seldom happens in the United States today, rheumatic fever is common in developing countries.\n",
      "\n",
      "When a child has rheumatic fever, it can lead to lifelong heart disease. Rheumatic fever is a leading cause of heart disease in children.\n",
      "Medical name: Erythema marginatum (name of the rash shown in this picture)Rash and cracked, swollen lips that often bleed\n",
      "\n",
      "\n",
      "\n",
      "\n",
      "What it may be telling you: A child has Kawasaki disease.\n",
      "\n",
      "When a child has a rash, fever, and extremely dry lips that may crack and bleed, Kawasaki disease is a likely cause. This disease, which affects the blood vessels, usually develops in children between the ages of 6 months and 5 years of age.\n",
      "\n",
      "While Kawasaki disease may go away on its own within 12 days without treatment, it can lead to serious side effects, such as heart disease.\n",
      "Medical name: Mucocutaneous lymph node syndrome (another name for Kawasaki disease)Other signs that appear on the skin and can be a warning sign of heart disease, include:A gray ring around the colored part of your eyeChanges to your tongue, such as it swelling and turning red as a strawberryDiscolored skinIf you notice any of these signs, make an appointment to see your primary doctor and try to stay calm. The sign could be harmless, but itâ€™s important to get it checked out. Heart disease is easier to treat when found early.Images\n",
      "Images 1, 5, 6, 7, 8, 10: Used with permission of the American Academy of Dermatology National Library of Dermatologic Teaching Slides.Images 2, 3, 4, 9, 12: Used with permission of Journal of the American Academy of Dermatology:(2 and 9) J Am Acad Dermatol. 2009; 60(1):1-20.(3) J Am Acad Dermatol. 1999;41:842-4. (Fig 2)(4) J Am Acad Dermatol. 2017;77:728-34. (Fig 3A) (12) J Am Acad Dermatol. 2013;69:501.Image 11: Used with permission of DermNet NZ. Last accessed May 11, 2018.References\n",
      "Hirschmann JV and Raugi GJ. â€œBlue (or purple) toe syndrome.â€ J Am Acad Dermatol. 2009; 60(1):1-20.Khanna N, Roy A, et al. â€œJaneway lesions: an old sign revisited.â€ Circulation. 2013; 127(7):861.Misin A, Di Bella S, et al. â€œImage of the month: â€˜Diagnostic handsâ€™: Janeway lesions.â€ Clin Med (Lond). 2017; 17(4):373-374.Uliasz A and Lebwohl M. â€œCutaneous manifestations of cardiovascular diseases.â€ Clin Dermatol. 2008; 26(3):243-54.\n",
      "\n",
      "\n",
      "Disease: Benign Tumors\n",
      "Distance: 0.8442375063896179\n",
      "Symptoms: Most develop in one of these areas:Ear or earlobeJawlineChestUpper backShoulderBecause a keloid develops after you injure your skin, you can get this scar elsewhere. For example, a woman who has keloid-prone skin can develop a keloid on her belly after having a cesarean section (C-section), hysterectomy, or other surgery in this area.Navel piercing can also cause a keloid on the belly.Men who have darkly pigmented skin and shave their beard area may develop keloids on their face.Itâ€™s rare for a keloid to develop on the genitals, palms, soles, or tongue.Youâ€™ll likely notice one or more of the following, as this scar forms:After you injure skin, itâ€™s likely to take 3 to 12 months or longer to see the first signs of a keloid. The first sign is usually thickening skin. About 20% of keloid scars appear more than a year after the injury.When it began, the keloid on this girlâ€™s earlobe looked like a pimple. It continued to grow. Most keloids continue to grow for weeks or months after they appear. A few grow for years. Growth tends to be slow. Occasionally, a keloid grows quickly.While a keloid is growing, it may feel tender or painful. It may itch or cause a burning sensation. Symptoms tend to end when the keloid stops growing, but not always. This man developed keloids on his face after chickenpox cleared. Decades later, the keloids still itch and feel painful.The color of a keloid, like the one on this patientâ€™s shoulder, can differ from that of your natural skin color. When a keloid first appears, itâ€™s often red, pink, or slightly darker than your natural skin tone. As it grows, it may darken. Some become lighter in the center and darker at the edges.Some people say their keloid darkens noticeably after they spent time in the sun. This darkening can be permanent.Once a keloid stops growing, it tends to remain the same size. Unlike other scars, a keloid rarely fades without treatment.The keloid you see on your skin can look different from the keloid you see on someone elseâ€™s skin. Sometimes, one keloid on your skin will look very different from another. The following pictures of keloids show how different keloids can look. Most keloids are either round, oval, or oblong. On the chest, arms, or legs, this scar is usually raised and has a flat surface. A keloid on the ear, neck, or belly may hang from the skin.A keloid can range from the size of a pimple to larger than a football.When you touch a keloid, youâ€™re most likely to feel one of these textures. A few keloids have a texture thatâ€™s somewhere in between hard and soft.Most people develop one or two keloids. Some people get several. Youâ€™re more likely to develop many keloids after acne or chickenpox clears, but not always. The girl in this picture developed two keloids after chickenpox cleared.While most keloids are harmless, they can interfere with your life. A keloid can: When a keloid covers a large area or develops over a joint, the hardened, tight scar tissue often limits how far you can move. If this happens, it may affect your ability to reach, walk, and do other activities.A keloid rarely opens upon its own. Like the rest of your skin, you may see a keloid bleeding if you injure it. An open keloid can become infected. If the wound on a keloid fails to heal, see a dermatologist.Having a keloid can be hard on your self-esteem. These scars can be noticeable. Most people who seek treatment for a keloid do so because they dislike what it looks like.When people see a dermatologist for treatment, they often ask what caused them to get this scar. Youâ€™ll find out what causes these scars at Keloid scars: Causes. Images\n",
      "Images 1, 5, 11-13: Getty ImagesImages 2, 7, 9, 10: Used with permission of theÂ American Academy of Dermatology National Library of Dermatologic Teaching Slides.Images 3,4: Used with permission of theÂ Journal of the American Academy of DermatologyÂ andÂ JAAD Case Reports:JAAD Case Reports 2019;5:787-8.JAAD Case Reports 2019;5:840-3.Image 6,8: Used with permission ofÂ DermNet NZ.References\n",
      "Chike-Obi CJ, Cole PD, et al. â€œKeloids: pathogenesis, clinical features, and management.â€Â Semin Plast Surg. 2009;23(3):178-184. doi:10.1055/s-0029-1224797.Daggett A, Congcharoen J,Â et al. â€œTop 10 things you need to know about keloids and their treatment.â€Â J Miss State Med Assoc. 2016;57(4):108-11.\n",
      "\n",
      "Kelly AP, Bayat A. â€œKeloidsâ€ In: Kelly AP, Taylor SC,Â et al.Â Dermatology for Skin of Color [2nd ed]. The McGraw Hill Companies, United States of America, 2016.208-22.Monstrey S, Middelkoop E,Â et al. â€œUpdated scar management practical guidelines: Non-invasive and invasive measures.â€Â J Plast Reconstr Aesthet Surg. 2014 Aug;67(8):1017-25.Written by:\n",
      "Paula Ludmann, MSReviewed by:\n",
      "Arturo R. Dominguez, MD, FAAD\n",
      "Ivy Lee, MD, FAADLast updated: 8/30/22\n",
      "\n",
      "\n",
      "Disease: Acne and Rosacea\n",
      "Distance: 0.8442375063896179\n",
      "Symptoms: Rosacea causes more than a red face. There are many signs (what you can see) and symptoms (what a person feels) of rosacea.Â Because rosacea has so many signs and symptoms, scientists created 4 subtypes of rosacea. Some people have more than one rosacea subtype at the same time. Each subtype requires different treatment.\n",
      "    \n",
      "\n",
      "Rosacea: People with this subtype of rosacea, also called ETR, often have very sensitive skin.\n",
      "\n",
      "\n",
      "Signs and symptomsFlushing and redness in the center of the faceVisible broken blood vessels (spider veins)Swollen skinSkin may be very sensitiveSkin may sting and burnDry skin, roughness or scalingHave a tendency to flush or blush more easily than other people\n",
      "\n",
      "\n",
      "Acne rosacea: This subtype of rosacea is most common in middle-aged women.\n",
      "\n",
      "Signs and symptoms Acne-like breakouts, usually where the skin is very redAcne-like breakouts tend to come and goOily skinSkin may be very sensitiveSkin may burn and stingVisible broken blood vessels (spider veins)Raised patches of skin called plaquesSigns and symptoms\n",
      "\n",
      "\n",
      "Rhinophyma: Although rare, rosacea can cause the skin to thicken and have a bumpy texture. When this happens, it is called rhinophyma.\n",
      "\n",
      "\n",
      "This subtype is rare. When it does occur, the person often has signs and symptoms of another subtype of rosacea first. The signs of this subtype are:Bumpy texture to the skinSkin begins to thicken, especially common on the nose. When the skin thickens on the nose, it is called rhinophyma (rye-NO-fie-ma)Skin may thicken on the chin, forehead, cheeks, and earsVisible broken blood vessels appearPores look largeOily skinSigns and symptoms\n",
      "\n",
      "\n",
      "Ocular rosacea: When rosacea affects the eye, it is called ocular rosacea. If rosacea affects your eye, you may need to see an ophthalmologist (doctor who specializes in treating eye diseases).\n",
      "\n",
      "\n",
      "Some people get rosacea in their eyes. The eyes may have one or more of the following:Watery or bloodshot appearanceFeel gritty, often feels like sand in the eyesEyes burn or stingEyes are very dryEyes itchEyes sensitive to lightBlurry visionVisible broken blood vessels on an eyelidCyst on the eyelidPerson cannot see as well as beforeRosacea can affect more than the skin and eyes. Because rosacea is a chronic (long-lasting) skin disease, it can reduce a personâ€™s quality of life. Many people report problems at work, in their marriage, and with meeting new people. Surveys and studies report that living with rosacea can cause:Â Feelings of frustration and embarrassment: In surveys conducted by the National Rosacea Society, 41 percent said their rosacea caused them to avoid public contact or cancel social engagements.Worry: People worry that their rosacea will get worse or cause scars. People worry about side effects from medicine used to treat rosacea.Low self-esteem: Surveys conducted by the National Rosacea Society found that almost 70 percent of people living with rosacea said that the condition lowered their self-confidence and self-esteem.Work-related problems: Surveys conducted by the National Rosacea Society find that when rosacea is severe, 70 percent of people say the disease affects their interactions at work. Nearly 30 percent say that rosacea causes them to miss work.Anxiety and depression: Living with a skin condition that flares unexpectedly can cause people to believe you have a drinking problem. This can cause anxiety and depression.Treatment seems to improve a personâ€™s quality of life. Studies show that when people have fewer signs and symptoms of rosacea, their quality of life improves.Images\n",
      "Images used with permission of the American Academy of Dermatology National Library of Dermatologic Teaching Slides.\n",
      "\n",
      "\n",
      "Disease: Atopic Dermatitis\n",
      "Distance: 0.8442375063896179\n",
      "Symptoms: Keratosis pilaris is a benign (not harmful) skin condition that looks like small bumps. If you have this condition, you may notice small, painless bumps on your skin around hair follicles. The bumps consist of excess keratin, which is a protein that helps form your hair, nails and skinâ€™s outer layer (epidermis). Keratosis pilaris bumps may look red, brown or white, or they may look the same color as your skin. Other names for keratosis pilaris include KP or â€œchicken skinâ€ because it looks like goose bumps.\n",
      "\n",
      "\n",
      "Disease: Herpes HPV and other STDs\n",
      "Distance: 0.8442375063896179\n",
      "Symptoms: Syphilis develops in stages. The symptoms vary with each stage. But the stages may overlap. And the symptoms don't always happen in the same order. You may be infected with syphilis bacteria without noticing any symptoms for years.\n",
      "\n",
      "Primary syphilis\n",
      "The first symptom of syphilis is a small sore called a chancre (SHANG-kur). The sore is often painless. It appears at the spot where the bacteria entered your body. Most people with syphilis develop only one chancre. Some people get more than one.\n",
      "\n",
      "The chancre often forms about three weeks after you come in contact with syphilis bacteria. Many people who have syphilis don't notice the chancre. That's because it's usually painless. It also may be hidden within the vagina or rectum. The chancre heals on its own within 3 to 6 weeks.\n",
      "\n",
      "Secondary syphilis\n",
      "You may get a rash while the first chancre heals or a few weeks after it heals.\n",
      "\n",
      "A rash caused by syphilis:\n",
      "\n",
      "Often is not itchy.\n",
      "May look rough, red or reddish-brown.\n",
      "Might be so faint that it's hard to see.\n",
      "The rash often starts on the trunk of the body. That includes the chest, stomach area, pelvis and back. In time, it also could appear on the limbs, the palms of the hands and the soles of the feet.\n",
      "\n",
      "Along with the rash, you may have symptoms such as:\n",
      "\n",
      "Wartlike sores in the mouth or genital area.\n",
      "Hair loss.\n",
      "Muscle aches.\n",
      "Fever.\n",
      "Sore throat.\n",
      "Tiredness, also called fatigue.\n",
      "Weight loss.\n",
      "Swollen lymph nodes.\n",
      "Symptoms of secondary syphilis may go away on their own. But without treatment, they could come and go for months or years.\n",
      "\n",
      "Latent syphilis\n",
      "If you aren't treated for syphilis, the disease moves from the secondary stage to the latent stage. This also is called the hidden stage because you have no symptoms. The latent stage can last for years. Your symptoms may never come back. But without treatment, the disease might lead to major health problems, also called complications.\n",
      "\n",
      "Tertiary syphilis\n",
      "After the latent stage, up to 30% to 40% of people with syphilis who don't get treatment have complications known as tertiary syphilis. Another name for it is late syphilis.\n",
      "\n",
      "\n",
      "\n",
      "\n",
      "\n"
     ]
    },
    {
     "name": "stderr",
     "output_type": "stream",
     "text": [
      "c:\\Users\\ziyuu\\anaconda3\\envs\\NUS\\lib\\site-packages\\ipykernel_launcher.py:8: DeprecationWarning: Call to deprecated `docvecs` (The `docvecs` property has been renamed `dv`.).\n",
      "  \n"
     ]
    }
   ],
   "source": [
    "tokens = [\"pain and stiffness\", \"swollen toes and fingers\", \"increased frequency of urination\", \"low back pain which worsens at night\", \"eye inflammation\"]\n",
    "\n",
    "# Infer the document vector\n",
    "new_vector = model.infer_vector(tokens, alpha=0.001, epochs=5)\n",
    "\n",
    "# Find the top N most similar documents\n",
    "N = 5  # Adjust N as needed\n",
    "most_similar_documents = model.docvecs.most_similar([new_vector], topn=N)\n",
    "\n",
    "# Print the titles and distances of the most similar documents\n",
    "for tag, distance in most_similar_documents:\n",
    "    doc_similar = alldocs[tag]\n",
    "    print(\"Disease:\", doc_similar.title)\n",
    "    print(\"Distance:\", tagsim[1])\n",
    "    print(\"Symptoms:\", data[doc_similar.original_number])\n",
    "    print(\"\\n\")"
   ]
  },
  {
   "cell_type": "code",
   "execution_count": 101,
   "id": "6512d708",
   "metadata": {},
   "outputs": [
    {
     "name": "stdout",
     "output_type": "stream",
     "text": [
      "Title: Benign Tumors\n",
      "Distance: 0.8442375063896179\n",
      "Document: A small, round bump under the skin, usually on the face, neck or trunk\n",
      "A tiny blackhead plugging the central opening of the cyst\n",
      "A thick, yellow, smelly material that sometimes drains from the cyst\n",
      "Redness, swelling and tenderness in the area, if inflamed or infected\n",
      "Most epidermoid cysts don't cause problems or need treatment. See your doctor if you have one or more that:\n",
      "Grows rapidly\n",
      "Ruptures or becomes painful or infected\n",
      "Occurs in a spot that's constantly irritated\n",
      "Bothers you for cosmetic reasons\n",
      "Is in an unusual location, such as a finger and toe\n",
      "The surface of your skin (epidermis) is made up of a thin, protective layer of cells that your body continuously sheds. Most epidermoid cysts form when these cells move deeper into your skin and multiply rather than slough off. Sometimes the cysts form due to irritation or injury of the skin or the most superficial portion of a hair follicle.The epidermal cells form the walls of the cyst and then secrete the protein keratin into the interior. The keratin is the thick, yellow substance that sometimes drains from the cyst. This abnormal growth of cells may be due to a damaged hair follicle or oil gland in your skin.Many people refer to epidermoid cysts as sebaceous cysts, but they're different. True sebaceous cysts are less common. They arise from the glands that secrete oily matter that lubricates hair and skin (sebaceous glands).Nearly anyone can develop one or more epidermoid cysts, but these factors make you more susceptible:\n",
      "Being past puberty\n",
      "Having certain rare genetic disorders\n",
      "Injuring the skin\n",
      "Potential complications of epidermoid cysts include:\n",
      "Inflammation. An epidermoid cyst can become tender and swollen, even if it's not infected. An inflamed cyst is difficult to remove. Your doctor is likely to postpone removing it until the inflammation subsides.\n",
      "Rupture. A ruptured cyst often leads to a boil-like infection that requires prompt treatment.\n",
      "Infection. Cysts can become infected and painful (abscessed).\n",
      "Skin cancer. In very rare cases, epidermoid cysts can lead to skin cancer.\n",
      "\n",
      "\n",
      "\n",
      "\n",
      "\n",
      "Title: Acne and Rosacea\n",
      "Distance: 0.8442375063896179\n",
      "Document: It causes a mixture of boil-like lumps, blackheads, cysts, scarring and channels in the skin that leak pus. Hidradenitis suppurativa can cause fleshy lumps to grow on the surface of the skin. Sometimes, narrow channels (sinus tracts) form under the skin, which can break out on the surface and leak pus. The condition tends to start with blackheads, spots filled with pus and firm pea-sized lumps that develop in one place. The lumps will either disappear or rupture and leak pus after a few hours or days.\n",
      "\n",
      "New lumps will then often develop in an area nearby. If these are not controlled with medicine, larger lumps may develop and spread. Narrow channels called sinus tracts also form under the skin that break out on the surface and leak pus.\n",
      "\n",
      "Hidradenitis suppurativa can be very painful. The lumps develop on the skin in the following areas:\n",
      "\n",
      "around the groin and genitals\n",
      "in the armpits\n",
      "on the bottom and around the anus\n",
      "below the breasts\n",
      "The lumps may also appear on the nape of the neck, waistband and inner thighs.\n",
      "\n",
      "Some of the lumps may become infected with bacteria, causing a secondary infection that will need to be treated with antibiotics.\n",
      "\n",
      "Many people with hidradenitis suppurativa also develop a pilonidal sinus, which is a small hole or \"tunnel\" in the skin at the top of the buttocks, where they divide (the cleft).\n",
      "\n",
      "\n",
      "Title: Benign Tumors\n",
      "Distance: 0.8442375063896179\n",
      "Document: Epidermoid cyst signs and symptoms include:\n",
      "A small, round bump under the skin, usually on the face, neck or trunk\n",
      "A tiny blackhead plugging the central opening of the cyst\n",
      "A thick, yellow, smelly material that sometimes drains from the cyst\n",
      "Redness, swelling and tenderness in the area, if inflamed or infected\n",
      "Most epidermoid cysts don't cause problems or need treatment. See your doctor if you have one or more that:\n",
      "Grows rapidly\n",
      "Ruptures or becomes painful or infected\n",
      "Occurs in a spot that's constantly irritated\n",
      "Bothers you for cosmetic reasons\n",
      "Is in an unusual location, such as a finger and toe\n",
      "The surface of your skin (epidermis) is made up of a thin, protective layer of cells that your body continuously sheds. Most epidermoid cysts form when these cells move deeper into your skin and multiply rather than slough off. Sometimes the cysts form due to irritation or injury of the skin or the most superficial portion of a hair follicle.The epidermal cells form the walls of the cyst and then secrete the protein keratin into the interior. The keratin is the thick, yellow substance that sometimes drains from the cyst. This abnormal growth of cells may be due to a damaged hair follicle or oil gland in your skin.Many people refer to epidermoid cysts as sebaceous cysts, but they're different. True sebaceous cysts are less common. They arise from the glands that secrete oily matter that lubricates hair and skin (sebaceous glands).Nearly anyone can develop one or more epidermoid cysts, but these factors make you more susceptible:\n",
      "Being past puberty\n",
      "Having certain rare genetic disorders\n",
      "Injuring the skin\n",
      "Potential complications of epidermoid cysts include:\n",
      "Inflammation. An epidermoid cyst can become tender and swollen, even if it's not infected. An inflamed cyst is difficult to remove. Your doctor is likely to postpone removing it until the inflammation subsides.\n",
      "Rupture. A ruptured cyst often leads to a boil-like infection that requires prompt treatment.\n",
      "Infection. Cysts can become infected and painful (abscessed).\n",
      "Skin cancer. In very rare cases, epidermoid cysts can lead to skin cancer.\n",
      "\n",
      "\n",
      "\n",
      "\n",
      "\n",
      "Title: Warts Molluscum and other Viral Infections\n",
      "Distance: 0.8442375063896179\n",
      "Document: There are a few different types of warts. The type is determined by where it grows on the body and what it looks like. The following describes the signs (what a person sees) and symptoms (what a person feels) for some of the different types of warts.(also called vurruca vulgaris)Common warts have these traits:Grow most often on the fingers, around the nails, and on the backs of the hands.Are more common where skin was broken, such as from biting fingernails or picking at hangnails.Can have black dots that look like seeds (often called \"seed\" warts).Most often feel like rough bumps.Children frequently get common warts. If you see a wart on your child's face, check your child's hands for warts. The virus can spread from the hands to the face through touch or nail biting.(also called plantar warts)Plantar warts have these traits:Grow most often on the soles (plantar surface) of the feetCan grow in clusters (mosaic warts)Often are flat or grow inward (walking creates pressure, which causes the warts to grow inward)Can hurt, feels like you have pebbles in your shoeCan have black dotsThese warts appear on the sole of the foot and can be hard to treat.Flat warts have these traits:Can occur anywhere. Children usually get them on the face. Men get these most often in the beard area, and women tend to get them on their legs.Are smaller and smoother than other warts.Tend to grow in large numbers, 20 to 100 at a time.Filiform warts have these traits:Looks like long threads or thin fingers that stick outOften grows on the face: around the mouth, eyes, and noseOften grow quicklyThis boy has HIV, and warts cover his hands and other parts of his body.How to heal warts more quickly and prevent new onesImages\n",
      "Images used with permission of the American Academy of Dermatology National Library of Dermatologic Teaching Slides. \n",
      "\n",
      "\n",
      "Title: Warts Molluscum and other Viral Infections\n",
      "Distance: 0.8442375063896179\n",
      "Document: There are a few different types of warts. The type is determined by where it grows on the body and what it looks like. The following describes the signs (what a person sees) and symptoms (what a person feels) for some of the different types of warts.(also called vurruca vulgaris)Common warts have these traits:Grow most often on the fingers, around the nails, and on the backs of the hands.Are more common where skin was broken, such as from biting fingernails or picking at hangnails.Can have black dots that look like seeds (often called \"seed\" warts).Most often feel like rough bumps.Children frequently get common warts. If you see a wart on your child's face, check your child's hands for warts. The virus can spread from the hands to the face through touch or nail biting.(also called plantar warts)Plantar warts have these traits:Grow most often on the soles (plantar surface) of the feetCan grow in clusters (mosaic warts)Often are flat or grow inward (walking creates pressure, which causes the warts to grow inward)Can hurt, feels like you have pebbles in your shoeCan have black dotsThese warts appear on the sole of the foot and can be hard to treat.Flat warts have these traits:Can occur anywhere. Children usually get them on the face. Men get these most often in the beard area, and women tend to get them on their legs.Are smaller and smoother than other warts.Tend to grow in large numbers, 20 to 100 at a time.Filiform warts have these traits:Looks like long threads or thin fingers that stick outOften grows on the face: around the mouth, eyes, and noseOften grow quicklyThis boy has HIV, and warts cover his hands and other parts of his body.How to heal warts more quickly and prevent new onesImages\n",
      "Images used with permission of the American Academy of Dermatology National Library of Dermatologic Teaching Slides. \n",
      "\n",
      "\n"
     ]
    },
    {
     "name": "stderr",
     "output_type": "stream",
     "text": [
      "c:\\Users\\ziyuu\\anaconda3\\envs\\NUS\\lib\\site-packages\\ipykernel_launcher.py:8: DeprecationWarning: Call to deprecated `docvecs` (The `docvecs` property has been renamed `dv`.).\n",
      "  \n"
     ]
    }
   ],
   "source": [
    "tokens = [\"Facial redness and flushing. Rosacea can make your face flush more easily. Over time, you may notice that your face stays red. Depending on skin color, redness may be subtle or look more pink or purple. Eye problems. Many people with rosacea also have dry, irritated, swollen eyes and eyelids. This is known as ocular rosacea. Eye symptoms may show up before, after or at the same time as skin symptoms. Enlarged nose. Over time, rosacea can thicken the skin on the nose, causing the nose to look bigger. This condition also is called rhinophyma. It occurs more often in men than in women.\"]\n",
    "\n",
    "# Infer the document vector\n",
    "new_vector = model.infer_vector(tokens, alpha=0.001, epochs=5)\n",
    "\n",
    "# Find the top N most similar documents\n",
    "N = 5  # Adjust N as needed\n",
    "most_similar_documents = model.docvecs.most_similar([new_vector], topn=N)\n",
    "\n",
    "# Print the titles and distances of the most similar documents\n",
    "for tag, distance in most_similar_documents:\n",
    "    doc_similar = alldocs[tag]\n",
    "    print(\"Title:\", doc_similar.title)\n",
    "    print(\"Distance:\", tagsim[1])\n",
    "    print(\"Document:\", data[doc_similar.original_number])\n",
    "    print(\"\\n\")"
   ]
  },
  {
   "cell_type": "code",
   "execution_count": 28,
   "id": "e159e6db",
   "metadata": {},
   "outputs": [],
   "source": [
    "try:\n",
    "    import string\n",
    "    from nltk.corpus import stopwords\n",
    "    import nltk\n",
    "except Exception as e:\n",
    "    print(e)\n",
    "\n",
    "class PreProcessText(object):\n",
    "    def __init__(self):\n",
    "        pass\n",
    "    def __remove_punctuation(self,text):\n",
    "        message = []\n",
    "        for x in text: \n",
    "            if x in string.punctuation:\n",
    "                pass\n",
    "            else:\n",
    "                message.append(x)\n",
    "        message = ''.join(message)\n",
    "        return message \n",
    "    \n",
    "    def __remove_stopwords(self , text):\n",
    "        words = []\n",
    "        for x in text.split():\n",
    "            if x.lower() in stopwords.words():\n",
    "                pass\n",
    "            else:\n",
    "                words.append(x)\n",
    "        return words \n",
    "    \n",
    "        print(words)\n",
    "    \n",
    "    def token_words(self, text = ''): #takes string, return token also called list of words that is used to train the model \n",
    "        message = self.__remove_punctuation(text)\n",
    "        words = self.__remove_stopwords(message)\n",
    "        return words\n",
    "\n",
    "\n",
    "\n",
    "    "
   ]
  },
  {
   "cell_type": "code",
   "execution_count": 26,
   "id": "95e33c44",
   "metadata": {},
   "outputs": [
    {
     "name": "stdout",
     "output_type": "stream",
     "text": [
      "Downloaded Stop words\n",
      "0       Batches of welts (wheals) that can arise anywh...\n",
      "1       Raised, inflamed lines where you scratched.\\nW...\n",
      "2       Welts that form in minutes to hours\\nSwelling,...\n",
      "3       A round or oval-shaped waxy or rough bump, typ...\n",
      "4       \\nA small, round bump under the skin, usually ...\n",
      "                              ...                        \n",
      "2386                                                  NaN\n",
      "2387                                                  NaN\n",
      "2388                                                  NaN\n",
      "2389                                                  NaN\n",
      "2390                                                  NaN\n",
      "Name: Symptoms, Length: 2391, dtype: object\n"
     ]
    },
    {
     "name": "stderr",
     "output_type": "stream",
     "text": [
      "[nltk_data] Downloading package stopwords to\n",
      "[nltk_data]     C:\\Users\\ziyuu\\AppData\\Roaming\\nltk_data...\n",
      "[nltk_data]   Package stopwords is already up-to-date!\n"
     ]
    }
   ],
   "source": [
    "import nltk\n",
    "flag = nltk.download(\"stopwords\")\n",
    "if (flag == \"False\" or flag == False):\n",
    "    print(\"Failed to Download stop words\")\n",
    "else: \n",
    "    print(\"Downloaded Stop words\")\n",
    "    helper = PreProcessText()\n",
    "    words = helper.token_words(text=df)"
   ]
  },
  {
   "cell_type": "code",
   "execution_count": 2,
   "id": "4a796b48",
   "metadata": {},
   "outputs": [
    {
     "name": "stderr",
     "output_type": "stream",
     "text": [
      "c:\\Users\\ziyuu\\anaconda3\\envs\\NUS\\lib\\site-packages\\paramiko\\transport.py:219: CryptographyDeprecationWarning: Blowfish has been deprecated\n",
      "  \"class\": algorithms.Blowfish,\n"
     ]
    }
   ],
   "source": [
    "from gensim.models import Word2Vec"
   ]
  },
  {
   "cell_type": "code",
   "execution_count": 3,
   "id": "d6b21a23",
   "metadata": {},
   "outputs": [
    {
     "ename": "NameError",
     "evalue": "name 'words' is not defined",
     "output_type": "error",
     "traceback": [
      "\u001b[1;31m---------------------------------------------------------------------------\u001b[0m",
      "\u001b[1;31mNameError\u001b[0m                                 Traceback (most recent call last)",
      "\u001b[1;32m~\\AppData\\Local\\Temp\\ipykernel_17780\\3776183837.py\u001b[0m in \u001b[0;36m<module>\u001b[1;34m\u001b[0m\n\u001b[1;32m----> 1\u001b[1;33m \u001b[0mmodel\u001b[0m \u001b[1;33m=\u001b[0m \u001b[0mWord2Vec\u001b[0m\u001b[1;33m(\u001b[0m\u001b[1;33m[\u001b[0m\u001b[0mwords\u001b[0m\u001b[1;33m]\u001b[0m\u001b[1;33m,\u001b[0m \u001b[0msize\u001b[0m \u001b[1;33m=\u001b[0m \u001b[1;36m100\u001b[0m\u001b[1;33m,\u001b[0m \u001b[0mwindow\u001b[0m \u001b[1;33m=\u001b[0m \u001b[1;36m5\u001b[0m\u001b[1;33m,\u001b[0m \u001b[0mmin_count\u001b[0m \u001b[1;33m=\u001b[0m \u001b[1;36m1\u001b[0m\u001b[1;33m,\u001b[0m \u001b[0mworkers\u001b[0m \u001b[1;33m=\u001b[0m \u001b[1;36m4\u001b[0m\u001b[1;33m)\u001b[0m\u001b[1;33m\u001b[0m\u001b[1;33m\u001b[0m\u001b[0m\n\u001b[0m",
      "\u001b[1;31mNameError\u001b[0m: name 'words' is not defined"
     ]
    }
   ],
   "source": [
    "model = Word2Vec([words], size = 100, window = 5, min_count = 1, workers = 4)"
   ]
  }
 ],
 "metadata": {
  "kernelspec": {
   "display_name": "NUS",
   "language": "python",
   "name": "python3"
  },
  "language_info": {
   "codemirror_mode": {
    "name": "ipython",
    "version": 3
   },
   "file_extension": ".py",
   "mimetype": "text/x-python",
   "name": "python",
   "nbconvert_exporter": "python",
   "pygments_lexer": "ipython3",
   "version": "3.7.13"
  }
 },
 "nbformat": 4,
 "nbformat_minor": 5
}
