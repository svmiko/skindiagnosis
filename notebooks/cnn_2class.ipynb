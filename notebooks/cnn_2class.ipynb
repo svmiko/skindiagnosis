{
 "cells": [
  {
   "cell_type": "code",
   "execution_count": 1,
   "metadata": {},
   "outputs": [
    {
     "name": "stderr",
     "output_type": "stream",
     "text": [
      "2023-10-30 15:18:48.729250: I tensorflow/core/platform/cpu_feature_guard.cc:182] This TensorFlow binary is optimized to use available CPU instructions in performance-critical operations.\n",
      "To enable the following instructions: SSE4.1 SSE4.2 AVX AVX2 FMA, in other operations, rebuild TensorFlow with the appropriate compiler flags.\n"
     ]
    }
   ],
   "source": [
    "import os\n",
    "import cv2\n",
    "import numpy as np\n",
    "import matplotlib.pyplot as plt\n",
    "# CNN libraries\n",
    "import tensorflow as tf\n",
    "from tensorflow.keras import layers, models\n",
    "from tensorflow.keras.preprocessing.image import ImageDataGenerator"
   ]
  },
  {
   "cell_type": "code",
   "execution_count": 8,
   "metadata": {},
   "outputs": [],
   "source": [
    "train_data = \"../data/images/dermnet/train1\"\n",
    "test_data = \"../data/images/dermnet/test1/\""
   ]
  },
  {
   "cell_type": "code",
   "execution_count": 3,
   "metadata": {},
   "outputs": [
    {
     "name": "stdout",
     "output_type": "stream",
     "text": [
      "Found 2075 images belonging to 2 classes.\n",
      "Found 621 images belonging to 2 classes.\n"
     ]
    }
   ],
   "source": [
    "# Preprocess\n",
    "input_shape = (224, 224, 3) \n",
    "num_classes = 2\n",
    "\n",
    "train_datagen = ImageDataGenerator(rescale=1./255)\n",
    "validation_datagen = ImageDataGenerator(rescale=1./255)\n",
    "\n",
    "train_generator = train_datagen.flow_from_directory(\n",
    "        train_data,\n",
    "        target_size=input_shape[:2],\n",
    "        batch_size=32,\n",
    "        class_mode='categorical')\n",
    "\n",
    "validation_generator = validation_datagen.flow_from_directory(\n",
    "        test_data,\n",
    "        target_size=input_shape[:2],\n",
    "        batch_size=32,\n",
    "        class_mode='categorical')"
   ]
  },
  {
   "cell_type": "code",
   "execution_count": 11,
   "metadata": {},
   "outputs": [],
   "source": [
    "def build_model(input_shape, num_classes):\n",
    "    model = models.Sequential()\n",
    "    model.add(layers.Conv2D(32, (3, 3), activation='relu', input_shape=input_shape))\n",
    "    model.add(layers.MaxPooling2D((2, 2)))\n",
    "    model.add(layers.Conv2D(64, (3, 3), activation='relu'))\n",
    "    model.add(layers.MaxPooling2D((2, 2)))\n",
    "    model.add(layers.Conv2D(64, (3, 3), activation='relu'))\n",
    "    model.add(layers.Flatten())\n",
    "    model.add(layers.Dense(64, activation='relu'))\n",
    "    model.add(layers.Dense(num_classes, activation='softmax'))\n",
    "    return model"
   ]
  },
  {
   "cell_type": "code",
   "execution_count": 5,
   "metadata": {},
   "outputs": [],
   "source": [
    "model = build_model(input_shape, num_classes)\n",
    "model.compile(optimizer='adam', loss='categorical_crossentropy', metrics=['accuracy'])"
   ]
  },
  {
   "cell_type": "code",
   "execution_count": 6,
   "metadata": {},
   "outputs": [
    {
     "name": "stdout",
     "output_type": "stream",
     "text": [
      "Epoch 1/10\n"
     ]
    },
    {
     "name": "stderr",
     "output_type": "stream",
     "text": [
      "2023-10-30 15:19:32.526473: I tensorflow/core/common_runtime/executor.cc:1197] [/device:CPU:0] (DEBUG INFO) Executor start aborting (this does not indicate an error and you can ignore this message): INVALID_ARGUMENT: You must feed a value for placeholder tensor 'Placeholder/_0' with dtype int32\n",
      "\t [[{{node Placeholder/_0}}]]\n"
     ]
    },
    {
     "name": "stdout",
     "output_type": "stream",
     "text": [
      "50/50 [==============================] - ETA: 0s - loss: 0.8553 - accuracy: 0.6270"
     ]
    },
    {
     "name": "stderr",
     "output_type": "stream",
     "text": [
      "2023-10-30 15:20:44.242524: I tensorflow/core/common_runtime/executor.cc:1197] [/device:CPU:0] (DEBUG INFO) Executor start aborting (this does not indicate an error and you can ignore this message): INVALID_ARGUMENT: You must feed a value for placeholder tensor 'Placeholder/_0' with dtype int32\n",
      "\t [[{{node Placeholder/_0}}]]\n"
     ]
    },
    {
     "name": "stdout",
     "output_type": "stream",
     "text": [
      "WARNING:tensorflow:Your input ran out of data; interrupting training. Make sure that your dataset or generator can generate at least `steps_per_epoch * epochs` batches (in this case, 25 batches). You may need to use the repeat() function when building your dataset.\n",
      "50/50 [==============================] - 86s 2s/step - loss: 0.8553 - accuracy: 0.6270 - val_loss: 0.5479 - val_accuracy: 0.7262\n",
      "Epoch 2/10\n",
      "50/50 [==============================] - 75s 1s/step - loss: 0.4960 - accuracy: 0.7492\n",
      "Epoch 3/10\n",
      "50/50 [==============================] - 76s 2s/step - loss: 0.4429 - accuracy: 0.7818\n",
      "Epoch 4/10\n",
      "50/50 [==============================] - 61s 1s/step - loss: 0.4056 - accuracy: 0.7981\n",
      "Epoch 5/10\n",
      "50/50 [==============================] - 66s 1s/step - loss: 0.3716 - accuracy: 0.8112\n",
      "Epoch 6/10\n",
      "50/50 [==============================] - 73s 1s/step - loss: 0.3262 - accuracy: 0.8339\n",
      "Epoch 7/10\n",
      "50/50 [==============================] - 95s 2s/step - loss: 0.2934 - accuracy: 0.8564\n",
      "Epoch 8/10\n",
      "50/50 [==============================] - 74s 1s/step - loss: 0.2498 - accuracy: 0.8869\n",
      "Epoch 9/10\n",
      "50/50 [==============================] - 81s 2s/step - loss: 0.2308 - accuracy: 0.8913\n",
      "Epoch 10/10\n",
      "50/50 [==============================] - 81s 2s/step - loss: 0.2041 - accuracy: 0.9103\n"
     ]
    }
   ],
   "source": [
    "history = model.fit(\n",
    "      train_generator,\n",
    "      steps_per_epoch=50, \n",
    "      epochs=10,\n",
    "      validation_data=validation_generator,\n",
    "      validation_steps=25)\n",
    "      "
   ]
  },
  {
   "cell_type": "code",
   "execution_count": 7,
   "metadata": {},
   "outputs": [
    {
     "name": "stderr",
     "output_type": "stream",
     "text": [
      "2023-10-30 15:32:30.617097: I tensorflow/core/common_runtime/executor.cc:1197] [/device:CPU:0] (DEBUG INFO) Executor start aborting (this does not indicate an error and you can ignore this message): INVALID_ARGUMENT: You must feed a value for placeholder tensor 'Placeholder/_0' with dtype int32\n",
      "\t [[{{node Placeholder/_0}}]]\n"
     ]
    },
    {
     "name": "stdout",
     "output_type": "stream",
     "text": [
      "20/25 [=======================>......] - ETA: 2s - loss: 0.3997 - accuracy: 0.8390WARNING:tensorflow:Your input ran out of data; interrupting training. Make sure that your dataset or generator can generate at least `steps_per_epoch * epochs` batches (in this case, 25 batches). You may need to use the repeat() function when building your dataset.\n",
      "25/25 [==============================] - 11s 430ms/step - loss: 0.3997 - accuracy: 0.8390\n",
      "\n",
      "Test accuracy: 0.8389694094657898\n"
     ]
    }
   ],
   "source": [
    "test_loss, test_acc = model.evaluate(validation_generator, steps=25)\n",
    "print('\\nTest accuracy:', test_acc)"
   ]
  },
  {
   "cell_type": "code",
   "execution_count": 13,
   "metadata": {},
   "outputs": [
    {
     "name": "stdout",
     "output_type": "stream",
     "text": [
      "Found 2824 images belonging to 4 classes.\n",
      "Found 809 images belonging to 4 classes.\n"
     ]
    }
   ],
   "source": [
    "# Preprocess\n",
    "input_shape = (224, 224, 3) \n",
    "num_classes = 4\n",
    "\n",
    "train_datagen = ImageDataGenerator(rescale=1./255)\n",
    "validation_datagen = ImageDataGenerator(rescale=1./255)\n",
    "\n",
    "train_generator = train_datagen.flow_from_directory(\n",
    "        train_data,\n",
    "        target_size=input_shape[:2],\n",
    "        batch_size=32,\n",
    "        class_mode='categorical')\n",
    "\n",
    "validation_generator = validation_datagen.flow_from_directory(\n",
    "        test_data,\n",
    "        target_size=input_shape[:2],\n",
    "        batch_size=32,\n",
    "        class_mode='categorical')"
   ]
  },
  {
   "cell_type": "code",
   "execution_count": 18,
   "metadata": {},
   "outputs": [
    {
     "data": {
      "image/png": "[encoded data removed]",
      "text/plain": [
       "<Figure size 640x480 with 1 Axes>"
      ]
     },
     "metadata": {},
     "output_type": "display_data"
    }
   ],
   "source": [
    "# Train Class distribution\n",
    "train_image_paths = [os.path.join(root, file) \n",
    "               for root, dirs, files in os.walk(\"../data/images/dermnet/train1\") \n",
    "               for file in files]\n",
    "\n",
    "test_image_paths = [os.path.join(root, file) \n",
    "               for root, dirs, files in os.walk(\"../data/images/dermnet/test1\") \n",
    "               for file in files]\n",
    "classes = [os.path.basename(os.path.dirname(image_path)) for image_path in train_image_paths]\n",
    "plt.hist(classes, orientation='horizontal')\n",
    "plt.xticks(rotation=45)\n",
    "plt.show()"
   ]
  },
  {
   "cell_type": "code",
   "execution_count": 14,
   "metadata": {},
   "outputs": [],
   "source": [
    "def build_model(input_shape, num_classes):\n",
    "    model = models.Sequential()\n",
    "    model.add(layers.Conv2D(32, (3, 3), activation='relu', input_shape=input_shape))\n",
    "    model.add(layers.MaxPooling2D((2, 2)))\n",
    "    model.add(layers.Conv2D(64, (3, 3), activation='relu'))\n",
    "    model.add(layers.MaxPooling2D((2, 2)))\n",
    "    model.add(layers.Conv2D(64, (3, 3), activation='relu'))\n",
    "    model.add(layers.Flatten())\n",
    "    model.add(layers.Dense(64, activation='relu'))\n",
    "    model.add(layers.Dense(num_classes, activation='softmax'))\n",
    "    return model"
   ]
  },
  {
   "cell_type": "code",
   "execution_count": 15,
   "metadata": {},
   "outputs": [],
   "source": [
    "model = build_model(input_shape, num_classes)\n",
    "model.compile(optimizer='adam', loss='categorical_crossentropy', metrics=['accuracy'])"
   ]
  },
  {
   "cell_type": "code",
   "execution_count": 16,
   "metadata": {},
   "outputs": [
    {
     "name": "stdout",
     "output_type": "stream",
     "text": [
      "Epoch 1/10\n"
     ]
    },
    {
     "name": "stderr",
     "output_type": "stream",
     "text": [
      "2023-10-30 15:35:15.855093: I tensorflow/core/common_runtime/executor.cc:1197] [/device:CPU:0] (DEBUG INFO) Executor start aborting (this does not indicate an error and you can ignore this message): INVALID_ARGUMENT: You must feed a value for placeholder tensor 'Placeholder/_0' with dtype int32\n",
      "\t [[{{node Placeholder/_0}}]]\n"
     ]
    },
    {
     "name": "stdout",
     "output_type": "stream",
     "text": [
      "50/50 [==============================] - ETA: 0s - loss: 1.6265 - accuracy: 0.4400"
     ]
    },
    {
     "name": "stderr",
     "output_type": "stream",
     "text": [
      "2023-10-30 15:36:20.919322: I tensorflow/core/common_runtime/executor.cc:1197] [/device:CPU:0] (DEBUG INFO) Executor start aborting (this does not indicate an error and you can ignore this message): INVALID_ARGUMENT: You must feed a value for placeholder tensor 'Placeholder/_0' with dtype int32\n",
      "\t [[{{node Placeholder/_0}}]]\n"
     ]
    },
    {
     "name": "stdout",
     "output_type": "stream",
     "text": [
      "50/50 [==============================] - 79s 2s/step - loss: 1.6265 - accuracy: 0.4400 - val_loss: 1.1454 - val_accuracy: 0.5412\n",
      "Epoch 2/10\n",
      "50/50 [==============================] - 84s 2s/step - loss: 1.1829 - accuracy: 0.5156 - val_loss: 1.1588 - val_accuracy: 0.5475\n",
      "Epoch 3/10\n",
      "50/50 [==============================] - 75s 1s/step - loss: 1.1133 - accuracy: 0.5462 - val_loss: 1.1366 - val_accuracy: 0.4988\n",
      "Epoch 4/10\n",
      "50/50 [==============================] - 75s 1s/step - loss: 1.0747 - accuracy: 0.5622 - val_loss: 1.1326 - val_accuracy: 0.5600\n",
      "Epoch 5/10\n",
      "50/50 [==============================] - 78s 2s/step - loss: 1.0220 - accuracy: 0.5844 - val_loss: 1.0629 - val_accuracy: 0.5813\n",
      "Epoch 6/10\n",
      "50/50 [==============================] - 76s 2s/step - loss: 0.9529 - accuracy: 0.6137 - val_loss: 1.0691 - val_accuracy: 0.5863\n",
      "Epoch 7/10\n",
      "50/50 [==============================] - 74s 1s/step - loss: 0.8810 - accuracy: 0.6562 - val_loss: 1.0365 - val_accuracy: 0.5913\n",
      "Epoch 8/10\n",
      "50/50 [==============================] - 74s 1s/step - loss: 0.8005 - accuracy: 0.6869 - val_loss: 1.0630 - val_accuracy: 0.6225\n",
      "Epoch 9/10\n",
      "50/50 [==============================] - 75s 2s/step - loss: 0.7475 - accuracy: 0.7144 - val_loss: 1.1586 - val_accuracy: 0.5700\n",
      "Epoch 10/10\n",
      "50/50 [==============================] - 76s 2s/step - loss: 0.6317 - accuracy: 0.7556 - val_loss: 1.1874 - val_accuracy: 0.6263\n"
     ]
    }
   ],
   "source": [
    "history = model.fit(\n",
    "      train_generator,\n",
    "      steps_per_epoch=50, \n",
    "      epochs=10,\n",
    "      validation_data=validation_generator,\n",
    "      validation_steps=25)\n",
    "      "
   ]
  },
  {
   "cell_type": "code",
   "execution_count": 17,
   "metadata": {},
   "outputs": [
    {
     "name": "stderr",
     "output_type": "stream",
     "text": [
      "2023-10-30 16:54:20.949906: I tensorflow/core/common_runtime/executor.cc:1197] [/device:CPU:0] (DEBUG INFO) Executor start aborting (this does not indicate an error and you can ignore this message): INVALID_ARGUMENT: You must feed a value for placeholder tensor 'Placeholder/_0' with dtype int32\n",
      "\t [[{{node Placeholder/_0}}]]\n"
     ]
    },
    {
     "name": "stdout",
     "output_type": "stream",
     "text": [
      "26/26 [==============================] - 9s 310ms/step - loss: 1.1859 - accuracy: 0.6255\n",
      "\n",
      "Test accuracy: 0.6254635453224182\n"
     ]
    }
   ],
   "source": [
    "test_loss, test_acc = model.evaluate(validation_generator)\n",
    "print('\\nTest accuracy:', test_acc)"
   ]
  }
 ],
 "metadata": {
  "kernelspec": {
   "display_name": "neuralnetwork",
   "language": "python",
   "name": "python3"
  },
  "language_info": {
   "codemirror_mode": {
    "name": "ipython",
    "version": 3
   },
   "file_extension": ".py",
   "mimetype": "text/x-python",
   "name": "python",
   "nbconvert_exporter": "python",
   "pygments_lexer": "ipython3",
   "version": "3.11.3"
  }
 },
 "nbformat": 4,
 "nbformat_minor": 2
}
