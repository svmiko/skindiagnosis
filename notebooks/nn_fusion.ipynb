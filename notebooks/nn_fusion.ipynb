{
 "cells": [
  {
   "cell_type": "code",
   "execution_count": 1,
   "metadata": {},
   "outputs": [],
   "source": [
    "import numpy as np\n",
    "import pandas as pd\n"
   ]
  },
  {
   "cell_type": "code",
   "execution_count": 3,
   "metadata": {},
   "outputs": [],
   "source": [
    "train_b = pd.read_csv(\"../data/train_symp_path.csv\")\n",
    "test_b = pd.read_csv(\"../data/test_symp_path.csv\")\n",
    "def process(df):\n",
    "    df['Symptoms'] = df['Symptoms'].str.lower()  # Convert to lower case\n",
    "    df['Symptoms'] = df['Symptoms'].str.replace('[^\\w\\s]', '')  # Remove punctuation\n",
    "    df['Symptoms'] = df['Symptoms'].str.replace('\\n', ' ')  # Remove punctuation\n",
    "    return df\n",
    "train_label = process(train_b)['Disease']\n",
    "test_label = process(test_b)['Disease']"
   ]
  },
  {
   "cell_type": "code",
   "execution_count": 77,
   "metadata": {},
   "outputs": [],
   "source": [
    "text_train = pd.read_csv(\"../data/X_train_probabilities.csv\")\n",
    "text_test = pd.read_csv(\"../data/X_test_probabilities.csv\")\n",
    "\n",
    "bert_train = pd.read_csv(\"../data/train_probabilities.csv\")\n",
    "bert_test = pd.read_csv(\"../data/test_probabilities.csv\")\n",
    "\n",
    "p_train = pd.read_csv(\"../data/train_combined_p.csv\",header=None)\n",
    "p_test = pd.read_csv(\"../data/test_combined_p.csv\",header=None)"
   ]
  },
  {
   "cell_type": "code",
   "execution_count": 25,
   "metadata": {},
   "outputs": [],
   "source": [
    "stacked_probabilities_train = np.hstack((p_train, text_train))\n",
    "stacked_probabilities_test = np.hstack((p_test, text_test))"
   ]
  },
  {
   "cell_type": "code",
   "execution_count": 27,
   "metadata": {},
   "outputs": [],
   "source": [
    "from sklearn.preprocessing import LabelEncoder\n",
    "\n",
    "label_encoder = LabelEncoder()\n",
    "y_encoded_train = label_encoder.fit_transform(train_label)\n",
    "y_encoded_test = label_encoder.fit_transform(test_label)"
   ]
  },
  {
   "cell_type": "code",
   "execution_count": 28,
   "metadata": {},
   "outputs": [],
   "source": [
    "from sklearn.linear_model import LogisticRegression\n",
    "\n",
    "fusion_model = LogisticRegression().fit(stacked_probabilities_train, y_encoded_train)"
   ]
  },
  {
   "cell_type": "code",
   "execution_count": 30,
   "metadata": {},
   "outputs": [
    {
     "name": "stdout",
     "output_type": "stream",
     "text": [
      "Accuracy of the fusion model: 87.80%\n"
     ]
    }
   ],
   "source": [
    "from sklearn.metrics import classification_report, accuracy_score\n",
    "\n",
    "y_pred_log = fusion_model.predict(stacked_probabilities_test)\n",
    "\n",
    "accuracy = accuracy_score(y_encoded_test, y_pred_log)\n",
    "print(f'Accuracy of the fusion model: {accuracy * 100:.2f}%')\n"
   ]
  },
  {
   "cell_type": "code",
   "execution_count": 32,
   "metadata": {},
   "outputs": [
    {
     "name": "stdout",
     "output_type": "stream",
     "text": [
      "                                                      precision    recall  f1-score   support\n",
      "\n",
      "                                   Atopic Dermatitis       0.84      1.00      0.91        32\n",
      "          Lupus and other Connective Tissue diseases       0.94      0.94      0.94        17\n",
      "Scabies Lyme Diease and other Infestations and Bites       0.90      0.72      0.80        25\n",
      "        Seborrheic Keratoses and other Benign Tumors       0.86      0.75      0.80         8\n",
      "\n",
      "                                            accuracy                           0.88        82\n",
      "                                           macro avg       0.89      0.85      0.86        82\n",
      "                                        weighted avg       0.88      0.88      0.87        82\n",
      "\n"
     ]
    }
   ],
   "source": [
    "print(classification_report(y_encoded_test, y_pred_log, target_names=label_encoder.classes_))\n"
   ]
  },
  {
   "cell_type": "code",
   "execution_count": 53,
   "metadata": {},
   "outputs": [],
   "source": [
    "from tensorflow.keras.models import Sequential\n",
    "from tensorflow.keras.layers import Dense, Dropout\n",
    "from tensorflow.keras.regularizers import l2\n"
   ]
  },
  {
   "cell_type": "code",
   "execution_count": 34,
   "metadata": {},
   "outputs": [],
   "source": [
    "# Number of classes\n",
    "num_classes = 4  # Assuming y_train is one-hot encoded\n",
    "\n",
    "fusion_model = Sequential([\n",
    "    Dense(64, input_shape=(stacked_probabilities_train.shape[1],), activation='relu'),\n",
    "    Dropout(0.5),\n",
    "    Dense(num_classes, activation='softmax')\n",
    "])\n",
    "\n",
    "fusion_model.compile(optimizer='adam', loss='categorical_crossentropy', metrics=['accuracy'])"
   ]
  },
  {
   "cell_type": "code",
   "execution_count": 35,
   "metadata": {},
   "outputs": [],
   "source": [
    "from tensorflow.keras.utils import to_categorical\n",
    "\n",
    "y_train_encoded = to_categorical(y_encoded_train, num_classes=4)\n",
    "y_val_encoded = to_categorical(y_encoded_test, num_classes=4)"
   ]
  },
  {
   "cell_type": "code",
   "execution_count": 36,
   "metadata": {},
   "outputs": [
    {
     "name": "stdout",
     "output_type": "stream",
     "text": [
      "Epoch 1/10\n",
      "11/11 [==============================] - 1s 28ms/step - loss: 1.2329 - accuracy: 0.5921 - val_loss: 1.1834 - val_accuracy: 0.7561\n",
      "Epoch 2/10\n",
      "11/11 [==============================] - 0s 5ms/step - loss: 1.1229 - accuracy: 0.7039 - val_loss: 1.1089 - val_accuracy: 0.7927\n",
      "Epoch 3/10\n",
      "11/11 [==============================] - 0s 5ms/step - loss: 1.0401 - accuracy: 0.7855 - val_loss: 1.0383 - val_accuracy: 0.7683\n",
      "Epoch 4/10\n",
      "11/11 [==============================] - 0s 5ms/step - loss: 0.9621 - accuracy: 0.7976 - val_loss: 0.9714 - val_accuracy: 0.7805\n",
      "Epoch 5/10\n",
      "11/11 [==============================] - 0s 5ms/step - loss: 0.8799 - accuracy: 0.8550 - val_loss: 0.9092 - val_accuracy: 0.8049\n",
      "Epoch 6/10\n",
      "11/11 [==============================] - 0s 5ms/step - loss: 0.7964 - accuracy: 0.8580 - val_loss: 0.8515 - val_accuracy: 0.8049\n",
      "Epoch 7/10\n",
      "11/11 [==============================] - 0s 6ms/step - loss: 0.7238 - accuracy: 0.8731 - val_loss: 0.7973 - val_accuracy: 0.7927\n",
      "Epoch 8/10\n",
      "11/11 [==============================] - 0s 5ms/step - loss: 0.6747 - accuracy: 0.8822 - val_loss: 0.7502 - val_accuracy: 0.7927\n",
      "Epoch 9/10\n",
      "11/11 [==============================] - 0s 5ms/step - loss: 0.5987 - accuracy: 0.8973 - val_loss: 0.7060 - val_accuracy: 0.8049\n",
      "Epoch 10/10\n",
      "11/11 [==============================] - 0s 6ms/step - loss: 0.5353 - accuracy: 0.9094 - val_loss: 0.6663 - val_accuracy: 0.8049\n"
     ]
    },
    {
     "data": {
      "text/plain": [
       "<keras.callbacks.History at 0x13d227e50>"
      ]
     },
     "execution_count": 36,
     "metadata": {},
     "output_type": "execute_result"
    }
   ],
   "source": [
    "fusion_model.fit(stacked_probabilities_train, y_train_encoded, validation_data=(stacked_probabilities_test, y_val_encoded), epochs=10, batch_size=32)\n"
   ]
  },
  {
   "cell_type": "code",
   "execution_count": 37,
   "metadata": {},
   "outputs": [
    {
     "name": "stdout",
     "output_type": "stream",
     "text": [
      "3/3 [==============================] - 0s 3ms/step - loss: 0.6663 - accuracy: 0.8049\n",
      "Validation Accuracy: 0.8049\n"
     ]
    }
   ],
   "source": [
    "val_loss, val_accuracy = fusion_model.evaluate(stacked_probabilities_test, y_val_encoded)\n",
    "print(f\"Validation Accuracy: {val_accuracy:.4f}\")\n"
   ]
  },
  {
   "cell_type": "code",
   "execution_count": 39,
   "metadata": {},
   "outputs": [],
   "source": [
    "num_classes = 4  # Assuming y_train is one-hot encoded\n",
    "\n",
    "fusion_model = Sequential([\n",
    "    Dense(64, input_shape=(stacked_probabilities_train.shape[1],), activation='relu'),\n",
    "    Dropout(0.5),\n",
    "    Dense(32, activation='relu'),\n",
    "    Dense(num_classes, activation='softmax')\n",
    "])\n",
    "\n",
    "fusion_model.compile(optimizer='adam', loss='categorical_crossentropy', metrics=['accuracy'])"
   ]
  },
  {
   "cell_type": "code",
   "execution_count": 40,
   "metadata": {},
   "outputs": [
    {
     "name": "stdout",
     "output_type": "stream",
     "text": [
      "Epoch 1/10\n",
      "11/11 [==============================] - 1s 25ms/step - loss: 1.3311 - accuracy: 0.3172 - val_loss: 1.2563 - val_accuracy: 0.3902\n",
      "Epoch 2/10\n",
      "11/11 [==============================] - 0s 6ms/step - loss: 1.2082 - accuracy: 0.5257 - val_loss: 1.1517 - val_accuracy: 0.6585\n",
      "Epoch 3/10\n",
      "11/11 [==============================] - 0s 6ms/step - loss: 1.1071 - accuracy: 0.6858 - val_loss: 1.0481 - val_accuracy: 0.7439\n",
      "Epoch 4/10\n",
      "11/11 [==============================] - 0s 6ms/step - loss: 0.9942 - accuracy: 0.7764 - val_loss: 0.9417 - val_accuracy: 0.7805\n",
      "Epoch 5/10\n",
      "11/11 [==============================] - 0s 6ms/step - loss: 0.8584 - accuracy: 0.8248 - val_loss: 0.8380 - val_accuracy: 0.7805\n",
      "Epoch 6/10\n",
      "11/11 [==============================] - 0s 7ms/step - loss: 0.7192 - accuracy: 0.8640 - val_loss: 0.7382 - val_accuracy: 0.7927\n",
      "Epoch 7/10\n",
      "11/11 [==============================] - 0s 6ms/step - loss: 0.6143 - accuracy: 0.8731 - val_loss: 0.6464 - val_accuracy: 0.8049\n",
      "Epoch 8/10\n",
      "11/11 [==============================] - 0s 6ms/step - loss: 0.4703 - accuracy: 0.9245 - val_loss: 0.5731 - val_accuracy: 0.8537\n",
      "Epoch 9/10\n",
      "11/11 [==============================] - 0s 6ms/step - loss: 0.4054 - accuracy: 0.9245 - val_loss: 0.5214 - val_accuracy: 0.8659\n",
      "Epoch 10/10\n",
      "11/11 [==============================] - 0s 6ms/step - loss: 0.2996 - accuracy: 0.9547 - val_loss: 0.4913 - val_accuracy: 0.8659\n"
     ]
    },
    {
     "data": {
      "text/plain": [
       "<keras.callbacks.History at 0x13df1abd0>"
      ]
     },
     "execution_count": 40,
     "metadata": {},
     "output_type": "execute_result"
    }
   ],
   "source": [
    "fusion_model.fit(stacked_probabilities_train, y_train_encoded, validation_data=(stacked_probabilities_test, y_val_encoded), epochs=10, batch_size=32)\n"
   ]
  },
  {
   "cell_type": "code",
   "execution_count": 41,
   "metadata": {},
   "outputs": [
    {
     "name": "stdout",
     "output_type": "stream",
     "text": [
      "3/3 [==============================] - 0s 3ms/step - loss: 0.4913 - accuracy: 0.8659\n",
      "Validation Accuracy: 0.8659\n"
     ]
    }
   ],
   "source": [
    "val_loss, val_accuracy = fusion_model.evaluate(stacked_probabilities_test, y_val_encoded)\n",
    "print(f\"Validation Accuracy: {val_accuracy:.4f}\")"
   ]
  },
  {
   "cell_type": "code",
   "execution_count": 60,
   "metadata": {},
   "outputs": [],
   "source": [
    "num_classes = 4  # Assuming y_train is one-hot encoded\n",
    "\n",
    "fusion_model = Sequential([\n",
    "    Dense(64, input_shape=(stacked_probabilities_train.shape[1],), activation='relu'),\n",
    "    Dropout(0.5),\n",
    "    Dense(32, activation='relu'),\n",
    "    Dropout(0.3),\n",
    "    Dense(num_classes, activation='softmax')\n",
    "])\n",
    "\n",
    "fusion_model.compile(optimizer='adam', loss='categorical_crossentropy', metrics=['accuracy'])"
   ]
  },
  {
   "cell_type": "code",
   "execution_count": 61,
   "metadata": {},
   "outputs": [
    {
     "name": "stdout",
     "output_type": "stream",
     "text": [
      "Epoch 1/10\n",
      "11/11 [==============================] - 1s 30ms/step - loss: 1.2804 - accuracy: 0.4502 - val_loss: 1.2606 - val_accuracy: 0.6585\n",
      "Epoch 2/10\n",
      "11/11 [==============================] - 0s 6ms/step - loss: 1.2032 - accuracy: 0.5982 - val_loss: 1.1628 - val_accuracy: 0.7805\n",
      "Epoch 3/10\n",
      "11/11 [==============================] - 0s 6ms/step - loss: 1.0850 - accuracy: 0.7553 - val_loss: 1.0573 - val_accuracy: 0.8049\n",
      "Epoch 4/10\n",
      "11/11 [==============================] - 0s 6ms/step - loss: 0.9527 - accuracy: 0.7976 - val_loss: 0.9446 - val_accuracy: 0.7927\n",
      "Epoch 5/10\n",
      "11/11 [==============================] - 0s 5ms/step - loss: 0.8662 - accuracy: 0.8338 - val_loss: 0.8319 - val_accuracy: 0.8171\n",
      "Epoch 6/10\n",
      "11/11 [==============================] - 0s 6ms/step - loss: 0.7168 - accuracy: 0.8489 - val_loss: 0.7301 - val_accuracy: 0.8293\n",
      "Epoch 7/10\n",
      "11/11 [==============================] - 0s 6ms/step - loss: 0.6021 - accuracy: 0.8761 - val_loss: 0.6423 - val_accuracy: 0.8171\n",
      "Epoch 8/10\n",
      "11/11 [==============================] - 0s 6ms/step - loss: 0.5138 - accuracy: 0.8882 - val_loss: 0.5825 - val_accuracy: 0.8537\n",
      "Epoch 9/10\n",
      "11/11 [==============================] - 0s 5ms/step - loss: 0.3996 - accuracy: 0.9063 - val_loss: 0.5371 - val_accuracy: 0.8659\n",
      "Epoch 10/10\n",
      "11/11 [==============================] - 0s 5ms/step - loss: 0.3668 - accuracy: 0.9215 - val_loss: 0.5037 - val_accuracy: 0.8659\n"
     ]
    },
    {
     "data": {
      "text/plain": [
       "<keras.callbacks.History at 0x13e08b4d0>"
      ]
     },
     "execution_count": 61,
     "metadata": {},
     "output_type": "execute_result"
    }
   ],
   "source": [
    "fusion_model.fit(stacked_probabilities_train, y_train_encoded, validation_data=(stacked_probabilities_test, y_val_encoded), epochs=10, batch_size=32)"
   ]
  },
  {
   "cell_type": "code",
   "execution_count": 62,
   "metadata": {},
   "outputs": [
    {
     "name": "stdout",
     "output_type": "stream",
     "text": [
      "3/3 [==============================] - 0s 3ms/step - loss: 0.5037 - accuracy: 0.8659\n",
      "Validation Accuracy: 0.8659\n"
     ]
    }
   ],
   "source": [
    "val_loss, val_accuracy = fusion_model.evaluate(stacked_probabilities_test, y_val_encoded)\n",
    "print(f\"Validation Accuracy: {val_accuracy:.4f}\")"
   ]
  },
  {
   "cell_type": "code",
   "execution_count": 75,
   "metadata": {},
   "outputs": [
    {
     "name": "stdout",
     "output_type": "stream",
     "text": [
      "3/3 [==============================] - 0s 2ms/step\n"
     ]
    }
   ],
   "source": [
    "y_pred_test_nn = fusion_model.predict(stacked_probabilities_test)\n",
    "predicted_classes = np.argmax(y_pred_test_nn, axis=1)\n"
   ]
  },
  {
   "cell_type": "code",
   "execution_count": 73,
   "metadata": {},
   "outputs": [
    {
     "data": {
      "text/plain": [
       "array([0, 0, 0, 0, 0, 0, 0, 0, 0, 0, 0, 0, 0, 0, 0, 0, 0, 0, 0, 0, 0, 0,\n",
       "       0, 0, 0, 0, 0, 0, 0, 0, 0, 0, 1, 1, 1, 1, 1, 1, 1, 1, 1, 1, 1, 1,\n",
       "       1, 1, 1, 1, 1, 2, 2, 2, 2, 2, 2, 2, 2, 2, 2, 2, 2, 2, 2, 2, 2, 2,\n",
       "       2, 2, 2, 2, 2, 2, 2, 2, 3, 3, 3, 3, 3, 3, 3, 3])"
      ]
     },
     "execution_count": 73,
     "metadata": {},
     "output_type": "execute_result"
    }
   ],
   "source": [
    "y_encoded_test"
   ]
  },
  {
   "cell_type": "code",
   "execution_count": 76,
   "metadata": {},
   "outputs": [
    {
     "name": "stdout",
     "output_type": "stream",
     "text": [
      "                                                      precision    recall  f1-score   support\n",
      "\n",
      "                                   Atopic Dermatitis       0.82      1.00      0.90        32\n",
      "          Lupus and other Connective Tissue diseases       0.94      0.88      0.91        17\n",
      "Scabies Lyme Diease and other Infestations and Bites       0.86      0.72      0.78        25\n",
      "        Seborrheic Keratoses and other Benign Tumors       1.00      0.75      0.86         8\n",
      "\n",
      "                                            accuracy                           0.87        82\n",
      "                                           macro avg       0.90      0.84      0.86        82\n",
      "                                        weighted avg       0.87      0.87      0.86        82\n",
      "\n"
     ]
    }
   ],
   "source": [
    "print(classification_report(y_encoded_test, predicted_classes, target_names=label_encoder.classes_))\n"
   ]
  },
  {
   "cell_type": "code",
   "execution_count": 54,
   "metadata": {},
   "outputs": [],
   "source": [
    "num_classes = 4  # Assuming y_train is one-hot encoded\n",
    "\n",
    "fusion_model = Sequential([\n",
    "    Dense(64, input_shape=(stacked_probabilities_train.shape[1],), activation='relu',kernel_regularizer=l2(0.01)),\n",
    "    Dropout(0.5),\n",
    "    Dense(32, activation='relu'),\n",
    "    Dropout(0.3),\n",
    "    Dense(num_classes, activation='softmax')\n",
    "])\n",
    "\n",
    "fusion_model.compile(optimizer='adam', loss='categorical_crossentropy', metrics=['accuracy'])"
   ]
  },
  {
   "cell_type": "code",
   "execution_count": 55,
   "metadata": {},
   "outputs": [
    {
     "name": "stdout",
     "output_type": "stream",
     "text": [
      "Epoch 1/10\n",
      "11/11 [==============================] - 2s 28ms/step - loss: 1.4608 - accuracy: 0.3474 - val_loss: 1.3767 - val_accuracy: 0.5976\n",
      "Epoch 2/10\n",
      "11/11 [==============================] - 0s 6ms/step - loss: 1.3295 - accuracy: 0.5740 - val_loss: 1.2609 - val_accuracy: 0.8049\n",
      "Epoch 3/10\n",
      "11/11 [==============================] - 0s 7ms/step - loss: 1.2011 - accuracy: 0.7372 - val_loss: 1.1421 - val_accuracy: 0.7927\n",
      "Epoch 4/10\n",
      "11/11 [==============================] - 0s 6ms/step - loss: 1.0555 - accuracy: 0.7885 - val_loss: 1.0220 - val_accuracy: 0.7927\n",
      "Epoch 5/10\n",
      "11/11 [==============================] - 0s 6ms/step - loss: 0.9378 - accuracy: 0.8308 - val_loss: 0.9104 - val_accuracy: 0.7927\n",
      "Epoch 6/10\n",
      "11/11 [==============================] - 0s 7ms/step - loss: 0.8285 - accuracy: 0.8399 - val_loss: 0.8121 - val_accuracy: 0.7927\n",
      "Epoch 7/10\n",
      "11/11 [==============================] - 0s 16ms/step - loss: 0.7330 - accuracy: 0.8489 - val_loss: 0.7352 - val_accuracy: 0.7927\n",
      "Epoch 8/10\n",
      "11/11 [==============================] - 0s 6ms/step - loss: 0.6103 - accuracy: 0.8822 - val_loss: 0.6775 - val_accuracy: 0.7805\n",
      "Epoch 9/10\n",
      "11/11 [==============================] - 0s 6ms/step - loss: 0.5384 - accuracy: 0.8943 - val_loss: 0.6421 - val_accuracy: 0.7927\n",
      "Epoch 10/10\n",
      "11/11 [==============================] - 0s 5ms/step - loss: 0.4975 - accuracy: 0.8943 - val_loss: 0.6166 - val_accuracy: 0.8293\n"
     ]
    },
    {
     "data": {
      "text/plain": [
       "<keras.callbacks.History at 0x13e4b5dd0>"
      ]
     },
     "execution_count": 55,
     "metadata": {},
     "output_type": "execute_result"
    }
   ],
   "source": [
    "fusion_model.fit(stacked_probabilities_train, y_train_encoded, validation_data=(stacked_probabilities_test, y_val_encoded), epochs=10, batch_size=32)"
   ]
  },
  {
   "cell_type": "code",
   "execution_count": 56,
   "metadata": {},
   "outputs": [
    {
     "name": "stdout",
     "output_type": "stream",
     "text": [
      "3/3 [==============================] - 0s 3ms/step - loss: 0.6166 - accuracy: 0.8293\n",
      "Validation Accuracy: 0.8293\n"
     ]
    }
   ],
   "source": [
    "val_loss, val_accuracy = fusion_model.evaluate(stacked_probabilities_test, y_val_encoded)\n",
    "print(f\"Validation Accuracy: {val_accuracy:.4f}\")"
   ]
  },
  {
   "cell_type": "code",
   "execution_count": null,
   "metadata": {},
   "outputs": [],
   "source": []
  }
 ],
 "metadata": {
  "kernelspec": {
   "display_name": "neuralnetwork",
   "language": "python",
   "name": "python3"
  },
  "language_info": {
   "codemirror_mode": {
    "name": "ipython",
    "version": 3
   },
   "file_extension": ".py",
   "mimetype": "text/x-python",
   "name": "python",
   "nbconvert_exporter": "python",
   "pygments_lexer": "ipython3",
   "version": "3.11.3"
  }
 },
 "nbformat": 4,
 "nbformat_minor": 2
}
