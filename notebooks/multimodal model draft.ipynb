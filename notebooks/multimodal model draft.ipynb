{
 "cells": [
  {
   "cell_type": "markdown",
   "metadata": {},
   "source": [
    "# Text Model"
   ]
  },
  {
   "cell_type": "code",
   "execution_count": 12,
   "metadata": {},
   "outputs": [],
   "source": [
    "import pandas as pd\n",
    "from sklearn.model_selection import train_test_split\n",
    "from sklearn.feature_extraction.text import TfidfVectorizer\n",
    "from sklearn.preprocessing import LabelEncoder\n",
    "\n"
   ]
  },
  {
   "cell_type": "code",
   "execution_count": 13,
   "metadata": {},
   "outputs": [
    {
     "data": {
      "text/html": [
       "<div>\n",
       "<style scoped>\n",
       "    .dataframe tbody tr th:only-of-type {\n",
       "        vertical-align: middle;\n",
       "    }\n",
       "\n",
       "    .dataframe tbody tr th {\n",
       "        vertical-align: top;\n",
       "    }\n",
       "\n",
       "    .dataframe thead th {\n",
       "        text-align: right;\n",
       "    }\n",
       "</style>\n",
       "<table border=\"1\" class=\"dataframe\">\n",
       "  <thead>\n",
       "    <tr style=\"text-align: right;\">\n",
       "      <th></th>\n",
       "      <th>Unnamed: 0</th>\n",
       "      <th>Disease</th>\n",
       "      <th>Keyword</th>\n",
       "      <th>Website</th>\n",
       "      <th>Symptoms</th>\n",
       "      <th>Unnamed: 5</th>\n",
       "      <th>Unnamed: 6</th>\n",
       "    </tr>\n",
       "  </thead>\n",
       "  <tbody>\n",
       "    <tr>\n",
       "      <th>0</th>\n",
       "      <td>0</td>\n",
       "      <td>Urticaria Hives</td>\n",
       "      <td>Urticaria</td>\n",
       "      <td>https://www.mayoclinic.org/diseases-conditions...</td>\n",
       "      <td>Batches of welts (wheals) that can arise anywh...</td>\n",
       "      <td>NaN</td>\n",
       "      <td>NaN</td>\n",
       "    </tr>\n",
       "    <tr>\n",
       "      <th>1</th>\n",
       "      <td>0</td>\n",
       "      <td>Urticaria Hives</td>\n",
       "      <td>Dermatographism</td>\n",
       "      <td>NaN</td>\n",
       "      <td>Raised, inflamed lines where you scratched.\\nW...</td>\n",
       "      <td>NaN</td>\n",
       "      <td>NaN</td>\n",
       "    </tr>\n",
       "    <tr>\n",
       "      <th>2</th>\n",
       "      <td>0</td>\n",
       "      <td>Urticaria Hives</td>\n",
       "      <td>Angiodema</td>\n",
       "      <td>https://www.mayoclinic.org/diseases-conditions...</td>\n",
       "      <td>Welts that form in minutes to hours\\nSwelling,...</td>\n",
       "      <td>NaN</td>\n",
       "      <td>NaN</td>\n",
       "    </tr>\n",
       "    <tr>\n",
       "      <th>3</th>\n",
       "      <td>0</td>\n",
       "      <td>Benign Tumors</td>\n",
       "      <td>Seborrheic Keratosis</td>\n",
       "      <td>https://www.mayoclinic.org/diseases-conditions...</td>\n",
       "      <td>A round or oval-shaped waxy or rough bump, typ...</td>\n",
       "      <td>NaN</td>\n",
       "      <td>NaN</td>\n",
       "    </tr>\n",
       "    <tr>\n",
       "      <th>4</th>\n",
       "      <td>0</td>\n",
       "      <td>Benign Tumors</td>\n",
       "      <td>Epidermal Cyst</td>\n",
       "      <td>https://www.mayoclinic.org/diseases-conditions...</td>\n",
       "      <td>\\nA small, round bump under the skin, usually ...</td>\n",
       "      <td>NaN</td>\n",
       "      <td>NaN</td>\n",
       "    </tr>\n",
       "  </tbody>\n",
       "</table>\n",
       "</div>"
      ],
      "text/plain": [
       "   Unnamed: 0          Disease               Keyword  \\\n",
       "0           0  Urticaria Hives             Urticaria   \n",
       "1           0  Urticaria Hives       Dermatographism   \n",
       "2           0  Urticaria Hives             Angiodema   \n",
       "3           0    Benign Tumors  Seborrheic Keratosis   \n",
       "4           0    Benign Tumors        Epidermal Cyst   \n",
       "\n",
       "                                             Website  \\\n",
       "0  https://www.mayoclinic.org/diseases-conditions...   \n",
       "1                                                NaN   \n",
       "2  https://www.mayoclinic.org/diseases-conditions...   \n",
       "3  https://www.mayoclinic.org/diseases-conditions...   \n",
       "4  https://www.mayoclinic.org/diseases-conditions...   \n",
       "\n",
       "                                            Symptoms Unnamed: 5 Unnamed: 6  \n",
       "0  Batches of welts (wheals) that can arise anywh...        NaN        NaN  \n",
       "1  Raised, inflamed lines where you scratched.\\nW...        NaN        NaN  \n",
       "2  Welts that form in minutes to hours\\nSwelling,...        NaN        NaN  \n",
       "3  A round or oval-shaped waxy or rough bump, typ...        NaN        NaN  \n",
       "4  \\nA small, round bump under the skin, usually ...        NaN        NaN  "
      ]
     },
     "execution_count": 13,
     "metadata": {},
     "output_type": "execute_result"
    }
   ],
   "source": [
    "# Load your dataset\n",
    "data = pd.read_csv(\"../data/scraped_data.csv\",encoding = 'unicode_escape')\n",
    "data.head()"
   ]
  },
  {
   "cell_type": "code",
   "execution_count": 14,
   "metadata": {},
   "outputs": [
    {
     "data": {
      "text/html": [
       "<div>\n",
       "<style scoped>\n",
       "    .dataframe tbody tr th:only-of-type {\n",
       "        vertical-align: middle;\n",
       "    }\n",
       "\n",
       "    .dataframe tbody tr th {\n",
       "        vertical-align: top;\n",
       "    }\n",
       "\n",
       "    .dataframe thead th {\n",
       "        text-align: right;\n",
       "    }\n",
       "</style>\n",
       "<table border=\"1\" class=\"dataframe\">\n",
       "  <thead>\n",
       "    <tr style=\"text-align: right;\">\n",
       "      <th></th>\n",
       "      <th>Disease</th>\n",
       "      <th>Symptoms</th>\n",
       "    </tr>\n",
       "  </thead>\n",
       "  <tbody>\n",
       "    <tr>\n",
       "      <th>0</th>\n",
       "      <td>Urticaria Hives</td>\n",
       "      <td>Batches of welts (wheals) that can arise anywh...</td>\n",
       "    </tr>\n",
       "    <tr>\n",
       "      <th>1</th>\n",
       "      <td>Urticaria Hives</td>\n",
       "      <td>Raised, inflamed lines where you scratched.\\nW...</td>\n",
       "    </tr>\n",
       "    <tr>\n",
       "      <th>2</th>\n",
       "      <td>Urticaria Hives</td>\n",
       "      <td>Welts that form in minutes to hours\\nSwelling,...</td>\n",
       "    </tr>\n",
       "    <tr>\n",
       "      <th>3</th>\n",
       "      <td>Benign Tumors</td>\n",
       "      <td>A round or oval-shaped waxy or rough bump, typ...</td>\n",
       "    </tr>\n",
       "    <tr>\n",
       "      <th>4</th>\n",
       "      <td>Benign Tumors</td>\n",
       "      <td>\\nA small, round bump under the skin, usually ...</td>\n",
       "    </tr>\n",
       "    <tr>\n",
       "      <th>...</th>\n",
       "      <td>...</td>\n",
       "      <td>...</td>\n",
       "    </tr>\n",
       "    <tr>\n",
       "      <th>2347</th>\n",
       "      <td>Vasculitis</td>\n",
       "      <td>rash of raised red or purple spots. The spots...</td>\n",
       "    </tr>\n",
       "    <tr>\n",
       "      <th>2348</th>\n",
       "      <td>Vasculitis</td>\n",
       "      <td>Granuloma annulare mainly affects children, te...</td>\n",
       "    </tr>\n",
       "    <tr>\n",
       "      <th>2349</th>\n",
       "      <td>Vasculitis</td>\n",
       "      <td>red or blue coloured blotches on white skin, a...</td>\n",
       "    </tr>\n",
       "    <tr>\n",
       "      <th>2350</th>\n",
       "      <td>Vasculitis</td>\n",
       "      <td>Pyoderma gangrenosum often appears suddenly as...</td>\n",
       "    </tr>\n",
       "    <tr>\n",
       "      <th>2351</th>\n",
       "      <td>Vasculitis</td>\n",
       "      <td>Stevens-Johnson syndrome can start with flu-li...</td>\n",
       "    </tr>\n",
       "  </tbody>\n",
       "</table>\n",
       "<p>2211 rows × 2 columns</p>\n",
       "</div>"
      ],
      "text/plain": [
       "              Disease                                           Symptoms\n",
       "0     Urticaria Hives  Batches of welts (wheals) that can arise anywh...\n",
       "1     Urticaria Hives  Raised, inflamed lines where you scratched.\\nW...\n",
       "2     Urticaria Hives  Welts that form in minutes to hours\\nSwelling,...\n",
       "3       Benign Tumors  A round or oval-shaped waxy or rough bump, typ...\n",
       "4       Benign Tumors  \\nA small, round bump under the skin, usually ...\n",
       "...               ...                                                ...\n",
       "2347       Vasculitis   rash of raised red or purple spots. The spots...\n",
       "2348       Vasculitis  Granuloma annulare mainly affects children, te...\n",
       "2349       Vasculitis  red or blue coloured blotches on white skin, a...\n",
       "2350       Vasculitis  Pyoderma gangrenosum often appears suddenly as...\n",
       "2351       Vasculitis  Stevens-Johnson syndrome can start with flu-li...\n",
       "\n",
       "[2211 rows x 2 columns]"
      ]
     },
     "execution_count": 14,
     "metadata": {},
     "output_type": "execute_result"
    }
   ],
   "source": [
    "df = data[['Disease','Symptoms']]\n",
    "df.dropna()"
   ]
  },
  {
   "cell_type": "code",
   "execution_count": 15,
   "metadata": {},
   "outputs": [],
   "source": [
    "df['Disease'].unique()\n",
    "cat = ['Atopic Dermatitis','Lupus and other Connective Tissue diseases','Scabies Lyme Diease and other Infestations and Bites','Benign Tumors']\n",
    "df= df[df['Disease'].isin(cat)]\n"
   ]
  },
  {
   "cell_type": "code",
   "execution_count": 26,
   "metadata": {},
   "outputs": [
    {
     "data": {
      "text/html": [
       "<div>\n",
       "<style scoped>\n",
       "    .dataframe tbody tr th:only-of-type {\n",
       "        vertical-align: middle;\n",
       "    }\n",
       "\n",
       "    .dataframe tbody tr th {\n",
       "        vertical-align: top;\n",
       "    }\n",
       "\n",
       "    .dataframe thead th {\n",
       "        text-align: right;\n",
       "    }\n",
       "</style>\n",
       "<table border=\"1\" class=\"dataframe\">\n",
       "  <thead>\n",
       "    <tr style=\"text-align: right;\">\n",
       "      <th></th>\n",
       "      <th>Symptoms</th>\n",
       "    </tr>\n",
       "    <tr>\n",
       "      <th>Disease</th>\n",
       "      <th></th>\n",
       "    </tr>\n",
       "  </thead>\n",
       "  <tbody>\n",
       "    <tr>\n",
       "      <th>Atopic Dermatitis</th>\n",
       "      <td>160</td>\n",
       "    </tr>\n",
       "    <tr>\n",
       "      <th>Benign Tumors</th>\n",
       "      <td>41</td>\n",
       "    </tr>\n",
       "    <tr>\n",
       "      <th>Lupus and other Connective Tissue diseases</th>\n",
       "      <td>85</td>\n",
       "    </tr>\n",
       "    <tr>\n",
       "      <th>Scabies Lyme Diease and other Infestations and Bites</th>\n",
       "      <td>127</td>\n",
       "    </tr>\n",
       "  </tbody>\n",
       "</table>\n",
       "</div>"
      ],
      "text/plain": [
       "                                                    Symptoms\n",
       "Disease                                                     \n",
       "Atopic Dermatitis                                        160\n",
       "Benign Tumors                                             41\n",
       "Lupus and other Connective Tissue diseases                85\n",
       "Scabies Lyme Diease and other Infestations and ...       127"
      ]
     },
     "execution_count": 26,
     "metadata": {},
     "output_type": "execute_result"
    }
   ],
   "source": [
    "df.groupby(df['Disease']).count()"
   ]
  },
  {
   "cell_type": "code",
   "execution_count": 16,
   "metadata": {},
   "outputs": [],
   "source": [
    "df['Symptoms'] = df['Symptoms'].str.lower()  # Convert to lower case\n",
    "df['Symptoms'] = df['Symptoms'].str.replace('[^\\w\\s]', '')  # Remove punctuation\n",
    "df['Symptoms'] = df['Symptoms'].str.replace('\\n', ' ')  # Remove punctuation\n",
    "\n",
    "# Split the dataset into features and labels\n",
    "X = df['Symptoms']  # Features (text data)\n",
    "y = df['Disease']     # Labels (class for each text entry)\n",
    "label_encoder = LabelEncoder()\n",
    "y_encoded = label_encoder.fit_transform(y)"
   ]
  },
  {
   "cell_type": "code",
   "execution_count": 17,
   "metadata": {},
   "outputs": [
    {
     "data": {
      "text/plain": [
       "array(['Benign Tumors', 'Lupus and other Connective Tissue diseases',\n",
       "       'Scabies Lyme Diease and other Infestations and Bites',\n",
       "       'Atopic Dermatitis'], dtype=object)"
      ]
     },
     "execution_count": 17,
     "metadata": {},
     "output_type": "execute_result"
    }
   ],
   "source": [
    "df['Disease'].unique()"
   ]
  },
  {
   "cell_type": "code",
   "execution_count": 18,
   "metadata": {},
   "outputs": [],
   "source": [
    "X_train, X_test, y_train, y_test = train_test_split(X, y_encoded, test_size=0.2, random_state=42)\n"
   ]
  },
  {
   "cell_type": "code",
   "execution_count": 19,
   "metadata": {},
   "outputs": [
    {
     "data": {
      "text/plain": [
       "(90,)"
      ]
     },
     "execution_count": 19,
     "metadata": {},
     "output_type": "execute_result"
    }
   ],
   "source": [
    "X_test.shape"
   ]
  },
  {
   "cell_type": "code",
   "execution_count": 20,
   "metadata": {},
   "outputs": [
    {
     "data": {
      "text/plain": [
       "(356,)"
      ]
     },
     "execution_count": 20,
     "metadata": {},
     "output_type": "execute_result"
    }
   ],
   "source": [
    "X_train.shape"
   ]
  },
  {
   "cell_type": "code",
   "execution_count": 52,
   "metadata": {},
   "outputs": [],
   "source": [
    "vectorizer = TfidfVectorizer(max_features=810)\n",
    "X_train_vectors = vectorizer.fit_transform(X_train.values.astype('U'))\n",
    "X_test_vectors = vectorizer.transform(X_test.values.astype('U'))"
   ]
  },
  {
   "cell_type": "code",
   "execution_count": 53,
   "metadata": {},
   "outputs": [
    {
     "data": {
      "text/plain": [
       "<90x810 sparse matrix of type '<class 'numpy.float64'>'\n",
       "\twith 4943 stored elements in Compressed Sparse Row format>"
      ]
     },
     "execution_count": 53,
     "metadata": {},
     "output_type": "execute_result"
    }
   ],
   "source": [
    "X_test_vectors"
   ]
  },
  {
   "cell_type": "code",
   "execution_count": 54,
   "metadata": {},
   "outputs": [],
   "source": [
    "from sklearn.naive_bayes import MultinomialNB\n",
    "from sklearn.linear_model import LogisticRegression\n",
    "from sklearn import svm"
   ]
  },
  {
   "cell_type": "code",
   "execution_count": 55,
   "metadata": {},
   "outputs": [],
   "source": [
    "svmmodel = svm.SVC(kernel='linear', probability=True)  # SVC is often a good starting point"
   ]
  },
  {
   "cell_type": "code",
   "execution_count": 56,
   "metadata": {},
   "outputs": [
    {
     "data": {
      "text/html": [
       "<style>#sk-container-id-3 {color: black;}#sk-container-id-3 pre{padding: 0;}#sk-container-id-3 div.sk-toggleable {background-color: white;}#sk-container-id-3 label.sk-toggleable__label {cursor: pointer;display: block;width: 100%;margin-bottom: 0;padding: 0.3em;box-sizing: border-box;text-align: center;}#sk-container-id-3 label.sk-toggleable__label-arrow:before {content: \"▸\";float: left;margin-right: 0.25em;color: #696969;}#sk-container-id-3 label.sk-toggleable__label-arrow:hover:before {color: black;}#sk-container-id-3 div.sk-estimator:hover label.sk-toggleable__label-arrow:before {color: black;}#sk-container-id-3 div.sk-toggleable__content {max-height: 0;max-width: 0;overflow: hidden;text-align: left;background-color: #f0f8ff;}#sk-container-id-3 div.sk-toggleable__content pre {margin: 0.2em;color: black;border-radius: 0.25em;background-color: #f0f8ff;}#sk-container-id-3 input.sk-toggleable__control:checked~div.sk-toggleable__content {max-height: 200px;max-width: 100%;overflow: auto;}#sk-container-id-3 input.sk-toggleable__control:checked~label.sk-toggleable__label-arrow:before {content: \"▾\";}#sk-container-id-3 div.sk-estimator input.sk-toggleable__control:checked~label.sk-toggleable__label {background-color: #d4ebff;}#sk-container-id-3 div.sk-label input.sk-toggleable__control:checked~label.sk-toggleable__label {background-color: #d4ebff;}#sk-container-id-3 input.sk-hidden--visually {border: 0;clip: rect(1px 1px 1px 1px);clip: rect(1px, 1px, 1px, 1px);height: 1px;margin: -1px;overflow: hidden;padding: 0;position: absolute;width: 1px;}#sk-container-id-3 div.sk-estimator {font-family: monospace;background-color: #f0f8ff;border: 1px dotted black;border-radius: 0.25em;box-sizing: border-box;margin-bottom: 0.5em;}#sk-container-id-3 div.sk-estimator:hover {background-color: #d4ebff;}#sk-container-id-3 div.sk-parallel-item::after {content: \"\";width: 100%;border-bottom: 1px solid gray;flex-grow: 1;}#sk-container-id-3 div.sk-label:hover label.sk-toggleable__label {background-color: #d4ebff;}#sk-container-id-3 div.sk-serial::before {content: \"\";position: absolute;border-left: 1px solid gray;box-sizing: border-box;top: 0;bottom: 0;left: 50%;z-index: 0;}#sk-container-id-3 div.sk-serial {display: flex;flex-direction: column;align-items: center;background-color: white;padding-right: 0.2em;padding-left: 0.2em;position: relative;}#sk-container-id-3 div.sk-item {position: relative;z-index: 1;}#sk-container-id-3 div.sk-parallel {display: flex;align-items: stretch;justify-content: center;background-color: white;position: relative;}#sk-container-id-3 div.sk-item::before, #sk-container-id-3 div.sk-parallel-item::before {content: \"\";position: absolute;border-left: 1px solid gray;box-sizing: border-box;top: 0;bottom: 0;left: 50%;z-index: -1;}#sk-container-id-3 div.sk-parallel-item {display: flex;flex-direction: column;z-index: 1;position: relative;background-color: white;}#sk-container-id-3 div.sk-parallel-item:first-child::after {align-self: flex-end;width: 50%;}#sk-container-id-3 div.sk-parallel-item:last-child::after {align-self: flex-start;width: 50%;}#sk-container-id-3 div.sk-parallel-item:only-child::after {width: 0;}#sk-container-id-3 div.sk-dashed-wrapped {border: 1px dashed gray;margin: 0 0.4em 0.5em 0.4em;box-sizing: border-box;padding-bottom: 0.4em;background-color: white;}#sk-container-id-3 div.sk-label label {font-family: monospace;font-weight: bold;display: inline-block;line-height: 1.2em;}#sk-container-id-3 div.sk-label-container {text-align: center;}#sk-container-id-3 div.sk-container {/* jupyter's `normalize.less` sets `[hidden] { display: none; }` but bootstrap.min.css set `[hidden] { display: none !important; }` so we also need the `!important` here to be able to override the default hidden behavior on the sphinx rendered scikit-learn.org. See: https://github.com/scikit-learn/scikit-learn/issues/21755 */display: inline-block !important;position: relative;}#sk-container-id-3 div.sk-text-repr-fallback {display: none;}</style><div id=\"sk-container-id-3\" class=\"sk-top-container\"><div class=\"sk-text-repr-fallback\"><pre>SVC(kernel=&#x27;linear&#x27;, probability=True)</pre><b>In a Jupyter environment, please rerun this cell to show the HTML representation or trust the notebook. <br />On GitHub, the HTML representation is unable to render, please try loading this page with nbviewer.org.</b></div><div class=\"sk-container\" hidden><div class=\"sk-item\"><div class=\"sk-estimator sk-toggleable\"><input class=\"sk-toggleable__control sk-hidden--visually\" id=\"sk-estimator-id-3\" type=\"checkbox\" checked><label for=\"sk-estimator-id-3\" class=\"sk-toggleable__label sk-toggleable__label-arrow\">SVC</label><div class=\"sk-toggleable__content\"><pre>SVC(kernel=&#x27;linear&#x27;, probability=True)</pre></div></div></div></div></div>"
      ],
      "text/plain": [
       "SVC(kernel='linear', probability=True)"
      ]
     },
     "execution_count": 56,
     "metadata": {},
     "output_type": "execute_result"
    }
   ],
   "source": [
    "svmmodel.fit(X_train_vectors, y_train)\n"
   ]
  },
  {
   "cell_type": "code",
   "execution_count": 57,
   "metadata": {},
   "outputs": [
    {
     "name": "stdout",
     "output_type": "stream",
     "text": [
      "Accuracy: 0.9333333333333333\n",
      "                                                       precision    recall  f1-score   support\n",
      "\n",
      "                             Atopic Dermatitis Photos       1.00      0.92      0.96        38\n",
      "           Lupus and other Connective Tissue diseases       0.80      0.80      0.80         5\n",
      "Scabies Lyme Disease and other Infestations and Bites       0.94      0.88      0.91        17\n",
      "         Seborrheic Keratoses and other Benign Tumors       0.88      1.00      0.94        30\n",
      "\n",
      "                                             accuracy                           0.93        90\n",
      "                                            macro avg       0.90      0.90      0.90        90\n",
      "                                         weighted avg       0.94      0.93      0.93        90\n",
      "\n"
     ]
    }
   ],
   "source": [
    "from sklearn.metrics import classification_report, accuracy_score\n",
    "\n",
    "# Predict the labels for the test set\n",
    "y_pred = svmmodel.predict(X_test_vectors)\n",
    "\n",
    "# Evaluate the model\n",
    "print(f'Accuracy: {accuracy_score(y_test, y_pred)}')\n",
    "print(classification_report(y_test, y_pred, target_names=label_encoder.classes_))\n"
   ]
  },
  {
   "cell_type": "code",
   "execution_count": 29,
   "metadata": {},
   "outputs": [
    {
     "data": {
      "text/plain": [
       "array([[0.16569665, 0.39957295, 0.16356871, 0.27116169],\n",
       "       [0.89218119, 0.02286193, 0.03327834, 0.05167855],\n",
       "       [0.0464954 , 0.00928367, 0.03354228, 0.91067865],\n",
       "       [0.10272886, 0.0905345 , 0.07850627, 0.72823037],\n",
       "       [0.02191483, 0.0085422 , 0.04559478, 0.92394819],\n",
       "       [0.91133876, 0.01544534, 0.02382494, 0.04939096],\n",
       "       [0.07612868, 0.01135808, 0.06984406, 0.84266918],\n",
       "       [0.91743287, 0.03241195, 0.01620599, 0.03394919],\n",
       "       [0.92588936, 0.01350514, 0.0117407 , 0.04886479],\n",
       "       [0.13336709, 0.01438436, 0.78626175, 0.06598681],\n",
       "       [0.02418568, 0.01290849, 0.94482714, 0.01807869],\n",
       "       [0.79727914, 0.05550757, 0.07667814, 0.07053514],\n",
       "       [0.8811127 , 0.05647625, 0.02882919, 0.03358186],\n",
       "       [0.02370131, 0.01454114, 0.94265373, 0.01910383],\n",
       "       [0.70861054, 0.03947763, 0.12835789, 0.12355395],\n",
       "       [0.84537281, 0.08507208, 0.01817848, 0.05137664],\n",
       "       [0.73068549, 0.06489209, 0.11675375, 0.08766867],\n",
       "       [0.90239632, 0.01612098, 0.03082739, 0.05065531],\n",
       "       [0.10217657, 0.8566998 , 0.01774681, 0.02337682],\n",
       "       [0.91133876, 0.01544534, 0.02382494, 0.04939096],\n",
       "       [0.02613689, 0.00800513, 0.95077452, 0.01508346],\n",
       "       [0.01204412, 0.00735843, 0.96873372, 0.01186373],\n",
       "       [0.88849793, 0.05492602, 0.01525997, 0.04131608],\n",
       "       [0.13811649, 0.70305235, 0.08979108, 0.06904007],\n",
       "       [0.05439507, 0.01173426, 0.0117389 , 0.92213177],\n",
       "       [0.89218119, 0.02286193, 0.03327834, 0.05167855],\n",
       "       [0.02776751, 0.03090542, 0.04160466, 0.89972241],\n",
       "       [0.91743287, 0.03241195, 0.01620599, 0.03394919],\n",
       "       [0.30631203, 0.12377792, 0.37371006, 0.19619999],\n",
       "       [0.70109947, 0.1152993 , 0.08369177, 0.09990947],\n",
       "       [0.89036135, 0.04000037, 0.01235527, 0.05728301],\n",
       "       [0.87702513, 0.03371308, 0.04131252, 0.04794926],\n",
       "       [0.15275584, 0.03734613, 0.0710641 , 0.73883393],\n",
       "       [0.02021415, 0.00641494, 0.96458872, 0.0087822 ],\n",
       "       [0.18787469, 0.05452069, 0.04883737, 0.70876725],\n",
       "       [0.12203895, 0.01533848, 0.39607007, 0.46655249],\n",
       "       [0.03352846, 0.00978289, 0.94610742, 0.01058123],\n",
       "       [0.89711174, 0.02229881, 0.02884377, 0.05174569],\n",
       "       [0.8811127 , 0.05647625, 0.02882919, 0.03358186],\n",
       "       [0.0309284 , 0.00554495, 0.00987243, 0.95365422],\n",
       "       [0.0309284 , 0.00554495, 0.00987243, 0.95365422],\n",
       "       [0.88862957, 0.02715566, 0.04436473, 0.03985004],\n",
       "       [0.16729987, 0.02489893, 0.11487617, 0.69292503],\n",
       "       [0.87702513, 0.03371308, 0.04131252, 0.04794926],\n",
       "       [0.05860715, 0.03603264, 0.01514429, 0.89021592],\n",
       "       [0.92588936, 0.01350514, 0.0117407 , 0.04886479],\n",
       "       [0.07970253, 0.03839677, 0.8110641 , 0.0708366 ],\n",
       "       [0.87259078, 0.04385319, 0.03442208, 0.04913395],\n",
       "       [0.91743287, 0.03241195, 0.01620599, 0.03394919],\n",
       "       [0.96472864, 0.00779432, 0.00680459, 0.02067245],\n",
       "       [0.24604246, 0.1761424 , 0.22508856, 0.35272658],\n",
       "       [0.84473081, 0.03893261, 0.0391649 , 0.07717168],\n",
       "       [0.16611304, 0.03796977, 0.03367804, 0.76223915],\n",
       "       [0.02371872, 0.01162657, 0.94636408, 0.01829064],\n",
       "       [0.02105313, 0.00620109, 0.96613609, 0.0066097 ],\n",
       "       [0.23786059, 0.35382162, 0.12269245, 0.28562533],\n",
       "       [0.13514953, 0.0517606 , 0.27184419, 0.54124568],\n",
       "       [0.08037257, 0.01715254, 0.17010541, 0.73236948],\n",
       "       [0.09405223, 0.01904059, 0.06769325, 0.81921393],\n",
       "       [0.05143704, 0.91439963, 0.0157324 , 0.01843093],\n",
       "       [0.02899175, 0.01519517, 0.09935854, 0.85645454],\n",
       "       [0.05493203, 0.08008432, 0.03944216, 0.82554149],\n",
       "       [0.94610979, 0.01313705, 0.01971712, 0.02103604],\n",
       "       [0.37888652, 0.07735256, 0.26885933, 0.27490159],\n",
       "       [0.0428031 , 0.01099417, 0.90717062, 0.03903211],\n",
       "       [0.87702513, 0.03371308, 0.04131252, 0.04794926],\n",
       "       [0.04927126, 0.10264925, 0.04494614, 0.80313335],\n",
       "       [0.02448261, 0.00826654, 0.04819676, 0.91905409],\n",
       "       [0.02799774, 0.01863934, 0.06441992, 0.888943  ],\n",
       "       [0.02126911, 0.01256733, 0.94599687, 0.02016668],\n",
       "       [0.96472864, 0.00779432, 0.00680459, 0.02067245],\n",
       "       [0.03066324, 0.02131879, 0.02055336, 0.9274646 ],\n",
       "       [0.03844998, 0.01650354, 0.03362131, 0.91142517],\n",
       "       [0.02418568, 0.01290849, 0.94482714, 0.01807869],\n",
       "       [0.93453142, 0.0271924 , 0.01557797, 0.02269821],\n",
       "       [0.0582881 , 0.02170288, 0.032596  , 0.88741302],\n",
       "       [0.06420993, 0.76356814, 0.09292567, 0.07929625],\n",
       "       [0.05772153, 0.02723235, 0.87099073, 0.04405539],\n",
       "       [0.87561701, 0.04596243, 0.02745367, 0.05096688],\n",
       "       [0.02019034, 0.00702292, 0.01759312, 0.95519362],\n",
       "       [0.0103801 , 0.00885196, 0.04484309, 0.93592484],\n",
       "       [0.0342544 , 0.03694594, 0.02357672, 0.90522294],\n",
       "       [0.23743439, 0.47254565, 0.11459158, 0.17542839],\n",
       "       [0.8188316 , 0.01982911, 0.04263008, 0.11870921],\n",
       "       [0.42339102, 0.05399748, 0.10805593, 0.41455556],\n",
       "       [0.60761465, 0.03965811, 0.2321769 , 0.12055034],\n",
       "       [0.92588936, 0.01350514, 0.0117407 , 0.04886479],\n",
       "       [0.04923612, 0.01752485, 0.90592656, 0.02731247],\n",
       "       [0.87702513, 0.03371308, 0.04131252, 0.04794926],\n",
       "       [0.30178267, 0.33444834, 0.12711673, 0.23665226]])"
      ]
     },
     "execution_count": 29,
     "metadata": {},
     "output_type": "execute_result"
    }
   ],
   "source": [
    "text_probabilities = svmmodel.predict_proba(X_test_vectors)\n",
    "text_probabilities"
   ]
  },
  {
   "cell_type": "markdown",
   "metadata": {},
   "source": [
    "# CNN Model"
   ]
  },
  {
   "cell_type": "code",
   "execution_count": 1,
   "metadata": {},
   "outputs": [
    {
     "name": "stderr",
     "output_type": "stream",
     "text": [
      "2023-11-04 23:06:57.956743: I tensorflow/core/platform/cpu_feature_guard.cc:182] This TensorFlow binary is optimized to use available CPU instructions in performance-critical operations.\n",
      "To enable the following instructions: SSE4.1 SSE4.2 AVX AVX2 FMA, in other operations, rebuild TensorFlow with the appropriate compiler flags.\n"
     ]
    }
   ],
   "source": [
    "import os\n",
    "import cv2\n",
    "import numpy as np\n",
    "import matplotlib.pyplot as plt\n",
    "import pandas as pd\n",
    "# CNN libraries\n",
    "import tensorflow as tf\n",
    "from tensorflow.keras import layers, models\n",
    "from tensorflow.keras.preprocessing.image import ImageDataGenerator"
   ]
  },
  {
   "cell_type": "code",
   "execution_count": 2,
   "metadata": {},
   "outputs": [],
   "source": [
    "train_data = \"../data/images/dermnet/train1\"\n",
    "test_data = \"../data/images/dermnet/test1/\""
   ]
  },
  {
   "cell_type": "code",
   "execution_count": 3,
   "metadata": {},
   "outputs": [
    {
     "name": "stdout",
     "output_type": "stream",
     "text": [
      "Found 2711 images belonging to 4 classes.\n",
      "Found 679 images belonging to 4 classes.\n"
     ]
    }
   ],
   "source": [
    "# Preprocess\n",
    "input_shape = (224, 224, 3) \n",
    "num_classes = 4\n",
    "\n",
    "train_datagen = ImageDataGenerator(rescale=1./255)\n",
    "validation_datagen = ImageDataGenerator(rescale=1./255)\n",
    "\n",
    "train_generator = train_datagen.flow_from_directory(\n",
    "        train_data,\n",
    "        target_size=input_shape[:2],\n",
    "        batch_size=32,\n",
    "        class_mode='categorical')\n",
    "\n",
    "validation_generator = validation_datagen.flow_from_directory(\n",
    "        test_data,\n",
    "        target_size=input_shape[:2],\n",
    "        batch_size=32,\n",
    "        class_mode='categorical')"
   ]
  },
  {
   "cell_type": "code",
   "execution_count": 4,
   "metadata": {},
   "outputs": [],
   "source": [
    "def build_model(input_shape, num_classes):\n",
    "    model = models.Sequential()\n",
    "    model.add(layers.Conv2D(32, (3, 3), activation='relu', input_shape=input_shape))\n",
    "    model.add(layers.MaxPooling2D((2, 2)))\n",
    "    model.add(layers.Conv2D(64, (3, 3), activation='relu'))\n",
    "    model.add(layers.MaxPooling2D((2, 2)))\n",
    "    model.add(layers.Conv2D(64, (3, 3), activation='relu'))\n",
    "    model.add(layers.Flatten())\n",
    "    model.add(layers.Dense(64, activation='relu'))\n",
    "    model.add(layers.Dense(num_classes, activation='softmax'))\n",
    "    return model"
   ]
  },
  {
   "cell_type": "code",
   "execution_count": 5,
   "metadata": {},
   "outputs": [],
   "source": [
    "model = build_model(input_shape, num_classes)\n",
    "model.compile(optimizer='adam', loss='categorical_crossentropy', metrics=['accuracy'])"
   ]
  },
  {
   "cell_type": "code",
   "execution_count": 7,
   "metadata": {},
   "outputs": [
    {
     "name": "stdout",
     "output_type": "stream",
     "text": [
      "Epoch 1/10\n"
     ]
    },
    {
     "name": "stderr",
     "output_type": "stream",
     "text": [
      "2023-11-04 23:08:30.636705: I tensorflow/core/common_runtime/executor.cc:1197] [/device:CPU:0] (DEBUG INFO) Executor start aborting (this does not indicate an error and you can ignore this message): INVALID_ARGUMENT: You must feed a value for placeholder tensor 'Placeholder/_0' with dtype int32\n",
      "\t [[{{node Placeholder/_0}}]]\n"
     ]
    },
    {
     "name": "stdout",
     "output_type": "stream",
     "text": [
      "50/50 [==============================] - ETA: 0s - loss: 1.2004 - accuracy: 0.5167"
     ]
    },
    {
     "name": "stderr",
     "output_type": "stream",
     "text": [
      "2023-11-04 23:09:35.577110: I tensorflow/core/common_runtime/executor.cc:1197] [/device:CPU:0] (DEBUG INFO) Executor start aborting (this does not indicate an error and you can ignore this message): INVALID_ARGUMENT: You must feed a value for placeholder tensor 'Placeholder/_0' with dtype int32\n",
      "\t [[{{node Placeholder/_0}}]]\n"
     ]
    },
    {
     "name": "stdout",
     "output_type": "stream",
     "text": [
      "WARNING:tensorflow:Your input ran out of data; interrupting training. Make sure that your dataset or generator can generate at least `steps_per_epoch * epochs` batches (in this case, 25 batches). You may need to use the repeat() function when building your dataset.\n",
      "50/50 [==============================] - 74s 1s/step - loss: 1.2004 - accuracy: 0.5167 - val_loss: 1.1667 - val_accuracy: 0.5302\n",
      "Epoch 2/10\n",
      "50/50 [==============================] - 56s 1s/step - loss: 1.1188 - accuracy: 0.5493\n",
      "Epoch 3/10\n",
      "50/50 [==============================] - 51s 1s/step - loss: 1.0693 - accuracy: 0.5908\n",
      "Epoch 4/10\n",
      "50/50 [==============================] - 54s 1s/step - loss: 1.0578 - accuracy: 0.5906\n",
      "Epoch 5/10\n",
      "50/50 [==============================] - 53s 1s/step - loss: 0.9691 - accuracy: 0.6235\n",
      "Epoch 6/10\n",
      "50/50 [==============================] - 48s 961ms/step - loss: 0.8840 - accuracy: 0.6644\n",
      "Epoch 7/10\n",
      "50/50 [==============================] - 50s 991ms/step - loss: 0.7645 - accuracy: 0.7075\n",
      "Epoch 8/10\n",
      "50/50 [==============================] - 50s 997ms/step - loss: 0.6715 - accuracy: 0.7569\n",
      "Epoch 9/10\n",
      "50/50 [==============================] - 50s 993ms/step - loss: 0.5763 - accuracy: 0.8014\n",
      "Epoch 10/10\n",
      "50/50 [==============================] - 50s 996ms/step - loss: 0.5359 - accuracy: 0.8114\n"
     ]
    }
   ],
   "source": [
    "history = model.fit(\n",
    "      train_generator,\n",
    "      steps_per_epoch=50, \n",
    "      epochs=10,\n",
    "      validation_data=validation_generator,\n",
    "      validation_steps=25)"
   ]
  },
  {
   "cell_type": "code",
   "execution_count": 8,
   "metadata": {},
   "outputs": [
    {
     "name": "stderr",
     "output_type": "stream",
     "text": [
      "2023-11-04 23:40:56.760053: I tensorflow/core/common_runtime/executor.cc:1197] [/device:CPU:0] (DEBUG INFO) Executor start aborting (this does not indicate an error and you can ignore this message): INVALID_ARGUMENT: You must feed a value for placeholder tensor 'Placeholder/_0' with dtype int32\n",
      "\t [[{{node Placeholder/_0}}]]\n"
     ]
    },
    {
     "name": "stdout",
     "output_type": "stream",
     "text": [
      "22/25 [=========================>....] - ETA: 1s - loss: 1.5017 - accuracy: 0.5464WARNING:tensorflow:Your input ran out of data; interrupting training. Make sure that your dataset or generator can generate at least `steps_per_epoch * epochs` batches (in this case, 25 batches). You may need to use the repeat() function when building your dataset.\n",
      "25/25 [==============================] - 11s 415ms/step - loss: 1.5017 - accuracy: 0.5464\n",
      "\n",
      "Test accuracy: 0.5463917255401611\n"
     ]
    }
   ],
   "source": [
    "test_loss, test_acc = model.evaluate(validation_generator, steps=25)\n",
    "print('\\nTest accuracy:', test_acc)"
   ]
  },
  {
   "cell_type": "code",
   "execution_count": 10,
   "metadata": {},
   "outputs": [
    {
     "name": "stderr",
     "output_type": "stream",
     "text": [
      "2023-11-04 23:44:10.495731: I tensorflow/core/common_runtime/executor.cc:1197] [/device:CPU:0] (DEBUG INFO) Executor start aborting (this does not indicate an error and you can ignore this message): INVALID_ARGUMENT: You must feed a value for placeholder tensor 'Placeholder/_0' with dtype int32\n",
      "\t [[{{node Placeholder/_0}}]]\n"
     ]
    },
    {
     "name": "stdout",
     "output_type": "stream",
     "text": [
      "22/22 [==============================] - 9s 410ms/step\n"
     ]
    }
   ],
   "source": [
    "image_probabilities = model.predict(validation_generator)\n"
   ]
  },
  {
   "cell_type": "code",
   "execution_count": 11,
   "metadata": {},
   "outputs": [
    {
     "data": {
      "text/plain": [
       "array([[0.17795499, 0.14731216, 0.29345915, 0.38127375],\n",
       "       [0.0707379 , 0.0477184 , 0.29970348, 0.5818402 ],\n",
       "       [0.03478829, 0.13660417, 0.45125857, 0.37734893],\n",
       "       ...,\n",
       "       [0.02061159, 0.00706999, 0.11229225, 0.8600261 ],\n",
       "       [0.65240234, 0.05708424, 0.21682031, 0.07369312],\n",
       "       [0.725041  , 0.13644284, 0.11727757, 0.02123863]], dtype=float32)"
      ]
     },
     "execution_count": 11,
     "metadata": {},
     "output_type": "execute_result"
    }
   ],
   "source": [
    "image_probabilities"
   ]
  },
  {
   "cell_type": "markdown",
   "metadata": {},
   "source": [
    "# Combining models"
   ]
  },
  {
   "cell_type": "code",
   "execution_count": 30,
   "metadata": {},
   "outputs": [],
   "source": [
    "testdf = pd.read_csv(\"../data/test_symptoms_labelled.csv\")"
   ]
  },
  {
   "cell_type": "code",
   "execution_count": 36,
   "metadata": {},
   "outputs": [],
   "source": [
    "test_image_paths = testdf['Full Path']\n",
    "test_symptoms = testdf['Symptoms']"
   ]
  },
  {
   "cell_type": "code",
   "execution_count": 37,
   "metadata": {},
   "outputs": [],
   "source": [
    "# preprocess test text\n",
    "test_symptoms = test_symptoms.str.lower()  # Convert to lower case\n",
    "test_symptoms = test_symptoms.str.replace('[^\\w\\s]', '')  # Remove punctuation\n",
    "test_symptoms = test_symptoms.str.replace('\\n', ' ')  # Remove break"
   ]
  },
  {
   "cell_type": "code",
   "execution_count": 32,
   "metadata": {},
   "outputs": [
    {
     "name": "stdout",
     "output_type": "stream",
     "text": [
      "Found 679 images belonging to 4 classes.\n"
     ]
    }
   ],
   "source": [
    "validation_generator = validation_datagen.flow_from_directory(\n",
    "        test_data,\n",
    "        target_size=input_shape[:2],\n",
    "        batch_size=32,\n",
    "        class_mode='categorical')"
   ]
  },
  {
   "cell_type": "code",
   "execution_count": 38,
   "metadata": {},
   "outputs": [],
   "source": [
    "y = testdf['Label']     # Labels (class for each text entry)\n",
    "label_encoder = LabelEncoder()\n",
    "y_encoded = label_encoder.fit_transform(y)"
   ]
  },
  {
   "cell_type": "code",
   "execution_count": 58,
   "metadata": {},
   "outputs": [],
   "source": [
    "test_vector = vectorizer.fit_transform(test_symptoms.values.astype('U'))\n"
   ]
  },
  {
   "cell_type": "code",
   "execution_count": 50,
   "metadata": {},
   "outputs": [
    {
     "data": {
      "text/plain": [
       "<679x810 sparse matrix of type '<class 'numpy.float64'>'\n",
       "\twith 6245 stored elements in Compressed Sparse Row format>"
      ]
     },
     "execution_count": 50,
     "metadata": {},
     "output_type": "execute_result"
    }
   ],
   "source": [
    "test_vector"
   ]
  },
  {
   "cell_type": "code",
   "execution_count": 60,
   "metadata": {},
   "outputs": [
    {
     "name": "stdout",
     "output_type": "stream",
     "text": [
      "Accuracy: 0.4374079528718704\n",
      "                                                       precision    recall  f1-score   support\n",
      "\n",
      "                             Atopic Dermatitis Photos       0.17      0.15      0.16       123\n",
      "           Lupus and other Connective Tissue diseases       0.75      0.03      0.06       105\n",
      "Scabies Lyme Disease and other Infestations and Bites       0.10      0.06      0.07       108\n",
      "         Seborrheic Keratoses and other Benign Tumors       0.53      0.78      0.63       343\n",
      "\n",
      "                                             accuracy                           0.44       679\n",
      "                                            macro avg       0.39      0.26      0.23       679\n",
      "                                         weighted avg       0.43      0.44      0.37       679\n",
      "\n"
     ]
    }
   ],
   "source": [
    "# Predict the labels for the test set\n",
    "y_pred = svmmodel.predict(test_vector)\n",
    "\n",
    "# Evaluate the model\n",
    "print(f'Accuracy: {accuracy_score(y_encoded, y_pred)}')\n",
    "print(classification_report(y_encoded, y_pred, target_names=label_encoder.classes_))\n"
   ]
  },
  {
   "cell_type": "code",
   "execution_count": 64,
   "metadata": {},
   "outputs": [
    {
     "data": {
      "text/plain": [
       "679"
      ]
     },
     "execution_count": 64,
     "metadata": {},
     "output_type": "execute_result"
    }
   ],
   "source": [
    "text_probabilities = svmmodel.predict_proba(test_vector)\n",
    "len(text_probabilities)"
   ]
  },
  {
   "cell_type": "code",
   "execution_count": 63,
   "metadata": {},
   "outputs": [
    {
     "data": {
      "text/plain": [
       "679"
      ]
     },
     "execution_count": 63,
     "metadata": {},
     "output_type": "execute_result"
    }
   ],
   "source": [
    "len(image_probabilities)"
   ]
  },
  {
   "cell_type": "code",
   "execution_count": 69,
   "metadata": {},
   "outputs": [
    {
     "name": "stdout",
     "output_type": "stream",
     "text": [
      "Accuracy: 0.3946980854197349\n",
      "                                                       precision    recall  f1-score   support\n",
      "\n",
      "                             Atopic Dermatitis Photos       0.17      0.14      0.15       123\n",
      "           Lupus and other Connective Tissue diseases       0.14      0.07      0.09       105\n",
      "Scabies Lyme Disease and other Infestations and Bites       0.07      0.04      0.05       108\n",
      "         Seborrheic Keratoses and other Benign Tumors       0.52      0.70      0.59       343\n",
      "\n",
      "                                             accuracy                           0.39       679\n",
      "                                            macro avg       0.22      0.24      0.22       679\n",
      "                                         weighted avg       0.32      0.39      0.35       679\n",
      "\n"
     ]
    }
   ],
   "source": [
    "# average\n",
    "combined_probabilities = (image_probabilities + text_probabilities) / 2\n",
    "y_pred = np.argmax(combined_probabilities, axis=1)\n",
    "print(f'Accuracy: {accuracy_score(y_encoded, y_pred)}')\n",
    "print(classification_report(y_encoded, y_pred, target_names=label_encoder.classes_))\n"
   ]
  },
  {
   "cell_type": "code",
   "execution_count": 74,
   "metadata": {},
   "outputs": [
    {
     "name": "stdout",
     "output_type": "stream",
     "text": [
      "Accuracy: 0.3799705449189985\n",
      "                                                       precision    recall  f1-score   support\n",
      "\n",
      "                             Atopic Dermatitis Photos       0.18      0.16      0.17       123\n",
      "           Lupus and other Connective Tissue diseases       0.15      0.10      0.12       105\n",
      "Scabies Lyme Disease and other Infestations and Bites       0.10      0.06      0.08       108\n",
      "         Seborrheic Keratoses and other Benign Tumors       0.52      0.64      0.57       343\n",
      "\n",
      "                                             accuracy                           0.38       679\n",
      "                                            macro avg       0.24      0.24      0.23       679\n",
      "                                         weighted avg       0.33      0.38      0.35       679\n",
      "\n"
     ]
    }
   ],
   "source": [
    "# weighted\n",
    "combined_probabilities = (0.8* image_probabilities + 0.2*text_probabilities)\n",
    "y_pred = np.argmax(combined_probabilities, axis=1)\n",
    "print(f'Accuracy: {accuracy_score(y_encoded, y_pred)}')\n",
    "print(classification_report(y_encoded, y_pred, target_names=label_encoder.classes_))\n"
   ]
  },
  {
   "cell_type": "code",
   "execution_count": 75,
   "metadata": {},
   "outputs": [],
   "source": [
    "from sklearn.linear_model import LogisticRegression\n",
    "\n",
    "stacked_probabilities = np.hstack((image_probabilities, text_probabilities))\n",
    "\n",
    "fusion_model = LogisticRegression().fit(stacked_probabilities, y_encoded)"
   ]
  },
  {
   "cell_type": "code",
   "execution_count": null,
   "metadata": {},
   "outputs": [],
   "source": []
  }
 ],
 "metadata": {
  "kernelspec": {
   "display_name": "dsa3101",
   "language": "python",
   "name": "python3"
  },
  "language_info": {
   "codemirror_mode": {
    "name": "ipython",
    "version": 3
   },
   "file_extension": ".py",
   "mimetype": "text/x-python",
   "name": "python",
   "nbconvert_exporter": "python",
   "pygments_lexer": "ipython3",
   "version": "3.11.3"
  }
 },
 "nbformat": 4,
 "nbformat_minor": 2
}
